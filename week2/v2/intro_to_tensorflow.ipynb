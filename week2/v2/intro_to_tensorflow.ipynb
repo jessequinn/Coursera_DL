{
 "cells": [
  {
   "cell_type": "markdown",
   "metadata": {
    "slideshow": {
     "slide_type": "slide"
    }
   },
   "source": [
    "# Intro to TensorFlow\n",
    "\n",
    "This notebook covers the basics of TF and shows you an animation with gradient descent trajectory.\n",
    "<img src=\"images/gradient_descent.png\" style=\"width:50%\">"
   ]
  },
  {
   "cell_type": "markdown",
   "metadata": {},
   "source": [
    "# TensorBoard"
   ]
  },
  {
   "cell_type": "markdown",
   "metadata": {},
   "source": [
    "**Plase note that if you are running on the Coursera platform, you won't be able to access the tensorboard instance due to the network setup there.**\n",
    "\n",
    "Run `tensorboard --logdir=./tensorboard_logs --port=7007` in bash.\n",
    "\n",
    "If you run the notebook locally, you should be able to access TensorBoard on http://127.0.0.1:7007/"
   ]
  },
  {
   "cell_type": "code",
   "execution_count": 1,
   "metadata": {},
   "outputs": [
    {
     "name": "stdout",
     "output_type": "stream",
     "text": [
      "tensorboard: no process found\r\n"
     ]
    }
   ],
   "source": [
    "! killall tensorboard\n",
    "import os\n",
    "os.system(\"tensorboard --logdir=./tensorboard_logs --port=7007 &\");"
   ]
  },
  {
   "cell_type": "code",
   "execution_count": 2,
   "metadata": {},
   "outputs": [
    {
     "name": "stdout",
     "output_type": "stream",
     "text": [
      "We're using TF 1.13.1\n"
     ]
    },
    {
     "name": "stderr",
     "output_type": "stream",
     "text": [
      "Using TensorFlow backend.\n"
     ]
    }
   ],
   "source": [
    "import tensorflow as tf\n",
    "import sys\n",
    "sys.path.append(\"../..\")\n",
    "from keras_utils import reset_tf_session\n",
    "s = reset_tf_session()\n",
    "print(\"We're using TF\", tf.__version__)"
   ]
  },
  {
   "cell_type": "markdown",
   "metadata": {},
   "source": [
    "# Warming up\n",
    "For starters, let's implement a python function that computes the sum of squares of numbers from 0 to N-1."
   ]
  },
  {
   "cell_type": "code",
   "execution_count": 3,
   "metadata": {},
   "outputs": [],
   "source": [
    "import numpy as np\n",
    "\n",
    "def sum_python(N):\n",
    "    return np.sum(np.arange(N)**2)"
   ]
  },
  {
   "cell_type": "code",
   "execution_count": 4,
   "metadata": {},
   "outputs": [
    {
     "name": "stdout",
     "output_type": "stream",
     "text": [
      "CPU times: user 710 µs, sys: 205 µs, total: 915 µs\n",
      "Wall time: 1.13 ms\n"
     ]
    },
    {
     "data": {
      "text/plain": [
       "333328333350000"
      ]
     },
     "execution_count": 4,
     "metadata": {},
     "output_type": "execute_result"
    }
   ],
   "source": [
    "%%time\n",
    "sum_python(10**5)"
   ]
  },
  {
   "cell_type": "markdown",
   "metadata": {},
   "source": [
    "# Tensoflow teaser\n",
    "\n",
    "Doing the very same thing"
   ]
  },
  {
   "cell_type": "code",
   "execution_count": 5,
   "metadata": {},
   "outputs": [],
   "source": [
    "# An integer parameter\n",
    "N = tf.placeholder('int64', name=\"input_to_your_function\")\n",
    "\n",
    "# A recipe on how to produce the same result\n",
    "result = tf.reduce_sum(tf.range(N)**2)"
   ]
  },
  {
   "cell_type": "code",
   "execution_count": 6,
   "metadata": {},
   "outputs": [
    {
     "data": {
      "text/plain": [
       "<tf.Tensor 'Sum:0' shape=() dtype=int64>"
      ]
     },
     "execution_count": 6,
     "metadata": {},
     "output_type": "execute_result"
    }
   ],
   "source": [
    "# just a graph definition\n",
    "result"
   ]
  },
  {
   "cell_type": "code",
   "execution_count": 7,
   "metadata": {},
   "outputs": [
    {
     "data": {
      "text/plain": [
       "333328333350000"
      ]
     },
     "execution_count": 7,
     "metadata": {},
     "output_type": "execute_result"
    }
   ],
   "source": [
    "# %%time\n",
    "# actually executing\n",
    "result.eval({N: 10**5})\n",
    "# with tf.Session() as sess:\n",
    "#     sess.run(tf.global_variables_initializer())\n",
    "#     print(s.run(result,{N: 10**5}))\n",
    "    "
   ]
  },
  {
   "cell_type": "code",
   "execution_count": 8,
   "metadata": {},
   "outputs": [],
   "source": [
    "# logger for tensorboard\n",
    "writer = tf.summary.FileWriter(\"tensorboard_logs\", graph=s.graph)"
   ]
  },
  {
   "cell_type": "markdown",
   "metadata": {},
   "source": [
    "# How does it work?\n",
    "1. Define placeholders where you'll send inputs\n",
    "2. Make a symbolic graph: a recipe for mathematical transformation of those placeholders\n",
    "3. Compute outputs of your graph with particular values for each placeholder\n",
    "  * `output.eval({placeholder: value})`\n",
    "  * `s.run(output, {placeholder: value})`\n",
    "\n",
    "So far there are two main entities: \"placeholder\" and \"transformation\" (operation output)\n",
    "* Both can be numbers, vectors, matrices, tensors, etc.\n",
    "* Both can be int32/64, floats, booleans (uint8) of various size.\n",
    "\n",
    "* You can define new transformations as an arbitrary operation on placeholders and other transformations\n",
    " * `tf.reduce_sum(tf.arange(N)**2)` are 3 sequential transformations of placeholder `N`\n",
    " * There's a tensorflow symbolic version for every numpy function\n",
    "   * `a+b, a/b, a**b, ...` behave just like in numpy\n",
    "   * `np.mean` -> `tf.reduce_mean`\n",
    "   * `np.arange` -> `tf.range`\n",
    "   * `np.cumsum` -> `tf.cumsum`\n",
    "   * If you can't find the operation you need, see the [docs](https://www.tensorflow.org/versions/r1.3/api_docs/python).\n",
    "   \n",
    "`tf.contrib` has many high-level features, may be worth a look."
   ]
  },
  {
   "cell_type": "code",
   "execution_count": 9,
   "metadata": {},
   "outputs": [],
   "source": [
    "with tf.name_scope(\"Placeholders_examples\"):\n",
    "    # Default placeholder that can be arbitrary float32\n",
    "    # scalar, vertor, matrix, etc.\n",
    "    arbitrary_input = tf.placeholder('float32')\n",
    "\n",
    "    # Input vector of arbitrary length\n",
    "    input_vector = tf.placeholder('float32', shape=(None,))\n",
    "\n",
    "    # Input vector that _must_ have 10 elements and integer type\n",
    "    fixed_vector = tf.placeholder('int32', shape=(10,))\n",
    "\n",
    "    # Matrix of arbitrary n_rows and 15 columns\n",
    "    # (e.g. a minibatch of your data table)\n",
    "    input_matrix = tf.placeholder('float32', shape=(None, 15))\n",
    "    \n",
    "    # You can generally use None whenever you don't need a specific shape\n",
    "    input1 = tf.placeholder('float64', shape=(None, 100, None))\n",
    "    input2 = tf.placeholder('int32', shape=(None, None, 3, 224, 224))\n",
    "\n",
    "    # elementwise multiplication\n",
    "    double_the_vector = input_vector*2\n",
    "\n",
    "    # elementwise cosine\n",
    "    elementwise_cosine = tf.cos(input_vector)\n",
    "\n",
    "    # difference between squared vector and vector itself plus one\n",
    "    vector_squares = input_vector**2 - input_vector + 1"
   ]
  },
  {
   "cell_type": "code",
   "execution_count": 10,
   "metadata": {},
   "outputs": [],
   "source": [
    "my_vector =  tf.placeholder('float32', shape=(None,), name=\"VECTOR_1\")\n",
    "my_vector2 = tf.placeholder('float32', shape=(None,))\n",
    "my_transformation = my_vector * my_vector2 / (tf.sin(my_vector) + 1)"
   ]
  },
  {
   "cell_type": "code",
   "execution_count": 11,
   "metadata": {},
   "outputs": [
    {
     "name": "stdout",
     "output_type": "stream",
     "text": [
      "Tensor(\"truediv:0\", shape=(?,), dtype=float32)\n"
     ]
    }
   ],
   "source": [
    "print(my_transformation)"
   ]
  },
  {
   "cell_type": "code",
   "execution_count": 12,
   "metadata": {},
   "outputs": [
    {
     "name": "stdout",
     "output_type": "stream",
     "text": [
      "[0. 1. 2. 3. 4.]\n"
     ]
    },
    {
     "data": {
      "text/plain": [
       "array([0.       , 1.6291324, 2.0950115, 2.6289961, 0.       ],\n",
       "      dtype=float32)"
      ]
     },
     "execution_count": 12,
     "metadata": {},
     "output_type": "execute_result"
    }
   ],
   "source": [
    "dummy = np.arange(5).astype('float32')\n",
    "print(dummy)\n",
    "my_transformation.eval({my_vector: dummy, my_vector2: dummy[::-1]})"
   ]
  },
  {
   "cell_type": "code",
   "execution_count": 13,
   "metadata": {},
   "outputs": [],
   "source": [
    "writer.add_graph(my_transformation.graph)\n",
    "writer.flush()"
   ]
  },
  {
   "cell_type": "markdown",
   "metadata": {},
   "source": [
    "TensorBoard allows writing scalars, images, audio, histogram. You can read more on tensorboard usage [here](https://www.tensorflow.org/get_started/graph_viz)."
   ]
  },
  {
   "cell_type": "markdown",
   "metadata": {},
   "source": [
    "# Summary\n",
    "* Tensorflow is based on computation graphs\n",
    "* A graph consists of placeholders and transformations"
   ]
  },
  {
   "cell_type": "markdown",
   "metadata": {},
   "source": [
    "# Loss function: Mean Squared Error\n",
    "\n",
    "Loss function must be a part of the graph as well, so that we can do backpropagation."
   ]
  },
  {
   "cell_type": "code",
   "execution_count": 14,
   "metadata": {},
   "outputs": [
    {
     "name": "stdout",
     "output_type": "stream",
     "text": [
      "WARNING:tensorflow:From /home/jessequinn/.virtualenvs/ProgrammingAssignments/lib/python3.7/site-packages/tensorflow/python/ops/losses/losses_impl.py:667: to_float (from tensorflow.python.ops.math_ops) is deprecated and will be removed in a future version.\n",
      "Instructions for updating:\n",
      "Use tf.cast instead.\n"
     ]
    }
   ],
   "source": [
    "with tf.name_scope(\"MSE\"):\n",
    "    y_true = tf.placeholder(\"float32\", shape=(None,), name=\"y_true\")\n",
    "    y_predicted = tf.placeholder(\"float32\", shape=(None,), name=\"y_predicted\")\n",
    "    # Implement MSE(y_true, y_predicted), use tf.reduce_mean(...)\n",
    "    mse = tf.reduce_mean(tf.losses.mean_squared_error(y_true, y_predicted))\n",
    "\n",
    "def compute_mse(vector1, vector2):\n",
    "    return mse.eval({y_true: vector1, y_predicted: vector2})"
   ]
  },
  {
   "cell_type": "code",
   "execution_count": 15,
   "metadata": {},
   "outputs": [],
   "source": [
    "writer.add_graph(mse.graph)\n",
    "writer.flush()"
   ]
  },
  {
   "cell_type": "code",
   "execution_count": 16,
   "metadata": {},
   "outputs": [],
   "source": [
    "# Rigorous local testing of MSE implementation\n",
    "import sklearn.metrics\n",
    "for n in [1, 5, 10, 10**3]:\n",
    "    elems = [np.arange(n), np.arange(n, 0, -1), np.zeros(n),\n",
    "             np.ones(n), np.random.random(n), np.random.randint(100, size=n)]\n",
    "    for el in elems:\n",
    "        for el_2 in elems:\n",
    "            true_mse = np.array(sklearn.metrics.mean_squared_error(el, el_2))\n",
    "            my_mse = compute_mse(el, el_2)\n",
    "            if not np.allclose(true_mse, my_mse):\n",
    "                print('mse(%s,%s)' % (el, el_2))\n",
    "                print(\"should be: %f, but your function returned %f\" % (true_mse, my_mse))\n",
    "                raise ValueError('Wrong result')"
   ]
  },
  {
   "cell_type": "markdown",
   "metadata": {},
   "source": [
    "# Variables\n",
    "\n",
    "Placeholder and transformation values are not stored in the graph once the execution is finished. This isn't too comfortable if you want your model to have parameters (e.g. network weights) that are always present, but can change their value over time.\n",
    "\n",
    "Tensorflow solves this with `tf.Variable` objects.\n",
    "* You can assign variable a value at any time in your graph\n",
    "* Unlike placeholders, there's no need to explicitly pass values to variables when `s.run(...)`-ing\n",
    "* You can use variables the same way you use transformations \n",
    " "
   ]
  },
  {
   "cell_type": "code",
   "execution_count": 17,
   "metadata": {},
   "outputs": [
    {
     "name": "stdout",
     "output_type": "stream",
     "text": [
      "WARNING:tensorflow:From /home/jessequinn/.virtualenvs/ProgrammingAssignments/lib/python3.7/site-packages/tensorflow/python/framework/op_def_library.py:263: colocate_with (from tensorflow.python.framework.ops) is deprecated and will be removed in a future version.\n",
      "Instructions for updating:\n",
      "Colocations handled automatically by placer.\n"
     ]
    }
   ],
   "source": [
    "# Creating a shared variable\n",
    "shared_vector_1 = tf.Variable(initial_value=np.ones(5),\n",
    "                              name=\"example_variable\")"
   ]
  },
  {
   "cell_type": "code",
   "execution_count": 18,
   "metadata": {},
   "outputs": [
    {
     "name": "stdout",
     "output_type": "stream",
     "text": [
      "Initial value [1. 1. 1. 1. 1.]\n"
     ]
    }
   ],
   "source": [
    "# Initialize variable(s) with initial values\n",
    "s.run(tf.global_variables_initializer())\n",
    "\n",
    "# Evaluating the shared variable\n",
    "print(\"Initial value\", s.run(shared_vector_1))"
   ]
  },
  {
   "cell_type": "code",
   "execution_count": 19,
   "metadata": {},
   "outputs": [
    {
     "name": "stdout",
     "output_type": "stream",
     "text": [
      "New value [0. 1. 2. 3. 4.]\n"
     ]
    }
   ],
   "source": [
    "# Setting a new value\n",
    "s.run(shared_vector_1.assign(np.arange(5)))\n",
    "\n",
    "# Getting that new value\n",
    "print(\"New value\", s.run(shared_vector_1))"
   ]
  },
  {
   "cell_type": "markdown",
   "metadata": {},
   "source": [
    "# tf.gradients - why graphs matter\n",
    "* Tensorflow can compute derivatives and gradients automatically using the computation graph\n",
    "* True to its name it can manage matrix derivatives\n",
    "* Gradients are computed as a product of elementary derivatives via the chain rule:\n",
    "\n",
    "$$ {\\partial f(g(x)) \\over \\partial x} = {\\partial f(g(x)) \\over \\partial g(x)}\\cdot {\\partial g(x) \\over \\partial x} $$\n",
    "\n",
    "It can get you the derivative of any graph as long as it knows how to differentiate elementary operations"
   ]
  },
  {
   "cell_type": "code",
   "execution_count": 20,
   "metadata": {},
   "outputs": [],
   "source": [
    "my_scalar = tf.placeholder('float32')\n",
    "\n",
    "scalar_squared = my_scalar**2\n",
    "\n",
    "# A derivative of scalar_squared by my_scalar\n",
    "derivative = tf.gradients(scalar_squared, [my_scalar, ])"
   ]
  },
  {
   "cell_type": "code",
   "execution_count": 21,
   "metadata": {},
   "outputs": [
    {
     "data": {
      "text/plain": [
       "[<tf.Tensor 'gradients/pow_1_grad/Reshape:0' shape=<unknown> dtype=float32>]"
      ]
     },
     "execution_count": 21,
     "metadata": {},
     "output_type": "execute_result"
    }
   ],
   "source": [
    "derivative"
   ]
  },
  {
   "cell_type": "code",
   "execution_count": 22,
   "metadata": {},
   "outputs": [
    {
     "data": {
      "image/png": "[encoded data removed]",
      "text/plain": [
       "<Figure size 432x288 with 1 Axes>"
      ]
     },
     "metadata": {
      "needs_background": "light"
     },
     "output_type": "display_data"
    }
   ],
   "source": [
    "import matplotlib.pyplot as plt\n",
    "%matplotlib inline\n",
    "\n",
    "x = np.linspace(-3, 3)\n",
    "x_squared, x_squared_der = s.run([scalar_squared, derivative[0]],\n",
    "                                 {my_scalar:x})\n",
    "\n",
    "plt.plot(x, x_squared,label=\"$x^2$\")\n",
    "plt.plot(x, x_squared_der, label=r\"$\\frac{dx^2}{dx}$\")\n",
    "plt.legend();"
   ]
  },
  {
   "cell_type": "markdown",
   "metadata": {},
   "source": [
    "# Why that rocks"
   ]
  },
  {
   "cell_type": "code",
   "execution_count": 23,
   "metadata": {},
   "outputs": [
    {
     "name": "stdout",
     "output_type": "stream",
     "text": [
      "WARNING:tensorflow:From /home/jessequinn/.virtualenvs/ProgrammingAssignments/lib/python3.7/site-packages/tensorflow/python/ops/math_ops.py:3066: to_int32 (from tensorflow.python.ops.math_ops) is deprecated and will be removed in a future version.\n",
      "Instructions for updating:\n",
      "Use tf.cast instead.\n"
     ]
    }
   ],
   "source": [
    "my_vector = tf.placeholder('float32', [None])\n",
    "# Compute the gradient of the next weird function over my_scalar and my_vector\n",
    "# Warning! Trying to understand the meaning of that function may result in permanent brain damage\n",
    "weird_psychotic_function = tf.reduce_mean(\n",
    "    (my_vector+my_scalar)**(1+tf.nn.moments(my_vector,[0])[1]) + \n",
    "    1./ tf.atan(my_scalar))/(my_scalar**2 + 1) + 0.01*tf.sin(\n",
    "    2*my_scalar**1.5)*(tf.reduce_sum(my_vector)* my_scalar**2\n",
    "                      )*tf.exp((my_scalar-4)**2)/(\n",
    "    1+tf.exp((my_scalar-4)**2))*(1.-(tf.exp(-(my_scalar-4)**2)\n",
    "                                    )/(1+tf.exp(-(my_scalar-4)**2)))**2\n",
    "\n",
    "der_by_scalar = tf.gradients(weird_psychotic_function, my_scalar)\n",
    "der_by_vector = tf.gradients(weird_psychotic_function, my_vector)"
   ]
  },
  {
   "cell_type": "code",
   "execution_count": 24,
   "metadata": {},
   "outputs": [
    {
     "data": {
      "image/png": "[encoded data removed]",
      "text/plain": [
       "<Figure size 432x288 with 1 Axes>"
      ]
     },
     "metadata": {
      "needs_background": "light"
     },
     "output_type": "display_data"
    }
   ],
   "source": [
    "# Plotting the derivative\n",
    "scalar_space = np.linspace(1, 7, 100)\n",
    "\n",
    "y = [s.run(weird_psychotic_function, {my_scalar:x, my_vector:[1, 2, 3]})\n",
    "     for x in scalar_space]\n",
    "\n",
    "plt.plot(scalar_space, y, label='function')\n",
    "\n",
    "y_der_by_scalar = [s.run(der_by_scalar,\n",
    "                         {my_scalar:x, my_vector:[1, 2, 3]})\n",
    "                   for x in scalar_space]\n",
    "\n",
    "plt.plot(scalar_space, y_der_by_scalar, label='derivative')\n",
    "plt.grid()\n",
    "plt.legend();"
   ]
  },
  {
   "cell_type": "markdown",
   "metadata": {},
   "source": [
    "# Almost done - optimizers\n",
    "\n",
    "While you can perform gradient descent by hand with automatic gradients from above, tensorflow also has some optimization methods implemented for you. Recall momentum & rmsprop?"
   ]
  },
  {
   "cell_type": "code",
   "execution_count": 25,
   "metadata": {},
   "outputs": [],
   "source": [
    "y_guess = tf.Variable(np.zeros(2, dtype='float32'))\n",
    "y_true = tf.range(1, 3, dtype='float32')\n",
    "\n",
    "loss = tf.reduce_mean((y_guess - y_true + 0.5*tf.random_normal([2]))**2) \n",
    "\n",
    "step = tf.train.MomentumOptimizer(0.03, 0.5).minimize(loss, var_list=y_guess)"
   ]
  },
  {
   "cell_type": "markdown",
   "metadata": {},
   "source": [
    "Let's draw a trajectory of a gradient descent in 2D"
   ]
  },
  {
   "cell_type": "code",
   "execution_count": 26,
   "metadata": {},
   "outputs": [
    {
     "data": {
      "image/png": "[encoded data removed]",
      "text/plain": [
       "<Figure size 432x288 with 1 Axes>"
      ]
     },
     "metadata": {
      "needs_background": "light"
     },
     "output_type": "display_data"
    }
   ],
   "source": [
    "from matplotlib import animation, rc\n",
    "import matplotlib_utils\n",
    "from IPython.display import HTML, display_html\n",
    "\n",
    "# nice figure settings\n",
    "fig, ax = plt.subplots()\n",
    "y_true_value = s.run(y_true)\n",
    "level_x = np.arange(0, 2, 0.02)\n",
    "level_y = np.arange(0, 3, 0.02)\n",
    "X, Y = np.meshgrid(level_x, level_y)\n",
    "Z = (X - y_true_value[0])**2 + (Y - y_true_value[1])**2\n",
    "ax.set_xlim(-0.02, 2)\n",
    "ax.set_ylim(-0.02, 3)\n",
    "s.run(tf.global_variables_initializer())\n",
    "ax.scatter(*s.run(y_true), c='red')\n",
    "contour = ax.contour(X, Y, Z, 10)\n",
    "ax.clabel(contour, inline=1, fontsize=10)\n",
    "line, = ax.plot([], [], lw=2)\n",
    "\n",
    "# start animation with empty trajectory\n",
    "def init():\n",
    "    line.set_data([], [])\n",
    "    return (line,)\n",
    "\n",
    "trajectory = [s.run(y_guess)]\n",
    "\n",
    "# one animation step (make one GD step)\n",
    "def animate(i):\n",
    "    s.run(step)\n",
    "    trajectory.append(s.run(y_guess))\n",
    "    line.set_data(*zip(*trajectory))\n",
    "    return (line,)\n",
    "\n",
    "anim = animation.FuncAnimation(fig, animate, init_func=init,\n",
    "                               frames=100, interval=20, blit=True)"
   ]
  },
  {
   "cell_type": "code",
   "execution_count": 27,
   "metadata": {},
   "outputs": [
    {
     "data": {
      "text/html": [
       "<video width=\"432\" height=\"288\" controls autoplay loop>\n",
       "  <source type=\"video/mp4\" src=\"data:video/mp4;base64,AAAAHGZ0eXBNNFYgAAACAGlzb21pc28yYXZjMQAAAAhmcmVlAABMSm1kYXQAAAKuBgX//6rcRem9\n",
       "5tlIt5Ys2CDZI+7veDI2NCAtIGNvcmUgMTU1IHIyOTE3IDBhODRkOTggLSBILjI2NC9NUEVHLTQg\n",
       "QVZDIGNvZGVjIC0gQ29weWxlZnQgMjAwMy0yMDE4IC0gaHR0cDovL3d3dy52aWRlb2xhbi5vcmcv\n",
       "eDI2NC5odG1sIC0gb3B0aW9uczogY2FiYWM9MSByZWY9MyBkZWJsb2NrPTE6MDowIGFuYWx5c2U9\n",
       "MHgzOjB4MTEzIG1lPWhleCBzdWJtZT03IHBzeT0xIHBzeV9yZD0xLjAwOjAuMDAgbWl4ZWRfcmVm\n",
       "PTEgbWVfcmFuZ2U9MTYgY2hyb21hX21lPTEgdHJlbGxpcz0xIDh4OGRjdD0xIGNxbT0wIGRlYWR6\n",
       "b25lPTIxLDExIGZhc3RfcHNraXA9MSBjaHJvbWFfcXBfb2Zmc2V0PS0yIHRocmVhZHM9OSBsb29r\n",
       "YWhlYWRfdGhyZWFkcz0xIHNsaWNlZF90aHJlYWRzPTAgbnI9MCBkZWNpbWF0ZT0xIGludGVybGFj\n",
       "ZWQ9MCBibHVyYXlfY29tcGF0PTAgY29uc3RyYWluZWRfaW50cmE9MCBiZnJhbWVzPTMgYl9weXJh\n",
       "bWlkPTIgYl9hZGFwdD0xIGJfYmlhcz0wIGRpcmVjdD0xIHdlaWdodGI9MSBvcGVuX2dvcD0wIHdl\n",
       "aWdodHA9MiBrZXlpbnQ9MjUwIGtleWludF9taW49MjUgc2NlbmVjdXQ9NDAgaW50cmFfcmVmcmVz\n",
       "aD0wIHJjX2xvb2thaGVhZD00MCByYz1jcmYgbWJ0cmVlPTEgY3JmPTIzLjAgcWNvbXA9MC42MCBx\n",
       "cG1pbj0wIHFwbWF4PTY5IHFwc3RlcD00IGlwX3JhdGlvPTEuNDAgYXE9MToxLjAwAIAAADKZZYiE\n",
       "AC///vau/MsrRwuVLh1Ze7NR8uhJcv2IMH1oAAADAADVayF8oYJVUBjg5Cl8UC950wnQObmxLpMS\n",
       "eTd2N1o7ZvU7nZLqidQWs9IRqH4qZFuUNOvgrgAArGB7WlESNB735J/CfrjEy3i5zjzWx5r7oD4b\n",
       "7vRGf5YZpSE2SfCltWRnqtLPBS3FxRjhpp/BEdar5txSfEu67R/ppgZwAi2i8ff512MwmU2ndVwZ\n",
       "0/IypwbXeLiexIGKwjGLSLtuFQ6Y/OKysfXRdbpNhUrKtfRj7PsZ4sEuP5y4zl61S+z6VZzYCdA7\n",
       "422O/g7ogLDysqUE24GpHGaJCX2wbS68ujTHQP6XxiSrNlnDwZHgbp5EeVkCuMJlhlbRejAAAW5E\n",
       "i95ObYO5PsuB/yXJXIr296w2R4KtEWts2QxCeaTyILNtSj0FAa6n+Sm+7xuX2JriZx97d2rE/cAU\n",
       "Qsh/+Ymis26EZW9S/cjgVqTEtyVS3CIlK2Ezdp99jK7/nX0GHUivuh8QdJ4bhVPEmo5B7TQYe9Nv\n",
       "n+ebyMRkTx7hvj05vOEfMTes/dwPLUI91WSm8NQ11fuo1LrBS7pJhE73vxY1JjcZWnegaFLpPjAo\n",
       "+BqceCYe5S3Av97ANnEBmzojm/SDmWarQluOhREg6XGZMu4a7snjhzyH4/KonlxVMyXTB8Ya3dGT\n",
       "vrxM2T8GRxsFP+Ki2XIeafZhzaICPKgU1x2LYZqQc9bRDlrWDpuTNmcCbrO7DXBPWt4+vc4y9j4O\n",
       "nmehjy3+29CwtFTKfeNDtJqpsgh9q2E1nXMB/b67agis4/9zgOkKQTrSKTL/ETxrRLU+M6bDF5Hw\n",
       "Mkk0WQCW3/aB4rOdB/mjy0qnw4YqFkBjk8S3abocW1VP5xCX6kQu/S+pHlRN6K+k0MK67uDbQpak\n",
       "Tg3oFCVnZYtI4fIdaw6N4CrUmzN3+T+U2DAvRHNB/dqFoMjErvCTrUOM5i6sgMFnPlzXuzglEx3r\n",
       "tNS/ihpBKoZOTd1ViyEWuvp6CRVIYeDAf+u+GRvSyJD0uB2YFMYXUoJNAnwTcmSYyZTb5a4nxvDl\n",
       "TOC8jlarLZ59F/D69SA66HYNiutMC2dploDTw52cruOXTwGu6T12mOk1kVNnQZriDnZ5c7I+N9HQ\n",
       "a5ZPa57KaQLMuwNl5cmGiFp4HWwZktokWS6ak4lEXjSXXAiOxi7qBV49WigxIGR33VW8wRNdN3Dv\n",
       "xgLQBmCInEdpSYWVa/7NpJBBH7cIb8ttDQIp2sXitLdMBUvDn63XlKb2/rqFXm4DJl2Woi2N3Ol0\n",
       "XloGi675i1F6emt9/LLYQhVVKflHygiF0G+O9AVc2N/8DsTZJwFSpbyMG/Tst2fF3Nvy0sScZcTV\n",
       "4KwHspWfq9YHyH4DdFDKVMWM1BaNsqek0yKv6K+jX0LsoL5Vr8KjZJ+RihiRjHS1R2byBoCqoi0P\n",
       "rEI0pWor53obQeyY52ReSt/DWLCDSWlOgDG1tlMEleKmjysrE3aS59PR9hA8bdC7kPhnQ2tV0gSL\n",
       "26GNMIDjsMBRW/3SowhuZbrNmTlxmBYV3hCRfvFysfKbzpg5k1qs459I2wsyLeKD4f8dcrcvCUg7\n",
       "oa5G0vn+lToJZzDw2LcJk1HdFaIWUgC+woiUDqCzpfSNceg028zPwTXzCmJDKwJOvcBGFhwXmp4z\n",
       "wi9Vr56d6r3XzmGGMexwaChFdcX3+RnqS6Fw1gLH+WHqMHBf88Ng0IQKG0O7KY1SfRF+RNUMAqRU\n",
       "kBDnE+T7CsIWk+iAI54usYhOf3ZzwGkFSFlrZlHY9TRsZ15m0U1+pVprAMA4MsGtUeFB07K6uyAV\n",
       "hk2T8AkUAGDGt4sbuxuZG7PcrbYaj8llFH8rxyn95ylTaRabhsAziWWC7fnI6NQXfyLMhYWCHoVI\n",
       "r/iEsCfCLQj0d8obYU/KyGIJsSVNrRLeMmc00DlWyv/ZHiAjr7+xLTQlAoP7yT5iaVIfVSZ9+b+Z\n",
       "WeCsaCl25Ys9K99tuM5jvlafGWZkFq1spKlVeojxVAAMpL8DFV2WUfJVGDMyE1ct046A1kPeiiRG\n",
       "MndQwdVptxma2zKIvc2BRolDDSa8/LEF/DjiwriNa9wikvvaZARq+hDDcPuIcAKXtTPQq2ohiVuw\n",
       "uarMf2mA9MkFrneFjnQM/0s+uU5jgquFlKj9kUf//Lh34l2T6bAG0DTd5uCP6eT02CYSX3QIXsLL\n",
       "vy+OY3KnRyizGufKPRrjje2TuAigKjeqH7cYeCWz1iPtwQykwnhsY3/FF/HX986703GJVFl1p/be\n",
       "f1tDkb3B0ULSUcf1tgTlTn8Myoh4A1wgOqpDaNHzXmTBg9pH/cMjBYQQuTtpURQKVbwIHZWR0Uyy\n",
       "u1MxcZgaHnIFqJXEdLsje/wFD8aC1GUFwM6/CSYeMQWp3u2I+3S4yNoI3fHZfah0u4c1vvNbiEcK\n",
       "Nz6vsG6t0IfQVVeKqAoiOUqHAsu3ZOaFvOwn5EIaLhRH1bjVxyA4jOYhY8mJ6SrGdsncxO1mEKJp\n",
       "VZpQgC5hyDeyoH+/ZrHoyH01UpsZxzfvl2U6PuiBIVCWlKAUfiiMyg9tS1LiqfTp3pNXVZkOglxU\n",
       "AVXLxhAvM7ve5ct6bpU3I6pDH2Liipvmm6CmJ3v7FLEMFSAH/fleCoqOjQA3ybCj248xQb5sNOJN\n",
       "DBHEnP5YJ4jTDtzYbvfyC24/Wz9K1LK057yAuT51mRhoEj3ok2srA2J0BF5mI/th3bLiMXqrnoFv\n",
       "F7Jbp85SUJzo/otG3/hBE2m5kolxd9TFo2JMmdD15GataI/wfXGq2K2K1KbW8DrtvpHzbROuO3e3\n",
       "AQB0lsTn1SgiUtDwLeQEhMGpdUuL6vUzrtIR/MfSIDUT444AOMTmTBjCApv5r3nbK+LIB53KuKMh\n",
       "E4P1gWIqhgveyuzjO5LMBk124zNjbyfuFpbvJkP5N0RiqBr+L+fr2qzU35QRvVND8DrK1gqls4Q0\n",
       "q4dbNY0Tr7219x0kShy+1x091tFmqEtxT5hAvLfmxbXE/XnVzdSgCgvaAJ+1mAWA0FCAq5GobAr0\n",
       "N+TPlx9cYh2BDinM3jlCtpKPgK2CC8NvRXjG+kQKLslf3wmNPLMgmX0pKqEAwj4TnrNZeaQwItkC\n",
       "GMRcLyhDXKlFJ+5NkMfnhv1xR888TU36NlRBZiRS5fVt+ECMzqb/qhATDHMTLPYZD37bRJyRVR1q\n",
       "B7yIuFp7L7cZIHwy8537GsmiyiEFVe9Oq0XlJsdCLfMKR3dCkUZbvaWNeVFG4KL0SSa+LclD1tcg\n",
       "c0Xu89/prve6hu54fkOX1h4qYmlwzbDbXdiTdUmQkwS3w2CPRd7EUL7vOufafBaORx4Aec/B4cH0\n",
       "lbtgc8L3GyoPK7UZXLMD9b2XALIDvq1LhTqkC6ohjqsYhspIkkmO250o/5m0vaLETfSle7pzIxBj\n",
       "nrkuH0hNrni9s093qkhN0l/3/HDjsTLC77bQeisJKBywBMy5YBhoIMGYyjOzCZMyRWdZHlMTBWKM\n",
       "+JQlXemyMQMXvjvaelulNnV3SX9VfRC47Kh5v9ODGZf1ZOXpODmjPGmolHS7mED5TACZ6vGex71K\n",
       "8++6rlWmPYFs/Bwcbmi8DukqdEEgVScQYLOPNxCeGG0++cHzUVK6IEwMfYti4YwZWNUWlyMzSCJD\n",
       "EgfSESp7CggmWqefyps6Xqhim8ym0VRT2UySQM306LsyM07IC1hjfiX9LUJFgmyeisKYdBenJbMR\n",
       "2VIJAYgmEo6rKL/sGSDZ2ataZAAhLeep6V/TKCVH5rIxzY7k7Vd33VG5oV7XSWbS2tcgnB1APyNd\n",
       "RbM1ofcrW0kFbw4A8vJ5WcCd8hp+esUDnDA/VntRBv4ibKWp3LmJhI967fO1HhIgqD2PkVoYiW30\n",
       "BVkY3DLHQe77Xexw3BXacrByzpDr3Boq6MXfbmdf6tTteDhLiBOZKaHkGBHC6GdpLC1tXP/+F7bp\n",
       "vZZIhLaDWG0QUOAsNB0uTWxf2S2VexdiQd5mw9s9iPmmjaGtHRbM4eAbXkSw+SVDscSSDS16GdSZ\n",
       "Yf7DTDhJ+DrfD1ad6ncHnrRTm3XjHXEgrGvYDeovml3qNFPoqWZN/dDGzjHQ+FsLTR/5J9grPjIl\n",
       "0LSA00cRVSjvmby+5cMEDBHZfWLX1Lav+jlgSMJkNqa9M0rxUnwpYGXwIqWkfwqK2Cvu3oH4Y0VW\n",
       "7FmGO6/ui/+1AyRnoSz/aZQ/vGo1AiKTbKTObiQuDkuEhqO/a2y6ZPzndAtpP4In//9JZM1FKY8N\n",
       "vrPYoIURvgGFKo0GN237DJq0gz1qrsZJSu0d3xAm5tibVYBhmSIv3TFu7BEyJN7QRxzKJhkDNZdN\n",
       "KC6ajWybJLHgkhV2EQkct7uxl2pDieqwVD4dA86iUsJp/8xzdfe00sXJo3WVMgNuAW9lshhBUd5i\n",
       "8BEVkR615Vy2shSx6Y8vlrbkgftpB6C3+NzJmlADASCtXVBWPaii/0E0D+jewYZRd4ZpGE1JhyPS\n",
       "7mSpZnhMJpMyLie9F02IpegPgVkywrF5mukkczLcZl/axkF0A7Usg10M2HrRwl85fQFOyTT2GlOU\n",
       "vAqWZ2iQvDZnQMnFUcC4GGqKW2KQFb/CDjTfJBZXIh0mncwrAI6EPiG9JasKKo+b9nZKDDqCq/oZ\n",
       "XlxJJeMjwtoCbJFTkN39glqxkDsAtGl9Rp8UDH/VGy9L2IPbk0WheUmHMzGbthJwFrV6OS9VcUWm\n",
       "O970oaNwvII/k/haGMl6AsbC9NxIRjACZLEGXCyWd0+lJdpN40L//7NgI8lJluwu4ljiSF4nfrLX\n",
       "XKFgVBiqaOdz05xuLnh8KsKWwL05F/2L6ezSDl8OuOfeZbArvbSmWhHV3CQcEZAiR54SWF5oAi7M\n",
       "6w/l0rVoqaozoFU09gKzo+WF/qmdX5jFrDWidvDGSVnbU7NWrqnDp2Dqd+hpjgxMzoUs1YGnfgEc\n",
       "341kEE414+nBqvlrB6S3bbMHPILZ2xzfLIzeQIDF7KRYmubqg/mldnFQAAmLp90/wQ7f9hAYDY3M\n",
       "uN+LE2CC9TtzIROLhdait/UjCn/j3iNAq6r2/codeurG4LMkmedDZvZcBFh9u0+dm+Lp/tGD5tkm\n",
       "2t6rUK52HlXI+kxRGHzKBofmODElegBNGFKTlLHMTJNvOHl1kGg3PAjE5mQno95cxSHsFOP9TWdn\n",
       "HccG0Yy+11mFK9U6NtYdcRoj1cRk35VYeNQWQ2WfYyQ5zAGI/tXWtnV80o9/NJ48yTzwaAaiEzZo\n",
       "7bgzgndaE3aTnL1P4C/jONSZsMVkiOjK3eigSHSQ6XGOInFAIiTuNTeFf50Z4wEfdzRfr2sPEKtg\n",
       "aR7xwRcqK1tKGoBL+1XzVfOYgGnonPJANI1Z9Ps/YwK6yZUOtm4EU+ViEHELGNJCCPMeNPVA2V3P\n",
       "8Zbj/r4Nevgnfqb6wB8eMH/g/ZrYfu6OS7H6VJLgl82CMUW0ExGUDsYb9JiT0joNRSUXYkeBUpHH\n",
       "OHQwg2wLrKxmzdnmc30IgrBsemqoyQwuNkbbFCC5GOYCd9xSVXD40n0DSLNz8LUb0Kt69aAmj8j5\n",
       "DQXRDGo2juQNIWan48mTIRG9uPDLszg9OFY5HMJnoVs0A2+xkogRb0VswrZwx3wx6mtyBLih+gC7\n",
       "1g+gIp9r0j8g+p/tDC0HpnsF60WSyoMc3NExHNq635jAIGuW+2BsWcoc5WKw5sCCNVNz5OXy320y\n",
       "eLN83iXfeXHSPhWFuG4EOC1WoHYwOnkpjtJ/ZoMoJDOEqsxcnYKyJN3LpNj75iJd5DpEpcKqLe/0\n",
       "9etyGHE+eEpPKdcO4HN9r2xWe11Mz8Qvx6JEBPA7plhrW9jLVeqkNggA+466QLpMCPydcHcNSObO\n",
       "Y/enyVefb2icalF01N5hBVV0Jkq8FgZwVU4z3aMXh3sGQkEyz7WPqZXLQ75qMbapB2Tj8Ug4Dmk9\n",
       "w8ynhtHOWLUDCIi4AO7QaI6g8Wu3vna/p35yCGDnBTc2fT0CvcLORZRRpV8K5e7zRBNXK0+kZ0wL\n",
       "jp60zS0+2MYBpkBzLZqjMTuARB9wjxzXIGIRx1Fs4AUkF3jmcWLaTthuVp7zrI87LE6G9RiYlIzL\n",
       "nbSwUjE73HeswpwGQq4iDHgNLj8x+6EalNKWBNTQ9guH4qDCPgbp8V/mqCaRHRE9AvuWZ1q1qVcd\n",
       "0Fl1sNkGN2bbxkQQl0/9kOz1JNd/gT2bLQ9t6oxG1lxiJL5S4UyAQJPsGoJcff10mZoef13/Nc2I\n",
       "bIscLJarqLUDlQtnpvF+eZfJZwefVi8ajr2ebj/3GNLPqYS8yDatdKRsmFCKw4+KFsiAxHIXMPLt\n",
       "ssLefDO3uGap5XLsj3r/6AWUWgsF/sJE+YPa/ewefsuMgjfsJCEit+2ayg9HzidRKl4rVoFpaRoG\n",
       "F7xq8eHIS0TWS5W8B915b+pq5bS01eA7c9DeJoutb0dKvSTIf8uaUHIgrvZJh4qGf38TfnNVhQxv\n",
       "E0ip3+N233dOSZxAs8+W41a5zNJeVP3deHS55ZgfaisbOF/S7yAo+5yWb76y86kq/fKU90EL8Kp8\n",
       "gCo57LM7ZDADRt3iK/i/fQEMaoqr2uTwQZI9GF7hE35/R2yQ8Q19SbujitnHF7X4IYKjnuwAC/lJ\n",
       "gXcpwk39i0VP1N2ianwnK3UQv5p+h+ELG/fO7EL3XRkgyeMUtRHbzOqx5kXshf/OM6mV2+jVE6M8\n",
       "sxHxjvLqiAFQD7pUkt+64N45uqr/HYDJVin2YXl20bQdvf8YkLF6iOJAtj0gK4+IFLnko8ttVpcj\n",
       "PL4N7b08ZIL1hrMOR62T0xwNKj92YBQs7qZSliZjOINH9ZphZDiuc1NL9sXOIwBVSsofZ8zpe+np\n",
       "4gME6WotRj3BjQKrTbKq123wL72ig52fbjThk7DfyGw1tA8LvlQiQZpH8NHg6/0jn+6s3XqSl9Zc\n",
       "4/Sl4yqSDnPdWCxB+YvORQGtQ2Wcn1jmWUNvqBfEY2N3nEOjgJMy7yQyDZDsVCdB74bcEBasfB4v\n",
       "YJ2rORLBV66xnbdcOMDAAKMZ0paHRzPEEAFVcwMIWjB4P4arNSMJl/xf4UK9JmOINqJ8tqc+J3DN\n",
       "8uUL63LYiVs7e/n7zjPe/p0YqS9QXx2C0MdXHbQNS7k9KPld/XerHfNqmjjD3KGP311AXf8Civj5\n",
       "4Q5IZxbTPE+H6k13RszIalZSedbeiQqIpHpz7sLqVo8Ge519CAa9Yv4bO683D1KNArbmdPa2L0ar\n",
       "S+znZwol30OJSqQ02iW72PxHb2HrIPQQzx2MuO8GOiVTnY7lEpH2/vF0nT9QdGUit3yt17IuVu9y\n",
       "B+aKKazhhoSeGuVmWDOt4lENyFEutKsPeujaSf+gcgpXRUtRE1ntMkqd6XKAjPTto3U5417VOKoo\n",
       "ZQA4MQwZxLqOI2QLV/+aEY1qckhb2GfB5dzrj2NuF9vdtd+pCoHiMjcKW3hmOE+qOlpL9H0z+Qx3\n",
       "Eyh65nvFk2UI/zG4OeRcbBDumeFZ3++HKS7lKH6IVaCOPlsYXRKowxFSOgYdyLjqtLez+fqXJs1u\n",
       "6liAFYdP205aqP8l5PIrmRq3MZAhZa88MrpaC45rO1WShQJfo8QcNCgL6IULlOVUtqTmJUzQzP0G\n",
       "1drVwTzRjUGHHMdE34kzsEpxRnhBFQrbE7XC9JqWk7wdHY5lrtf3rB+gqRDVIPiuboLM4Z5gXizT\n",
       "zUhvbz4FqXj+wdFhSaODJgkwyXeel93nwWSfqj2tZNe6vCbtmwWO1CiG4q8ffKfwIpPyVZU9dMQy\n",
       "9H3ChSUrp+tYfI7C3KSigP0PeGF0tDFW2Ysdxopb4xR379iV+sJktBzxGHnbHH2LIgv3Ev63Ahlx\n",
       "vlA5crXSHxgHx3P5+YdXi3g/9X7NrzNNXZPeb2qjljiU9gEnJnijMfQ60T9NpO6rhZlKmZQNPvwL\n",
       "Z7FhsSWTZmj3mQU12Vgh0hKpW7p8qqgDU4X2CvaJvVUkeNJC5/idO+GveHtnk1bcGPCWw6mN178I\n",
       "FenfKFIRjbefE0GKq3wa14VJP6asMaJxR/xfv8evSbovPQT3uEnfYD5ttbwrmlzwEzO7N+vnCvoL\n",
       "Cuc2CwQcTb7jt2mS/iijauX2D8ZsojZh25U/bmDnKHXkIqtSivfruI5PlEGV9mNuSmmn7CoVy+BB\n",
       "MfN/wcfFVFwXPmKjIZiGMenRWinPjlr0r6milmcBmSQXlhJu4aQBpABZlatGbUdgzpTqDbJ/Ze3v\n",
       "NL6e1imQtVX0Yj6cQf0tliyBi4ew7umteecMCQLd7n1APzot29Wsg8upte+ZGdvoai4ydZv+uR8n\n",
       "VRLaeBdxHSotA+U15Ov9ARX2YEw1k9PKXq1AObv+LxglA+ijLAKRY+xNm2dostqw4o5PxvgAVUPh\n",
       "xx7j0kU9G6Vk2YFLWAL5qBnZ7wzUCjoms9F9jTacj8jIrxG6cSNb5UKlsFoXQYgE1poTJRM9yhJg\n",
       "UpOK/XLbYtmeeXFjlPkstaCEFe9V1/o5Tu9M2s0uUgdhclv9e5JYPMy/oEDX4l28WBDgz9Wbgoy+\n",
       "ay6xYkZu20ZDRqNIUxY2r1PR40GCEOw36+L/SCVFg6q58vn7UqUPBSo6k9SINLwlFcxAt3XVCFve\n",
       "6ofNyI0qJbPj/NAdD/acMNBvVEICF5nKgdXD0Ev5FmIsNU1jSOy6Ex+5uk3mU4XhRdiVUVIeVlrf\n",
       "a/ZWCIIR/5ub0QMMI9V9SDxQ5z0wVTyf47YMTcnv1hXFH/vx2Zu+VynGYcdXcEiqcc7MteqQIfZp\n",
       "akyXLufq+NQBYR4H6BCFxbyU/J8ZdgCebraWgzZxW/ULtuqjinu7qweYWnH8Xm5u34Rc+GRMD+cB\n",
       "nbs3VMXx+l+IoNBqFT18aw7V1LSwBRtN/rg+19iF7Tsp8Y/VA0JZeTsHHzGBuxZVuSx1GZar237B\n",
       "pSb41d6MVvK4LF6LMaQXSz9RvMMFdPy5QskRkxecOg5RZatgoXT9CIb4V9LYCdxQKJImlUSZL8PN\n",
       "kKtRA37uoUqhsfPKNEcKAkiMtxx9E+/Zlzb67k15MXqLyyT8y3cez2Yp5VmzvDbPKF2+l+XMQQFn\n",
       "36Xr7/gW8fx925vCr69lPIMAAFGNw+GDos9ad9e1XHOJx896k5uLdDekdpbyxL91FsKdvXr3skZw\n",
       "HLoFNQ5jby9QBqz+1tLB8uiEFjOSyDZni1vRIcFAhgYVGr+2UW8VfXFOvhTIrBlHN6Mi9qnrmgbZ\n",
       "LZ93XFqgRxeOFX8GKORzDbn/azx0CHdWiV0GO6hHFK1VGKbdvZ/aWFVb8EHF5ufVBVz97Bauqbwe\n",
       "iSCMP5WrIrRSfzUiukKt6sc+z5k1M+aKMnp8ab7ijj17U0lFxZeGCvnwmc0sBlHWcaB99Ljae2xJ\n",
       "hKbp4AimmyMg4D90bpWtv2OMOn33s2P3afacKVktkTkn7FQAtk3mbUsLnR76nA1zq5900gBZKhoR\n",
       "tUu7AHDx6CU4EtM4R3dJXWJyXYIZsww9fBvrRBf0EE3iO2e6yGjB//T6e8K+yOpwEkPJ2gzyVilS\n",
       "FX6BxxtCAEy79y4QU805p+ASg8zylDzcvRqV4xnTI2JngD3IowGtv9+4A+nrIFILKUpm2dMIezwt\n",
       "LUtkyGoWGzEOqa4umVnBKRZoz/4rHrSjvDfSGD0Ga9qH5RJzsocdr1vx1No4RIW9arxtvGFw+XjC\n",
       "joKiNy/hu34zM/P2ACuNvS/AKJXl8nc2XEf1+fvXP33Iegp3RPspBCucmpSZ0GD5wV9PleoIqOxq\n",
       "UZ5PoeyFCADEN5y8kyCpWZ3DlehUPpF1PGWU9iyQcaatuuF6/1KnDVkoK6riGzhm8TqsCie3UtTK\n",
       "eNFw7ZEBN4AsDVv/Ix4oDBZdcs/3rND0oi7/C/HBgcshXDf+06sHsZ7FDbvX9IGSkiqXhazjSa2y\n",
       "LZhhgDTzakuT7V6JhI2ejf+vi6w3DXaGKpdP/N/n825yk81nff7BNsv5a0srGkF4n7xU0WqzBfeW\n",
       "4QdbvJXVszD3y0Lp/DCitN3+yyhc5rUtaqa2pc0YRtnNTu2f72VCb9NlYYlUkaSzbAI+u2lmKKiC\n",
       "hhOL1HS0XDksztOkvwQJKWtSoaD8zfvNzioK//YNz8iH6ot6LM0t4uA1DpNmLCjiRkB9fjggJIKO\n",
       "1K71uXEoAS0ir7jbQ9L84mp7b1LGE5a7wWrvMU3gu1url1qu0SMms7D97Kq+CS221st/jvVrCVuO\n",
       "XjoSBFzJStMbFYmpPOZrJpoUUiLuX8e91Y3IzJr9kDLDIqCOih13UhKbPwDIy+dslIFBRm4jlYMq\n",
       "91LnJ9M+EyPH1i70vKXGMBupN71FHDAiXG8OoZbQ6/JI4XmRVBkqrfdCkdtWYvz9730/L+BVIpMi\n",
       "6KUjK7zVHqgTYROsrlX5lQk90Ky6SO5Xu2CQKVZnuq5rVl3jsunalryptVIgvQHDu+2g68Hhfb5m\n",
       "usxD71huQuWYvC+ToVkOulTB/4YS0Ek3Iy6+eQS3RyOl9bl5+i9LW6m+xlOa3jUYnb9G+usSokTb\n",
       "BwI90X+BPXc5t/QUHSzKVXrXezrCNZLQf/SZfBW75Y7V0QSo56844+lx2kClD4NddTvV0Wj6q3yN\n",
       "gY8Gy+yApXlJF0u6CePGqEEAl47mcAN/DuvBRw2t3O5YeBK43om4oCPzF2oNoHaIKjD0Nac+EY9B\n",
       "Ffiq0f1OBwqHLrS+lu41ac4pG0IAkHzn1g9hYpzueXIxP15/8Gckg15pnFmXB1GLD8yRt08u3uY0\n",
       "UqsNHY1x+NDe9t4r60jPsBwx062SRWbk+Uc+GcqDPownFQNwhB+4dCBBrV+KpZeGKk66qAEnytkI\n",
       "6tJsvn4wgCLaGFZtdplxA/NIgTnBn/QG6GFrmIOvE9b5KIhlkZsPN5e55sK14iKZZ7rgXvWStsR7\n",
       "7RvdQHFw0g2J/SqEmKsRJzZ9vSlkiOCXJ6qk+NnJfbbo+Z8zSqpO1h3I8NEu+O2OQGzf/umTz2RL\n",
       "IbiBRQHQZw+mc5mZQSh950g+2ck79D0BJ/m6rm/h9MKzooySONG7hdCaHKp5NqypW6O9Q0sVkwH+\n",
       "uMytW4+9i/68lqePv3dbRONVHrolYRGKedVDK3Qi/aSL2Vs77Kmi/8TiMwRisOV64V48tm2Vrlhb\n",
       "azkswP6/1bicTIFqj4rM8L8ml96e+JmrOOCBmRJi5os6VqChLxkiPvzw1bhxlJ6UYRoB21cGtQOZ\n",
       "clW40eUPSU8oUHgQfXv/0TtdDu3vuLjiHL1z1UcLHrTCvlSoofZJlWChT1e+b2xcpdZYvL4tsYbH\n",
       "iHd6Irf/+nmuu6xD4tPaOY3umzsd/i51inIfSFhp5H8vFX3xNwTVZS1nRVV6WE1ou3n2ykgacIS9\n",
       "IYIfHQKIKBarwRhQqgfd9hTjkgL+J8rJnmSf+d/rEM5ojYg74bp0pEhgK3ILtnFuO5H0fVKUlTMO\n",
       "C3VN30Top8XsYRlRcjGjrgUMUZxfnqVyRL0/H5z9l1TdV3C2IhVQOKybtyMb7Wz1yMj1VRQHjoRU\n",
       "hf3CQt8SZAs3CaQT3L/aCp1OD0zFiYUJ7PunB/JG1YvhejVR0d7AEZZRdEt60eJVB/zThEq96qPI\n",
       "CtYTflZwm14FQjIgknONwAGB66t/d+uAqxDdoC5HrR6LpUuilWxmJvfKZpfo6h08oei++I6MOPmg\n",
       "xfY7LcDY117VYiDXeE/siT8hSQlFhzYU5geb9+kuvkRTu5XEaSh3ASapvpo0OWLA31BNzrevesEz\n",
       "I1yFnvHJ2hQpN2vHVxERGUIP3of+gG0kOV1jItvdP/X99OTWnMLMoIfnBb51x95fJRW6mGJAJf6t\n",
       "YaJ9Jt6mF1uDdtT9mmjIbj680+ET/IxIEAaSEphFVZ+6M6ecrzhCcNeZoDBjvdbjKb5/mAD0I/tX\n",
       "kQJljklui3fB9o2RqMHP0fQQ7y+AwWJJyLJjDcKoKb63NlZ7f3JFTz+cTb9SaetyN7wIqk+Xn51k\n",
       "Z7d2G4eTZm/sL2bJzzo0hx7dyfsaawauyOpmmzgn9EsH271+Lfvd5qrLjl1xZn00sZTU6XlRl92e\n",
       "OsTW4aIMWCwA4F3czEvzbmyIDIHskHx8nsyEubmw8RkuPgB+C/BBz7oL//iWhGcFOjsNPe15WgPt\n",
       "EmfULFNWJOrLImCVPN0rDj/h/xjwRHxjeVKgirDqfKAcMSWFxpTzJx3GZ9EHntaNpHRT7YgZb6fD\n",
       "scu8B71K/QDOhj+hkHdU8o/uGfIj5ch0a63mZaQ80QYFt2hlgFFwwoaLVxW0tHzbvZ7BONQdqUt7\n",
       "mUfMOtt8+DUd6pF7ARzUwN7N3pybmebdzUSyJyEGkVnoMqk1SJjG4wEps/bThHiav98gvpPMBhFA\n",
       "Ewr72hm2o7pvxkC00HRE4z5rMLreW0gexwOokih+mqv33X182hG2cvA1SE/GKjmVZG4yVKsw/xjy\n",
       "KN+cxYvyprKBQkpFWNN78/oRWK59GjDIGNnO/FK3VysJTiRgyMKU4vIONYpSy8IaAOzuKeE5yHCs\n",
       "72FblErJZyK9MpJn4vh2BbT4ua20lQAH+PsPwnLL+rf35693K8nVwRolODYQhY0l2HLGaHI4Vdnh\n",
       "EurN/2p7AxPqapMpIpdbPWVfULwRVbjB3kb6BTBHKJn9IcAWb2VDMQx1vG6OauaeLjtCzYc0i0fZ\n",
       "CNKDY6MjxX+s1pxx6/BUoCazCKiPR1qLvbMrawOEb8cBTfQ/OpgWFL4+qpsqVSsGA15mJz5Xwi4D\n",
       "lVJ4eE+6LgewpkXCRxZT0fx85zFeOOjo/YcLYwJ18KdJST/yRSOCXUQk6meUNYq9iDs7zQOMr2UA\n",
       "nUBYc705UJ2+98AIWgfrLOKoclh44DP+LUQw+dep5HmIda3gghrhHvukKocIHBHxYdGOF90sCnqp\n",
       "ZHjiyb9h5fhhxHJ2UpdjnEXuw8k18wHJcg5RCFRM4KYml2gzOAbY6kDpGsVP5ta4Hrof/NCmx1qj\n",
       "nhFcF/kNwUM/csaZ+DOONiMnECTi229Gr/kTA9RcAPQLeRQeGkqbZp+j36I/NqirRNKjBDJChYhO\n",
       "2AHfvdX0FuGhQsl1aFlIn4Se5vLD1P59cJaIUnKAeWqfgP3ctJaJ4sxJu8wrZ6ieFEgiPrhyOlpt\n",
       "qqVBUwksFEvnF+3/+BYHL08PZF936FyxKMPr1Wox560UeII8t+53DKkVvAo3v0FlhOWe2UOd/1EK\n",
       "ELvWuant622bjNHC76z5TWDYosLq6nHyRAbOaMl9P8XHoJlrbEsvPGX5T6gdJQ5aDKk2zht371GY\n",
       "+QtNoXQE/VsE6wAv7aHwTa9SENsqcwrGITafxYVxv0/q+xzUyvEs/lUjY6FPrCbGlwTBMrcEp5mM\n",
       "nf3/+CLq04lHb88H8roDeY7Iqr6bXFykv9rc25bCTFHQoyIJ9SB6sB+3IkEZARhw6tbNKzhi67PS\n",
       "PVooZ+TV7fiT0OAGt9hh4c07kwNfmyjJLFQceEvpkeqvKnigrFbpEtL8b/MM2Ogm0ADNM1cFKTWf\n",
       "8sJIbBhqwB8KPWzuTL1FMnoYwB5+hYzXKFuFu7/wBBjHCpwNpXlIwwM4trMSt9gRgFoMTNDzY5bd\n",
       "bLsx1yLS7UBz8ibl8DKtLAROVOrlZEF0Q4KXoKuopc1hexmZ1zKKP6OD6s5TyfpQ6iKQP1H4pOIp\n",
       "H3sD3AG4G3Kxz5/4EJl10zyEGBOxi/GL005LGu27wSLgL/b7hr0d2y6ImB6FxC9SIL62IeDIzoBk\n",
       "GIK9qp/QSJqhmJm+pra8ZPx7dbZpoogtS7737Hem7PsBELyIpHd/JUR1Gpl1vN84y6RafANATbxW\n",
       "7noHmcdhgkBN8gxgOAC53bme2Uxe/6bvnXi1Ha/Nc+o1hvEiUWqrgovz0fdQCEIhLvu++XjAxQYc\n",
       "mUz56wMrJT56M0rRSVRY4Qv+o2eRXP2i9MRsR9hgYnm/uc9w+RGHeDgJA+UIReHXfK7c29srcOzb\n",
       "PVa9KELi0QdjvCj8hedIQwWZvWom1dxXBGcQj9daAgQpjR0JhWBtVJUs18xuaXYP2zqE41aihYpX\n",
       "WTCd5OXv/+Q5OI0JJRfy29GlDkcZDSoXDUdQMcrM0vKJDNwM8tPYN0OzcoyvI9ID2xkkyjhwW7z0\n",
       "DZtfKRzWGCUJFDe2RpmO9ZtzYljCh7JRZ9y5oVOd9zj7QEXOkh0tz/X/6AOYYmYHIALOQiNRRLgi\n",
       "Vj7R7kXBhO/Neg/+3maAQynupDSuTob57CP3AAhqZsLmn9mYz+baXIocPx9Ixrx42whMGuHYrVdr\n",
       "DrX+jJlbAgTCBwb3S4kYFzgKF+fIprZ0zuaJ0qE1uOWpcW2VMECFL0vM/E7oEcBem//5+ED5yt2Z\n",
       "gGn4f7/Dtg29q52BALuaLW2pI/QyOku7NFiE6L1L1pA8vopwG7AtsvWomyHjrsffcJJD4da9aW4B\n",
       "bwC7cwWyJIH/ad/BdPjGJ7oLqdrKNpDKGBr5s1fzxwcE+pjCp9345mTfx11WKRIvzDf+LyCSDdww\n",
       "RKUs5nPnw6SLtoi/0JjfJ6R+lYq+KYrW7j2Y8kPh6mBAZAYj2aoMgTT/UGQ3dfjikEakJ48S2mn6\n",
       "kwGEWFofyCdnzmOkkrT4BmfDmMiLM/GfQiU0lzfBpjYbhnOwloFpC6Ctgpp7SVkN55C0ZHOigvO4\n",
       "IyqNmTbekKxg1OsYJCSV6cBVtnAsHf22ZCLRYrbZozr18dkqHmUFxvR8pK4qcWvFxE3wImFULCEd\n",
       "JZuke/GFTwSDm2Wnb+2IKPrvKQCVhbQ3LL2Kmbbwco9xLgjey1hb6kBWOZ1mV0Ck18rrteQGbryr\n",
       "zH4alMGYov6n8+qJiGOhxCPwKA1vh3uj9ytZ7Vrd39/JiCqHM0wQhAgYJ3szCJIbZef/2QFYXpCH\n",
       "JRELBd75yLrXIDFIW5KvFKUKqfoIdZVxv5eCJRTDZf43lhmGM6WVQ6u7w7loHuhFUTeNSkZUAENT\n",
       "eQa1jdhjPz4X//6zbxLMKpp6DZbig/pytjdrMyOjvo17zpS2eYR74GeLRZZZb/Xw98LQOMKiQwe6\n",
       "mnP50TqOM1Gmb4yMGVQMyg5Xn8OsAH9HXwW+aPjFvMKP62KOUEx9bEXZKvKGflmtwOSf/JTzIMFk\n",
       "spXudXDa54WFOlGvzLB9sctwqgKzLr07LEJle1JV59JsN2f3qwRtll3Id5qG6j3ej1Pkk5qMWBTM\n",
       "MZhw9tR6IUtECTVK1LZCvRCvkYGpUv4zYDbiCRaJVq0HQ1ahdIehNsfs92GF9lHVnZrVDYoRj0Zp\n",
       "VRL4/AHrdlYm8NwRkJwcZLXSs/zj9QkbGQheGIMDOrdNSLBiYkKZGIvGHnJqwH0EagmkjwJAIYxi\n",
       "ucnIPWL6n+NjL15lY+uNc0aQh7LCBx417QvmWglrbDFus9h0qewrVcwWr7CnHGwryc241dpSh+PA\n",
       "Ski4EXkNUV9gzd2ktxH+V7NtedxE8Sbcy3psJkr9cbHrpKE9+YeXVxD78rW0s19Ktowin/76RgQ9\n",
       "TQfuhjScglPcpQNPr3EKeWuxqbXTWZ0e/ubSV7JN+N/+S729tGWJVa6zT3o/nEMTuCwRzmkJ9ymH\n",
       "acvQ+SEpVkmMBD7GcdhgCYKGdV3ubEeMTQoLDIvS+SVjdW+Ow13ahAaL0e+h3/m2JLLE2cXfbpJ5\n",
       "iTzm3Rr6FOl3vHMr2K64phP0NIaaFc/9K3a6KPmfewNGdnXIF2HoSDowtUWpE8ZNO00ssja23fKe\n",
       "/vJ3r1xq3zKzMkPB64GPnYLSjjWqGU6INKsuir68BSWaPU+EjeEmwqfRZSu82jhtBhR9jtIAgDBi\n",
       "qzQnpAv3FQaSfrXPBgpyMxQ90sgSo/EHICtbmsLFBsr+sAmQs726aTcdk1Z7wAHIKRVhingceqYX\n",
       "I40ll0sDD4UnFSF9F5zcojPo8T/gB9QRYyV45TjoJ8V1P+KyxszAh4o2afnws0hGMQuEA7wkRvJV\n",
       "rNpky4MdYMoa2ZaALkN9Jns7BZ4iZih08av2/L2kyCH48cmkgOc8f98uOce1ivyis1SSdR62jSgQ\n",
       "4i1oXyrI7657PHVEXzQ9rQaGQTx8asP2A+gxVMocPOa1eQ/PAgKDyihOqyaS5o5g/FjGfReaAz+I\n",
       "okzkZ5sLdXQkQkAK7mmB1bxCZ4hC63Z4CaGv+CVZY5YSU9PZoTBGWo1up79Bve3tNtWLXnpoTF7e\n",
       "ChzZ4Fq2gkCtaZw3pOxncFnyHA2Y8noP60OkV3BwLS6LJJRPbkcNS/LAS6f3FVaaCo+BWb0R6WGb\n",
       "+XznJ6STxuLt4CShUZEXOK3VG8tnUu69GFw6s3M2MYFjDVFE/dBfHh1PlWTI+1+38ICapl3Cymxy\n",
       "Qqbjm64SgspRJNN/4rclIcKWTrHqlbxkXwn7jW9qVCWD9RPND9WeNAKi7t70r2MW06MQLpLfPXd+\n",
       "aaURcNvfgdK3rQPtACZC4gt6/8u2uCgFOkXY98WrbXSn4YzOiz5pkbQ1aSSglqLBonh1bFnmRpvZ\n",
       "JBJkBfPt4JCS21nPQRdV5cXLvGgtnndXdPRu+0jvsDbTayx0OxC9EcbiiKzUvUINYZd2d6v0QsPc\n",
       "btPkTNigbIeghtztayWLwCsXwH+zpH2FNaDigygl9B9R3s2KP4EQNyjb64P9cKZuLpyAGVzvZMrO\n",
       "2HHhP0E8WUFS4pw2bspI6lGuP7T2bRf1MB9M3B1WP33e7P3lnrNiTGnVBtvjn7DZIzy4qs2tIjzH\n",
       "wx4rQOIk26x0K2OYTktm55GHNE4SFTg+HzXcAdhXVQwL31YfdlbxLTR3uqYK81rhctzPT62CY2ng\n",
       "dLuTbonZ+HfZl4UjapLeSHTytj8OiMofEPLPI3xN+VCKlFTaDTqncy+g0S6MRj4p9X7rOxskWvUB\n",
       "uhwpVCWY89b4I1XzgrLtJ9G6soHgh/CvbecDr7LC9UtkYcQKvCfCd9m9OQK6ekOqKFmsG8S1IPck\n",
       "Tju4HMAoXJOHQT6hnWyfJnr8NppEiq0nrF2n4BfEzRW73EagFbxsWAAwgZOhT6DyZzc2nPdEs1KW\n",
       "n3gWFQ/dWPcBWVYaSVMwckRvikPlB/ez1HirB/Nb2orV6//a6FKKDcoCumnykIC9TijufcDrtBvR\n",
       "jOTjgaMkamPQhJnusw9GcMXSm1PbOS8FcGrtmjFmmkKbKQtYXUzESSQFEH636/2fZhHU29oo9AKl\n",
       "pdDxebgAs35h0Z/r8EJ54KaZCjkYJL0Uk37JyLcWipEiWi6lESiqQs+uYH6l/EtxHRw+bVVCp7NO\n",
       "E0H2yDtJAcESIMC5ZmdGUQjAFxjSKmWYVLTH0rnA8e5bGwEj5o7Hf9HbGX0vnrLY7/BsnACjMzw/\n",
       "a8Jc8aE66X8KTcEAAANQQZojbEL//oywHNxOTnPgB7KQ7/QbZANaqL+FyNQxJWP5chei9Q49pYaF\n",
       "f35jyvBmBgBPJNAoqg0W60mi31MrnhjGrTkzMIh2iQb5UivotKEb0fssDL/ZedzrWSbMKy57jGvL\n",
       "cAt9sZgfg/p/iOj5izIJo8qhB2jyV+Iyn27PK+VQqjrXXCPOo0xFLrMYNvk/IOoqGn5J4vGH46iU\n",
       "SoQM6LOQr73aW/d4t9dRvlUA9G8aXTdntM/aFHjVvPq58+dRfP8RyzuHzSMmuCv4iNMYLpolUqR6\n",
       "mdbH4OhjQWxK5tLtjDg5/WbNEJXFgKOP5hsFOo5orvRYUQvcAdG+X3+793lsGV4fsVSgJerTdRr8\n",
       "nTWUXCtnIZmKeSUbAU+qX6UcTTv/7lOQ0M0febshkmo8UMCr2Ue+JNZpQ49PhZzn2FqW5mQchQrx\n",
       "1VUqMb/RRPzmTsD8GgtRoDqE63rt5IvkM5hHDif3aQKB1mbxbaP741zer3FM6moXvWPgWpSuyZ8q\n",
       "rr7YeymvvA9bd8lfMXqM1LKBtB9ImTYN/2NnpVjWFFCzN7MpTvjqjU9bITIF2CxN772nGH8/iSdc\n",
       "HqdUMPbryvrzpVQZ3uU0kI0HT/IOX2Ng0hxLAe3knkoDC2LB0YQASm7rW+8oKf7xiIusbTChDZ0O\n",
       "u0AkyfeRVCnKa7F099JMOa3ZQbhhVJyaZpgX5kzojMf8EYszJyMKpQztIWOEk5sIvTQxoUilRdOR\n",
       "LEX+TB7QMOLXlMag1EmzgLUEWCNla22JbHqu3r5loETMFY49Pv3NSb5ozEX0MCueal64SDkZQ4wH\n",
       "+qn+BmzFI7j6hUh6lAVfmxl/fm4XqMyOK/ULHpnhSKaVKp4+aC0gyLsuXHrH4Gau470cF7NkbFP4\n",
       "4ScEGDIlNXoTSQZ6Qhn+wYRtILA0vkzlimXwy9Wrt3aOhq7g3OR+cjOq2gnrojGASZAwQtibHNPC\n",
       "J9XsGkTTdqfmhgoNblpXyS7UNH+dgYJUPvFVF4nIFV5o5Ibhu7W0xaHu5lftke1q9DkKuCYYWsB8\n",
       "+YTDCcFJ5yegnOurDqGsZy/wxOpMLxT75NRu+I9prfHtj/2hzgKzh9NJd7u7k3tBmOdV0h4EK9nb\n",
       "Rb98M7oxVEQAAABeQZ5BeIR/A2jrrqpekZ4r1mnsZ/g5j0/DAIeaBzLxKmoy8BcgY0j9wyRIhJN1\n",
       "c4/BcgvBhG8D+fSUU+GFO49cN6vgAuUAIPeZ93WvY2CrHBkdCDK/C67sFD30WtRBQQAAADUBnmJq\n",
       "R/8H6jSmlFzOsPi8B5B5j7zR/CfNAPnvEkYE9jx2mQXYAC4nkfLtUJpHOsW4VEcfWAAAAOxBmmVJ\n",
       "qEFomUwU8L/+jLCE4nJznwA9kmHayrCey4Cjd2Kai7mgtW9MAfGfy/dD4+wfcD5NPikCT+EAhPBa\n",
       "pPSspsB/f4aL1cFtN4L+NyyM60QiFlfTmyywxr0bznGJsTaLpmWWGnCP1VtjbOlUreUleX7ysMrc\n",
       "NyKyJaIGYmx2Wlla9OJXCZ+uRsAvqaBqcEOeXDRivKRMI/f+i4Xu/AGQ+NWkc7xp+3qTFT0n5N37\n",
       "sXgzMfxJTdg10Sr9QECRHLJlUjT6Jl1VX9rwYDcKpvkYYaH0ymJwK1TF4f/s8Pg1lUyjep0kBHxj\n",
       "BPO0IQAAAD8BnoRqR/8H5Ioyikqk3xUASuhE8gEwrmEb4klbDMU2JhmxzwhItilLw9b54BWAFuAG\n",
       "6Q5SmL7O2CGn9gTmKlMAAADAQZqISeEKUmUwIV/+OEBK+ZrUuuDIMzaYfZeEd4pDkOay1gJlL8qp\n",
       "vBlZTtRntqpyYcevDdvVvMOA67LtsaarLsKrzvaTE9yJqY5YR2d7MEnIVrILNdl/lv/gD/OnBnyu\n",
       "xMCaCJXIVdw4ff/CqbE/rAaU8jV2txLIK0DYr6SJfrf/bdKQAJSzuS9PM5n2lkgN8M5xcLIutAw1\n",
       "WzymmqviG/rCLxQh+amUWuwxR0+113xDJ6rFe/vOnOmBs1cXdHcdAAAAOUGepkU0TCP/Ayk5sJOc\n",
       "/GmL7aMAnyzZyk2fhWNA8sdyKlqS8vE5tWFcAIPqnVaKXZWRlklva/yMtQAAAB0BnsdqR/8EM+P3\n",
       "sL2w8XCZ4Hu3uMPmNOEnyXNYIgAAAExBmslJqEFomUwIX//+jLAAAYoZ5pfNgDlGlCQJMawejEcv\n",
       "Fkil/q/WwIva78y0Bes/FaR45s0WfHUSySaXfpAkbWvN6bVW63TefdOAAAAAmkGa60nhClJlMFES\n",
       "wv/+jLAAAxTv0YBST0423pGpCYe2Pi0EF+LVynrIT8HG2WxJwGAuJcks+K/D87p5h8wZqOBIm+fP\n",
       "Q+NqJ8txEFCBC/zB/BDwZSwB9ttRSbchpQvKJGMXZP1Gxt9hq/VPd1iOnbTGA7ryFEk7IU1H6buG\n",
       "C+GcCbQnLr7wlb5HU/xb2XVbzj2nKRjBomMuHekAAAAkAZ8Kakf/AHFCeI+xYt58eNuRgASyITCu\n",
       "G4j27LQG4HlJfdz0AAAAm0GbDknhDomUwIX//oywAAXbKdABQDChLexJdCsrNp7he1WO0peqQAgu\n",
       "/LqAmogueUnnSbBfulvOF6usM9TtyvQ81eeWUiDU3Z5mArJFrh5cbeWnoaSOzX7shTN4At7P+0Pf\n",
       "cXAUtP1+m8Nada8DosNC28PHJsPNWVf9ilpi6zgc0TffNoakRfDwrN6+6zcjLxYshs2EfLSkP5VA\n",
       "AAAAKEGfLEUVPCP/AJEoqWQ1DFsr5rmOlQ4/L0JwAgYRDUo5YgoOZU+nRYEAAAAdAZ9Nakf/ACO/\n",
       "HvLDKtcjO0AK/8h+Gb4YQViMiuEAAACHQZtQSahBaJlMFPC//oywAAXde1UAG341bbDgOISXRVO0\n",
       "mwlE0nPTpP4oECI46wKj4RQEU6vMZ8pn3MdDA7Kr08RI/Bc2JYt8ZzJ4svGfeN+/0v3NJJmudQUE\n",
       "r4mNieX4dxU+egrp3h5CfTN+r4fWoeR6UtLuPiUx1We5mWyD/8GnOc6TRo53AAAAIQGfb2pH/wDo\n",
       "d8hUavIuCUt00lYACZXrxAObbAcmJ9Pm0AAAAJ9Bm3NJ4QpSZTAhf/6MsAALbjtsA0TeL4TA9mWb\n",
       "7XKTdmjV7ZBsqPTuGCk4IRbJIgLHl8iy+uAhNyfr3ikoRCe+QXU+OnuMjJaIhpgq4719hBtGkorv\n",
       "uSv+nKlfEWNMkhVRfUKrMZN3UzjWrqlhJt11iBXEHHRwOZyt0q1nWoOpmvcT+75o/03jsXdYzFvX\n",
       "UMMR9jUj5CCOhFvEipV1JtkAAAAoQZ+RRTRMI/8AkwU8khJ3KLpmR055oxsVABr3apPEa8Mjlw4M\n",
       "IvsMoQAAAB8Bn7JqR/8AI78ftJ0wAS1WLDNopRNk8DMdl95MJVRCAAAAgkGbtUmoQWiZTBTwv/6M\n",
       "sAAWbfHwNYkT564TLiYqv2kIt+I7GU9L3Nb0rrB8L9npYyVA+OPqTy4HOHU80iRGa/xPB7Hf/sqK\n",
       "2VmLKsiBcC6oPg+sbICLLpHj+X0r7mHqBrrl1Clo0irJT+Uq25Yxj5of+hKTyfnHcD4O+CUV+Npd\n",
       "gWAAAAAkAZ/Uakf/AOh3yFRq8i4JS+QDJ9TEgAJxfHyOUjZJB2+WvJjZAAAATEGb10nhClJlMFLC\n",
       "//6MsAAWViFZb/AMPA9MgikIRnur/nsScrT9akqzgNJs8fxyPOk+rgVQTvtFomQv8I/NJ2LL7A2a\n",
       "bH3mNNnpBC0AAAAiAZ/2akf/AHFCeI+xYt6CuuVp2uiQAfsW2bpByo648qGvmQAAADNBm/hJ4Q6J\n",
       "lMCF//6MsAAVxhY7bAHANT6Yv53TWy1PpIEYh8UqmlJ4ruKaR/mGNRFHQ48AAACPQZocSeEPJlMC\n",
       "F//+jLAAKpvj4Kk+AAR2tRdgmB7rL0eWnbinXGxHjJ1d7kCQXY1uZ+Kzz70rXWEJ9u7fA6MpuB6R\n",
       "siPq32D7DJBE3g83Aev4FaoeXO22DtzIGeyq98olAWQjt/PUp6/X2lAnp10FLAV7Z85vOnSwlEIU\n",
       "Os+8djDqLEnGAWFZtaGNHNsCS8AAAAAvQZ46RRE8I/8A3Nx5rqmFoji5iM+apMcRIzh71t1rckUP\n",
       "IAExJjgZt9tasRDWexkAAAAiAZ5ZdEf/ACOsTaQHZwcQoOgBtn7WsYRRRZ+ObIEy77tdwAAAAB4B\n",
       "nltqR/8AI78madMAQdI4CDHX9OhkSwpSbyTCgSEAAABuQZpeSahBaJlMFPDP/p4QACo77138a1lk\n",
       "AFh9X2Mwx3X5FZUNbqwArWRcyySuuMmfL38H6DiAnYnTHMLEkDQWDXEggkE+1Kr6t57Y6NhzSzLH\n",
       "2+55DSt/oQK84A5ukGGQTL5VTVuCKeNbvp9EBDcAAAAnAZ59akf/AOh3yFRq8i4JTL+pZ0zwAGhr\n",
       "L+bjcZSToycIZJ7aZ2v4AAAAOkGaYknhClJlMCF//oywAFSy3RAFb0NvVROtcTjFghuPnuCa8I0b\n",
       "+7jdlDLzrJyJijgpvejzJlrMI2AAAAAuQZ6ARTRMI/8A3Nx7h73shsKdt57wzi+VgA21AIp4AQY1\n",
       "/IhC8eP46Og4aRdRIQAAABsBnr90R/8AI6xOnjXaQALcRXuls+VXM0hx/4sAAAAaAZ6hakf/ACO/\n",
       "Jv/beDQAWsvRpf0hrHh5iVkAAABCQZqmSahBaJlMCF///oywAFTUcA/7sARJk1+TF5LY24oTYf97\n",
       "Z2LWK4JHX6dzc+fbC8S3Sn5IXvdrec7atvPAX1EbAAAAIEGexEURLCP/ANzce5rC5HvMKGvsyLJJ\n",
       "LkRwtLoWa7DRAAAAEQGe43RH/wArDghOyT1vS4GXAAAADQGe5WpH/wAjvx4o+4EAAABBQZrqSahB\n",
       "bJlMCFf//jhAAUaygQBEhc8WLDaDeRXfbc2X40wreXYJiO4pM2UVkmIQnQOiTzbAwwrjMN4T9TRk\n",
       "VUEAAAAfQZ8IRRUsI/8A3Nx7msLke8woa+zIsf1MiU2GqldBPQAAAA4Bnyd0R/8AI6xNpAFR/gAA\n",
       "AA0BnylqR/8AI78eKPuBAAAAJUGbK0moQWyZTAhf//6MsABUsdtgBuUvyk+tqhvvOttGd//kFTAA\n",
       "AAA+QZtOSeEKUmUwIX/+jLAAVLKdAAbQhppjmjw0WdNcSCUQBYM87OrtO6iVBdE8V6BpHfcTc43t\n",
       "779e8OQwZUAAAAAgQZ9sRTRMI/8AkwU8khJ3KQKDBEr2zLyVB5g96BDuHfEAAAAZAZ+Nakf/ACtW\n",
       "4oAJgj2V9yU9zBAtDxBBwQAAAENBm49JqEFomUwIZ//+nhAAVrffwzAlfQAbzzoNHJHwjXgEr5ss\n",
       "m+ylX57X+JFXLZbHylEkT9I+qkZuKBWqB/3z8G9BAAAAYEGbs0nhClJlMCGf/p4QAFaO0L4RwA3s\n",
       "pqifGYs1/Gm8lK9GFO3fjqgfD9b8bLU7pzJc3XGHlAQXR0GhB0T/YJHGj1zEDyaxgZVDNvk00eQy\n",
       "pmS6smkOr63NbDSD8mCggAAAACFBn9FFNEwj/wDc3HuHveyGwp3Z3R4zWlNumtEltmDFZIAAAAAb\n",
       "AZ/wdEf/ACxz6oANaJ+gcPWE1GKhqbL0POIPAAAAHAGf8mpH/wAqoTp1ABMskEEvi6rHeyhwkV+0\n",
       "l3AAAABrQZv3SahBaJlMCGf//p4QAFPxuOAFkJj4yotl5B1odSqN6GUyOQaiktGhus6TDflUH95C\n",
       "MK615GVqBdWjT3UykV/Kx3RYxKYBDUktmvMQWuDl01ZmrxaQ3fycFxDcctSmKcJCifuIhvgqCLgA\n",
       "AAAsQZ4VRREsI/8A3Nx7msLke8woa4Si+AB40U4/KPLDa2gfC40vP3CphysYysEAAAATAZ40dEf/\n",
       "ACsjEWJ0qcsIN/BzrgAAABkBnjZqR/8AKjbigAuomZmJdOnp0oHU55BBAAAAakGaO0moQWyZTAhn\n",
       "//6eEACKpA4GtGIACuwrV0VnKx3c3ifdI2n0AQjrmTXK/J1Fw/Bhql7UxcZwuUIEK+yLRoLbZThJ\n",
       "xE2UnJYhpluCJhyEJ507yTlpQWlZmFZLS/l2HyLp4bWwhw1fR3UAAAAhQZ5ZRRUsI/8A3Nx7msLk\n",
       "e8woa1oehdqe6nPhJOZz1xDAAAAAHgGeeHRH/wArU+qACaXOdkOfOJI9pXWE5Xo3deSMGQAAABAB\n",
       "nnpqR/8AI78m+C/xBO6AAAAAgEGaf0moQWyZTAhn//6eEABWMbjgE0lf8Qn1wUOsuOhtgJDIkDwd\n",
       "qWCwPNCq6xxuMiFLYf13ervp5LQc46bo5UGmuOrfV0hTRBIAdvCTqh5o7j0RELPKpS0Wb8ODCOhz\n",
       "hM/AotoKEvO9+6u1WTYmJYKMvRqR+wrdo332BZDNULKBAAAAKEGenUUVLCP/ANzce5rC5HvMKKb/\n",
       "4AD+dyTHOXEIkN7TKAKLSKRNVO0AAAARAZ68dEf/ACxee7ItmfjUQYAAAAAPAZ6+akf/ACxKAEmF\n",
       "UfOAAAAAPEGao0moQWyZTAhn//6eEABWMdpQCEeoM/LPibyLpJUU3OvCjT/MMKg72YeM9fdvU2Ez\n",
       "TXN4i1PNJstiqwAAACBBnsFFFSwj/wDc3HuawuR7zCigrXCE/3rvIF33Ecc8eAAAAA8BnuB0R/8A\n",
       "LEMO9yTishcAAAANAZ7iakf/ACO/Hij7gAAAAEJBmudJqEFsmUwIX//+jLAAVLKdAAcVMawMImP9\n",
       "bAcGIjgvRTO3BSqj+Sp+2yxeZFaBb7RaIMhjB2aAAcjQtBMwh4EAAAAdQZ8FRRUsI/8A3Nx7msLk\n",
       "e8woW/IcRgH8dWSfS4EAAAAMAZ8kdEf/ACOsQCG/AAAADQGfJmpH/wAjvx4o+4EAAAA0QZsqSahB\n",
       "bJlMCGf//p4QAFPzQeAFuGpaQS/BbtVA61ccaBnYh3f+dStnfu9qBFdfPVEDAgAAABlBn0hFFSwj\n",
       "/wCTFQgZlTfWd2yK2BWKsl9AAAAAEAGfaWpH/wAqmdmjdMwgg4EAAAAqQZtuSahBbJlMCGf//p4Q\n",
       "AFPyvjgBtpnruGocj71tb9C7F6ydcz2WUQMCAAAAHEGfjEUVLCP/ANzce5rC5HvMKGvsyAEWDDiI\n",
       "TUAAAAAMAZ+rdEf/ACOsQCG/AAAADQGfrWpH/wAjvx4o+4EAAAAeQZuySahBbJlMCF///oywAFSy\n",
       "TsAQyhC5idLOzMIfAAAAHEGf0EUVLCP/ANzce5rC5HvMKGvsyAEWDDiITUAAAAAMAZ/vdEf/ACOs\n",
       "QCG/AAAADQGf8WpH/wAjvx4o+4EAAAApQZv2SahBbJlMCF///oywAFSbEskbg2ADhuR7uKpmEHy1\n",
       "e/bI0JNmEPAAAAAlQZ4URRUsI/8A3Nx7msLke8woY6V38ACdsYm1DWudgDdWBknHTAAAABEBnjN0\n",
       "R/8AKz65LRRiG69QvwAAAA8BnjVqR/8AI0vM8S7zFhYAAAAXQZo6SahBbJlMCF///oywAFdLfYqz\n",
       "CDkAAAAdQZ5YRRUsI/8A3Nx7msLke8womTvo9ZAXgAzoW2UAAAAOAZ53dEf/ACxDDvdZw3oAAAAN\n",
       "AZ55akf/ACO/Hij7gQAAACVBmn5JqEFsmUwIV//+OEABR12FYACWSmbPWcQVhE6xZ1HQEAVsAAAA\n",
       "HEGenEUVLCP/ANzce5rC5HvMKKjNzIhLYw4SFPEAAAAMAZ67dEf/ACOsQCG/AAAADQGevWpH/wAj\n",
       "vx4o+4AAAAAeQZqiSahBbJlMCEf//eEABPv0+RAAnVEa04A4QH+AAAAAHUGewEUVLCP/ANzce5rC\n",
       "5HvMKKizFo3ULedTWATxAAAADAGe/3RH/wAjrEAhvwAAAA8BnuFqR/8AKzP8tqggg4EAAAASQZrj\n",
       "SahBbJlMCP/8hAAAAwGzAAAHrm1vb3YAAABsbXZoZAAAAAAAAAAAAAAAAAAAA+gAAAfQAAEAAAEA\n",
       "AAAAAAAAAAAAAAABAAAAAAAAAAAAAAAAAAAAAQAAAAAAAAAAAAAAAAAAQAAAAAAAAAAAAAAAAAAA\n",
       "AAAAAAAAAAAAAAAAAAAAAAIAAAbYdHJhawAAAFx0a2hkAAAAAwAAAAAAAAAAAAAAAQAAAAAAAAfQ\n",
       "AAAAAAAAAAAAAAAAAAAAAAABAAAAAAAAAAAAAAAAAAAAAQAAAAAAAAAAAAAAAAAAQAAAAAGwAAAB\n",
       "IAAAAAAAJGVkdHMAAAAcZWxzdAAAAAAAAAABAAAH0AAAAgAAAQAAAAAGUG1kaWEAAAAgbWRoZAAA\n",
       "AAAAAAAAAAAAAAAAMgAAAGQAVcQAAAAAAC1oZGxyAAAAAAAAAAB2aWRlAAAAAAAAAAAAAAAAVmlk\n",
       "ZW9IYW5kbGVyAAAABfttaW5mAAAAFHZtaGQAAAABAAAAAAAAAAAAAAAkZGluZgAAABxkcmVmAAAA\n",
       "AAAAAAEAAAAMdXJsIAAAAAEAAAW7c3RibAAAALNzdHNkAAAAAAAAAAEAAACjYXZjMQAAAAAAAAAB\n",
       "AAAAAAAAAAAAAAAAAAAAAAGwASAASAAAAEgAAAAAAAAAAQAAAAAAAAAAAAAAAAAAAAAAAAAAAAAA\n",
       "AAAAAAAAAAAAABj//wAAADFhdmNDAWQAHv/hABhnZAAerNlBsJaEAAADAAQAAAMBkDxYtlgBAAZo\n",
       "6+PLIsAAAAAcdXVpZGtoQPJfJE/FujmlG88DI/MAAAAAAAAAGHN0dHMAAAAAAAAAAQAAAGQAAAEA\n",
       "AAAAFHN0c3MAAAAAAAAAAQAAAAEAAAMAY3R0cwAAAAAAAABeAAAAAQAAAgAAAAABAAAEAAAAAAIA\n",
       "AAEAAAAAAQAAAwAAAAABAAABAAAAAAEAAAQAAAAAAgAAAQAAAAABAAACAAAAAAEAAAMAAAAAAQAA\n",
       "AQAAAAABAAAEAAAAAAIAAAEAAAAAAQAAAwAAAAABAAABAAAAAAEAAAQAAAAAAgAAAQAAAAABAAAD\n",
       "AAAAAAEAAAEAAAAAAQAAAwAAAAABAAABAAAAAAEAAAIAAAAAAQAABQAAAAABAAACAAAAAAEAAAAA\n",
       "AAAAAQAAAQAAAAABAAADAAAAAAEAAAEAAAAAAQAABQAAAAABAAACAAAAAAEAAAAAAAAAAQAAAQAA\n",
       "AAABAAAFAAAAAAEAAAIAAAAAAQAAAAAAAAABAAABAAAAAAEAAAUAAAAAAQAAAgAAAAABAAAAAAAA\n",
       "AAEAAAEAAAAAAQAAAgAAAAABAAAEAAAAAAIAAAEAAAAAAQAAAgAAAAABAAAFAAAAAAEAAAIAAAAA\n",
       "AQAAAAAAAAABAAABAAAAAAEAAAUAAAAAAQAAAgAAAAABAAAAAAAAAAEAAAEAAAAAAQAABQAAAAAB\n",
       "AAACAAAAAAEAAAAAAAAAAQAAAQAAAAABAAAFAAAAAAEAAAIAAAAAAQAAAAAAAAABAAABAAAAAAEA\n",
       "AAUAAAAAAQAAAgAAAAABAAAAAAAAAAEAAAEAAAAAAQAABQAAAAABAAACAAAAAAEAAAAAAAAAAQAA\n",
       "AQAAAAABAAAEAAAAAAIAAAEAAAAAAQAABQAAAAABAAACAAAAAAEAAAAAAAAAAQAAAQAAAAABAAAF\n",
       "AAAAAAEAAAIAAAAAAQAAAAAAAAABAAABAAAAAAEAAAUAAAAAAQAAAgAAAAABAAAAAAAAAAEAAAEA\n",
       "AAAAAQAABQAAAAABAAACAAAAAAEAAAAAAAAAAQAAAQAAAAABAAAFAAAAAAEAAAIAAAAAAQAAAAAA\n",
       "AAABAAABAAAAAAEAAAUAAAAAAQAAAgAAAAABAAAAAAAAAAEAAAEAAAAAAQAAAgAAAAAcc3RzYwAA\n",
       "AAAAAAABAAAAAQAAAGQAAAABAAABpHN0c3oAAAAAAAAAAAAAAGQAADVPAAADVAAAAGIAAAA5AAAA\n",
       "8AAAAEMAAADEAAAAPQAAACEAAABQAAAAngAAACgAAACfAAAALAAAACEAAACLAAAAJQAAAKMAAAAs\n",
       "AAAAIwAAAIYAAAAoAAAAUAAAACYAAAA3AAAAkwAAADMAAAAmAAAAIgAAAHIAAAArAAAAPgAAADIA\n",
       "AAAfAAAAHgAAAEYAAAAkAAAAFQAAABEAAABFAAAAIwAAABIAAAARAAAAKQAAAEIAAAAkAAAAHQAA\n",
       "AEcAAABkAAAAJQAAAB8AAAAgAAAAbwAAADAAAAAXAAAAHQAAAG4AAAAlAAAAIgAAABQAAACEAAAA\n",
       "LAAAABUAAAATAAAAQAAAACQAAAATAAAAEQAAAEYAAAAhAAAAEAAAABEAAAA4AAAAHQAAABQAAAAu\n",
       "AAAAIAAAABAAAAARAAAAIgAAACAAAAAQAAAAEQAAAC0AAAApAAAAFQAAABMAAAAbAAAAIQAAABIA\n",
       "AAARAAAAKQAAACAAAAAQAAAAEQAAACIAAAAhAAAAEAAAABMAAAAWAAAAFHN0Y28AAAAAAAAAAQAA\n",
       "ACwAAABidWR0YQAAAFptZXRhAAAAAAAAACFoZGxyAAAAAAAAAABtZGlyYXBwbAAAAAAAAAAAAAAA\n",
       "AC1pbHN0AAAAJal0b28AAAAdZGF0YQAAAAEAAAAATGF2ZjU4LjIwLjEwMA==\n",
       "\">\n",
       "  Your browser does not support the video tag.\n",
       "</video>"
      ]
     },
     "metadata": {},
     "output_type": "display_data"
    }
   ],
   "source": [
    "try:\n",
    "    display_html(HTML(anim.to_html5_video()))\n",
    "except (RuntimeError, KeyError):\n",
    "    # In case the build-in renderers are unaviable, fall back to\n",
    "    # a custom one, that doesn't require external libraries\n",
    "    anim.save(None, writer=matplotlib_utils.SimpleMovieWriter(0.001))"
   ]
  },
  {
   "cell_type": "code",
   "execution_count": null,
   "metadata": {},
   "outputs": [],
   "source": []
  }
 ],
 "metadata": {
  "kernelspec": {
   "display_name": "Python 3",
   "language": "python",
   "name": "python3"
  },
  "language_info": {
   "codemirror_mode": {
    "name": "ipython",
    "version": 3
   },
   "file_extension": ".py",
   "mimetype": "text/x-python",
   "name": "python",
   "nbconvert_exporter": "python",
   "pygments_lexer": "ipython3",
   "version": "3.7.2"
  }
 },
 "nbformat": 4,
 "nbformat_minor": 1
}
