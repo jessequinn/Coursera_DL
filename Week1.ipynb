{
 "cells": [
  {
   "cell_type": "code",
   "execution_count": 6,
   "metadata": {},
   "outputs": [],
   "source": [
    "# !pip install numpy"
   ]
  },
  {
   "cell_type": "markdown",
   "metadata": {},
   "source": [
    "MSE = $$L(w)=\\frac{1}{l}\\sum_{i=1}^{l}(w^{T}x_{i}-y_{i})^{2}=\\frac{1}{l}||Xw-y||^{2}$$"
   ]
  },
  {
   "cell_type": "markdown",
   "metadata": {},
   "source": [
    "Softmax transform =$$S(y_i)=\\frac{e^{y_i}}{\\sum_{j=1}^{j}e^{y_j}}$$\n",
    "\n"
   ]
  },
  {
   "cell_type": "code",
   "execution_count": 7,
   "metadata": {},
   "outputs": [
    {
     "name": "stdout",
     "output_type": "stream",
     "text": [
      "[0.6037489  0.03005889 0.36619222]\n"
     ]
    }
   ],
   "source": [
    "# Softmax transform the vector\n",
    "\n",
    "import numpy as np\n",
    "\n",
    "def softmax(v):\n",
    "    \"\"\"Compute softmax values for each sets of scores in vector.\"\"\"\n",
    "    e_v = np.exp(v - np.max(v))\n",
    "    return e_v / e_v.sum(axis=0)\n",
    "\n",
    "scores = [1, -2, 0.5]\n",
    "print(softmax(scores))"
   ]
  },
  {
   "cell_type": "code",
   "execution_count": 11,
   "metadata": {},
   "outputs": [
    {
     "name": "stdout",
     "output_type": "stream",
     "text": [
      "55\n"
     ]
    }
   ],
   "source": [
    "classes = 5\n",
    "features = 10\n",
    "\n",
    "parameters = (classes*features)+5\n",
    "print(parameters)"
   ]
  },
  {
   "cell_type": "code",
   "execution_count": null,
   "metadata": {},
   "outputs": [],
   "source": []
  }
 ],
 "metadata": {
  "kernelspec": {
   "display_name": "Python 3",
   "language": "python",
   "name": "python3"
  },
  "language_info": {
   "codemirror_mode": {
    "name": "ipython",
    "version": 3
   },
   "file_extension": ".py",
   "mimetype": "text/x-python",
   "name": "python",
   "nbconvert_exporter": "python",
   "pygments_lexer": "ipython3",
   "version": "3.7.2"
  }
 },
 "nbformat": 4,
 "nbformat_minor": 2
}
