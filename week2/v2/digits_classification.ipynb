{
 "cells": [
  {
   "cell_type": "markdown",
   "metadata": {
    "slideshow": {
     "slide_type": "slide"
    }
   },
   "source": [
    "# MNIST digits classification with TensorFlow"
   ]
  },
  {
   "cell_type": "markdown",
   "metadata": {},
   "source": [
    "<img src=\"images/mnist_sample.png\" style=\"width:30%\">"
   ]
  },
  {
   "cell_type": "code",
   "execution_count": 1,
   "metadata": {},
   "outputs": [
    {
     "name": "stdout",
     "output_type": "stream",
     "text": [
      "We're using TF 1.13.1\n"
     ]
    },
    {
     "name": "stderr",
     "output_type": "stream",
     "text": [
      "Using TensorFlow backend.\n"
     ]
    }
   ],
   "source": [
    "import numpy as np\n",
    "from sklearn.metrics import accuracy_score\n",
    "from matplotlib import pyplot as plt\n",
    "%matplotlib inline\n",
    "import tensorflow as tf\n",
    "print(\"We're using TF\", tf.__version__)\n",
    "\n",
    "import sys\n",
    "sys.path.append(\"../..\")\n",
    "import grading\n",
    "\n",
    "import matplotlib_utils\n",
    "from importlib import reload\n",
    "reload(matplotlib_utils)\n",
    "\n",
    "import grading_utils\n",
    "reload(grading_utils)\n",
    "\n",
    "import keras_utils\n",
    "from keras_utils import reset_tf_session"
   ]
  },
  {
   "cell_type": "markdown",
   "metadata": {},
   "source": [
    "# Fill in your Coursera token and email\n",
    "To successfully submit your answers to our grader, please fill in your Coursera submission token and email"
   ]
  },
  {
   "cell_type": "code",
   "execution_count": 2,
   "metadata": {},
   "outputs": [],
   "source": [
    "grader = grading.Grader(assignment_key=\"XtD7ho3TEeiHQBLWejjYAA\", \n",
    "                        all_parts=[\"9XaAS\", \"vmogZ\", \"RMv95\", \"i8bgs\", \"rE763\"])"
   ]
  },
  {
   "cell_type": "code",
   "execution_count": 3,
   "metadata": {},
   "outputs": [],
   "source": [
    "# token expires every 30 min\n",
    "COURSERA_TOKEN = \"Roe8wXhO7Mo0H5zM\"\n",
    "COURSERA_EMAIL = \"me@jessequinn.info\""
   ]
  },
  {
   "cell_type": "markdown",
   "metadata": {},
   "source": [
    "# Look at the data\n",
    "\n",
    "In this task we have 50000 28x28 images of digits from 0 to 9.\n",
    "We will train a classifier on this data."
   ]
  },
  {
   "cell_type": "code",
   "execution_count": 4,
   "metadata": {},
   "outputs": [],
   "source": [
    "import preprocessed_mnist\n",
    "X_train, y_train, X_val, y_val, X_test, y_test = preprocessed_mnist.load_dataset()"
   ]
  },
  {
   "cell_type": "code",
   "execution_count": 5,
   "metadata": {},
   "outputs": [
    {
     "name": "stdout",
     "output_type": "stream",
     "text": [
      "X_train [shape (50000, 28, 28)] sample patch:\n",
      " [[0.         0.29803922 0.96470588 0.98823529 0.43921569]\n",
      " [0.         0.33333333 0.98823529 0.90196078 0.09803922]\n",
      " [0.         0.33333333 0.98823529 0.8745098  0.        ]\n",
      " [0.         0.33333333 0.98823529 0.56862745 0.        ]\n",
      " [0.         0.3372549  0.99215686 0.88235294 0.        ]]\n",
      "A closeup of a sample patch:\n"
     ]
    },
    {
     "data": {
      "image/png": "[encoded data removed]",
      "text/plain": [
       "<Figure size 432x288 with 1 Axes>"
      ]
     },
     "metadata": {
      "needs_background": "light"
     },
     "output_type": "display_data"
    },
    {
     "name": "stdout",
     "output_type": "stream",
     "text": [
      "And the whole sample:\n"
     ]
    },
    {
     "data": {
      "image/png": "[encoded data removed]",
      "text/plain": [
       "<Figure size 432x288 with 1 Axes>"
      ]
     },
     "metadata": {
      "needs_background": "light"
     },
     "output_type": "display_data"
    },
    {
     "name": "stdout",
     "output_type": "stream",
     "text": [
      "y_train [shape (50000,)] 10 samples:\n",
      " [5 0 4 1 9 2 1 3 1 4]\n"
     ]
    }
   ],
   "source": [
    "# X contains rgb values divided by 255\n",
    "print(\"X_train [shape %s] sample patch:\\n\" % (str(X_train.shape)), X_train[1, 15:20, 5:10])\n",
    "print(\"A closeup of a sample patch:\")\n",
    "plt.imshow(X_train[1, 15:20, 5:10], cmap=\"Greys\")\n",
    "plt.show()\n",
    "print(\"And the whole sample:\")\n",
    "plt.imshow(X_train[1], cmap=\"Greys\")\n",
    "plt.show()\n",
    "print(\"y_train [shape %s] 10 samples:\\n\" % (str(y_train.shape)), y_train[:10])"
   ]
  },
  {
   "cell_type": "markdown",
   "metadata": {},
   "source": [
    "# Linear model\n",
    "\n",
    "Your task is to train a linear classifier $\\vec{x} \\rightarrow y$ with SGD using TensorFlow.\n",
    "\n",
    "You will need to calculate a logit (a linear transformation) $z_k$ for each class: \n",
    "$$z_k = \\vec{x} \\cdot \\vec{w_k} + b_k \\quad k = 0..9$$\n",
    "\n",
    "And transform logits $z_k$ to valid probabilities $p_k$ with softmax: \n",
    "$$p_k = \\frac{e^{z_k}}{\\sum_{i=0}^{9}{e^{z_i}}} \\quad k = 0..9$$\n",
    "\n",
    "We will use a cross-entropy loss to train our multi-class classifier:\n",
    "$$\\text{cross-entropy}(y, p) = -\\sum_{k=0}^{9}{\\log(p_k)[y = k]}$$ \n",
    "\n",
    "where \n",
    "$$\n",
    "[x]=\\begin{cases}\n",
    "       1, \\quad \\text{if $x$ is true} \\\\\n",
    "       0, \\quad \\text{otherwise}\n",
    "    \\end{cases}\n",
    "$$\n",
    "\n",
    "Cross-entropy minimization pushes $p_k$ close to 1 when $y = k$, which is what we want.\n",
    "\n",
    "Here's the plan:\n",
    "* Flatten the images (28x28 -> 784) with `X_train.reshape((X_train.shape[0], -1))` to simplify our linear model implementation\n",
    "* Use a matrix placeholder for flattened `X_train`\n",
    "* Convert `y_train` to one-hot encoded vectors that are needed for cross-entropy\n",
    "* Use a shared variable `W` for all weights (a column $\\vec{w_k}$ per class) and `b` for all biases.\n",
    "* Aim for ~0.93 validation accuracy"
   ]
  },
  {
   "cell_type": "code",
   "execution_count": 6,
   "metadata": {},
   "outputs": [
    {
     "name": "stdout",
     "output_type": "stream",
     "text": [
      "(50000, 784)\n",
      "(10000, 784)\n"
     ]
    }
   ],
   "source": [
    "X_train_flat = X_train.reshape((X_train.shape[0], -1))\n",
    "print(X_train_flat.shape)\n",
    "\n",
    "X_val_flat = X_val.reshape((X_val.shape[0], -1))\n",
    "print(X_val_flat.shape)"
   ]
  },
  {
   "cell_type": "code",
   "execution_count": 7,
   "metadata": {},
   "outputs": [
    {
     "name": "stdout",
     "output_type": "stream",
     "text": [
      "(50000, 10)\n",
      "[[0. 0. 0. 0. 0. 1. 0. 0. 0. 0.]\n",
      " [1. 0. 0. 0. 0. 0. 0. 0. 0. 0.]\n",
      " [0. 0. 0. 0. 1. 0. 0. 0. 0. 0.]] [5 0 4]\n"
     ]
    }
   ],
   "source": [
    "import keras\n",
    "\n",
    "y_train_oh = keras.utils.to_categorical(y_train, 10)\n",
    "y_val_oh = keras.utils.to_categorical(y_val, 10)\n",
    "\n",
    "print(y_train_oh.shape)\n",
    "print(y_train_oh[:3], y_train[:3])"
   ]
  },
  {
   "cell_type": "code",
   "execution_count": 8,
   "metadata": {},
   "outputs": [],
   "source": [
    "# run this again if you remake your graph\n",
    "s = reset_tf_session()"
   ]
  },
  {
   "cell_type": "code",
   "execution_count": 9,
   "metadata": {},
   "outputs": [],
   "source": [
    "n_input = 784 # MNIST data input (img shape: 28*28)\n",
    "n_classes = 10 # MNIST total classes (0-9 digits)"
   ]
  },
  {
   "cell_type": "code",
   "execution_count": 10,
   "metadata": {},
   "outputs": [
    {
     "name": "stdout",
     "output_type": "stream",
     "text": [
      "WARNING:tensorflow:From /home/jessequinn/.virtualenvs/ProgrammingAssignments/lib/python3.7/site-packages/tensorflow/python/framework/op_def_library.py:263: colocate_with (from tensorflow.python.framework.ops) is deprecated and will be removed in a future version.\n",
      "Instructions for updating:\n",
      "Colocations handled automatically by placer.\n"
     ]
    }
   ],
   "source": [
    "# Model parameters: W and b\n",
    "### YOUR CODE HERE ### tf.get_variable(...) with shape[0] = 784\n",
    "W = tf.get_variable(\"W\", shape=(n_input,10), dtype=tf.float32)\n",
    "### YOUR CODE HERE ### tf.get_variable(...)\n",
    "b = tf.get_variable(\"b\", shape=(10), dtype=tf.float32)"
   ]
  },
  {
   "cell_type": "code",
   "execution_count": 11,
   "metadata": {},
   "outputs": [],
   "source": [
    "# Placeholders for the input data\n",
    "### YOUR CODE HERE ### tf.placeholder(...) for flat X with shape[0] = None for any batch size\n",
    "input_X = tf.placeholder(tf.float32, shape=(None, n_input))\n",
    "### YOUR CODE HERE ### tf.placeholder(...) for one-hot encoded true labels\n",
    "input_y = tf.placeholder(tf.float32, shape=(None, n_classes))"
   ]
  },
  {
   "cell_type": "code",
   "execution_count": 12,
   "metadata": {},
   "outputs": [],
   "source": [
    "# Compute predictions\n",
    "logits = input_X@W + b\n",
    "probas = tf.nn.softmax(logits)\n",
    "classes = tf.argmax(probas,1)\n",
    "# Loss should be a scalar number: average loss over all the objects with tf.reduce_mean().\n",
    "# Use tf.nn.softmax_cross_entropy_with_logits on top of one-hot encoded input_y and logits.\n",
    "# It is identical to calculating cross-entropy on top of probas, but is more numerically friendly (read the docs).\n",
    "loss = tf.reduce_mean(tf.nn.softmax_cross_entropy_with_logits_v2(logits=logits, labels=input_y))\n",
    "step = tf.train.AdamOptimizer(learning_rate=0.001).minimize(loss)\n",
    "# step = tf.train.AdagradOptimizer(learning_rate=0.001).minimize(loss)\n",
    "# step = tf.train.AdadeltaOptimizer(learning_rate=0.001).minimize(loss)"
   ]
  },
  {
   "cell_type": "code",
   "execution_count": 13,
   "metadata": {
    "scrolled": false
   },
   "outputs": [
    {
     "data": {
      "text/html": [
       "<img src=\"data:image/png;base64,iVBORw0KGgoAAAANSUhEUgAAA2AAAAEgCAYAAADSVRDhAAAABHNCSVQICAgIfAhkiAAAAAlwSFlzAAALEgAACxIB0t1%2B/AAAADl0RVh0U29mdHdhcmUAbWF0cGxvdGxpYiB2ZXJzaW9uIDMuMC4zLCBodHRwOi8vbWF0cGxvdGxpYi5vcmcvnQurowAAIABJREFUeJzs3Xl8zNf%2Bx/HXZJdNFgmyWGMJmiCJpQjai4otRS2tnbpVLl1U3bpaSn91W62WttQWrVrrVqklVSroSmgR4SZxLYklkpDInkzm/P74NkMqSROyGD7Px%2BP7mOW7fWbCTN4553uOTimlEEIIIYQQQghR6cyquwAhhBBCCCGEeFhIABNCCCGEEEKIKiIBTAghhBBCCCGqiAQwIYQQQgghhKgiEsCEEEIIIYQQoopIABNCCCGEEEKIKiIBTAghhBBCCCGqiAQwIYQQQgghhKgiEsCEEEIIIYQQoopIABNCCCGEEEKIKiIBTAghhBBCCCGqiAQwIYQQQgghhKgiEsCEEEIIIYQQoopIABNCCCGEEEKIKiIBTAghhBBCCCGqiAQwIYQQQgghhKgiEsCEEEIIIYQQoopIABNCCCGEEEKIKiIBTAghhBBCCCGqiAQwIUS56XQ64uLiqrsMIYQQQgiTIwFMiPuMXq%2Bv7hLu2YPwGoQQwhQppTAYDNVdhhCiFBLAhKhC8fHxDBw4EDc3N1xdXZkyZQpr1qyhU6dOvPjii7i6ujJnzhwMBgPz58%2Bnfv36uLu7M2rUKNLS0gDIyclhxIgRuLq64uTkRFBQEImJiQCsWbOGRo0a4eDgQMOGDVm3bl2JtZw5c4YePXrg4uJCs2bN2Lx5s3HdmDFjmDx5Mn369MHBwYH27dtz9uxZAIKDgwHw9/fH3t6eTZs2ERERgZeXF//%2B97%2BpU6cOY8eOBWDFihX4%2BPjg4uJC//79uXz5svEcOp2OxYsX06hRI2rVqsUrr7yCwWAgLy8PFxcXTp48adz22rVr2NrakpSUVEE/CSGEqFwLFiygcePGODg40KJFC7Zu3Wpct2LFCnx9fY3rjh07BhT/HQEwZ84cRowYYdz//Pnz6HQ64x%2B7unXrxqxZs%2BjUqRO2trb873//IywszHiORo0a8emnnxapb9u2bbRu3RpHR0caN25MeHg4X375JQEBAUW2e//99xkwYEClvEdCPLSUEKJK6PV65efnp1544QWVkZGhsrOz1aFDh1RYWJgyNzdXixcvVvn5%2BSorK0utWrVKNW7cWJ09e1alp6erJ598Uo0YMUIppdSyZctU3759VWZmptLr9SoyMlKlpaWpjIwM5eDgoM6cOaOUUury5csqKiqq2FoyMjKUl5eXWr16tcrPz1fHjh1Trq6u6tSpU0oppUaPHq1cXFzUr7/%2BqvLz89XTTz%2Bthg4datwfULGxscbH%2B/fvV%2Bbm5mrGjBkqJydHZWVlqX379ilXV1d19OhRlZOTo6ZMmaK6dOlS5BjdunVTKSkp6sKFC6pJkyZqxYoVSimlJk2apGbMmGHc9oMPPlB9%2B/atoJ%2BEEEJUvs2bN6tLly6pgoICtXHjRmVra6suX76sNm/erDw8PNThw4eVwWBQsbGx6vz58yV%2BRyil1BtvvKGeeeYZ47HPnTunAJWfn6%2BUUqpr167K29tbRUVFqfz8fJWXl6d27Nih4uLilMFgUBEREapGjRrq6NGjSimlfv31V%2BXo6Kj27NmjCgoKVEJCgjp9%2BrTKyclRzs7OKjo62niu1q1bqy1btlThOyfEg08CmBBV5KefflK1atUyfmEWCgsLU97e3kWee%2Byxx9THH39sfHzmzBllYWGh8vPz1apVq1THjh3V8ePHi%2ByTkZGhatasqbZs2aKysrJKrWXjxo2qc%2BfORZ6bOHGimjNnjlJKC2Djx483rtu5c6dq1qyZ8XFxAczS0lJlZ2cbnxs3bpx65ZVXjI/T09OVhYWFOnfunPEYu3fvNq7/%2BOOP1WOPPaaUUuqXX35R3t7eymAwKKWUCggIUJs2bSr1NQkhxP3M399fff3116pnz57qgw8%2BuGN9Sd8RSpUtgM2ePbvU8w8YMMB43okTJ6oXXnih2O2ee%2B459dprrymllIqKilJOTk4qJyenbC9SCFEm0gVRiCoSHx9P/fr1sbCwuGOdt7d3kceXL1%2Bmfv36xsf169dHr9eTmJjIyJEj6dWrF8OGDcPDw4MZM2aQn5%2BPnZ0dmzZtYtmyZdStW5c%2Bffpw5swZAFq2bIm9vT329vYcOnSICxcu8Ouvv%2BLk5GRc1q1bx9WrV43nrFOnjvG%2Bra0tGRkZpb4%2BNzc3bGxsSnwN9vb2uLq6cunSpWJfd/369Y1dFNu3b4%2BtrS0RERGcOXOGuLg4%2BvfvX%2Br5hRDifvL555/TunVr42dsVFQUycnJxMfH07hx4zu2L%2B07oiz%2B/D2ye/duOnTogIuLC05OTuzatYvk5GTjuYqrAWD06NGsX78epRRr165lyJAhWFtb31VNQojiSQAToop4e3tz8eLFYgeo0Ol0RR57eHhw4cIF4%2BOLFy9iYWFB7dq1sbS05I033iA6OpqffvqJHTt28PnnnwPQq1cvvvvuO65cuULz5s159tlnATh16hQZGRlkZGTQpUsXvL296dq1K6mpqcYlIyODpUuX3vXr%2B6vXkJmZSUpKCp6ensbn4uPji7xGDw8P4%2BPRo0fzxRdfsHbtWgYPHlwk3AkhxP3swoULPPvss3z00UekpKSQmppKq1atUErh7e1tvKb2dqV9R9jZ2ZGVlWV8fPsfywrd/hmcm5vLoEGDmD59OomJiaSmphISEoJSyniu4moA6NChA1ZWVhw6dIj169czcuTIcr9%2BIUTpJIAJUUXatWtH3bp1mTlzJpmZmeTk5PDjjz8Wu%2B3w4cNZtGgR586dIyMjg9dee42hQ4diYWHB/v37OXnyJAUFBTg6OmJpaYmZmRmJiYls27aNzMxMrK2tsbe3x8ys%2BP/iffv2JSYmhrVr15Kfn09%2Bfj5Hjhzh9OnTZXottWvX5n//%2B1%2Bp2wwfPpywsDB%2B//13cnNzee2112jfvj0NGjQwbvPuu%2B9y48YN4uPj%2BfDDDxk6dKhx3YgRI9i6dStffPEFo0aNKlNdQghxP8jMzESn0%2BHm5gZAWFgYUVFRAEyYMIGFCxdy9OhRlFLExcVx4cKFUr8jWrduzcGDB7l48SJpaWm8/fbbpZ4/Ly%2BP3Nxc3NzcsLCwYPfu3ezZs8e4fvz48YSFhbFv3z4MBgOXLl0y9pgAGDVqFFOmTMHS0pLOnTtX9NsjxENPApgQVcTc3JxvvvmGuLg46tWrh5eXF5s2bSp223HjxjFy5EiCg4Np2LAhNjY2LFmyBND%2B8jl48GAcHR3x9fWla9eujBw5EoPBwPvvv4%2BHhwcuLi4cOHCgxBYtBwcH9uzZw8aNG/Hw8KBOnTq8%2Buqr5Obmlum1zJkzh9GjR%2BPk5FRk9MTb/e1vf2PevHkMGjSIunXrcvbsWTZu3FhkmwEDBhAQEEDr1q3p06cP48ePN67z9vambdu26HQ6unTpUqa6hBDiftCiRQtefvllOnbsSO3atTl58iSdOnUC4KmnnmLWrFk8/fTTODg4EBoayvXr10v9jujRowdDhw7Fz8%2BPgIAA%2BvbtW%2Br5HRwcWLx4MUOGDMHZ2Zn169cX6cbdrl07wsLCePHFF6lZsyZdu3Yt0mNh5MiRREVFFRl5UQhRcXSqsD1aCCGqkE6nIzY2Fh8fnxK3GTduHB4eHsyfP78KKxNCiIdbdnY27u7uHDt2jCZNmlR3OUI8cO7uSk8hhKhk58%2Bf56uvvuK3336r7lKEEOKhsnTpUoKCgiR8CVFJJIAJIe47s2fPZtGiRfzzn/%2BkYcOG1V2OEEI8NBo0aIBSiq%2B//rq6SxHigSVdEIUQQgghhBCiisggHEIIIYQQQghRRSSACSGEEEIIIUQVkWvATEytWrWKzKMkhBCm4vz58yQnJ1d3GVVKPrOFEKbsYfzcrgoSwExMgwYNiIyMrO4yhBCi3AIDA6u7hConn9lCCFP2MH5uVwXpgiiEEEIIIYQQVUQCmBBCCCGEEEJUEQlgQgghhBBCCFFF5BowIapJfn4%2BCQkJ5OTkVHcpQlQoGxsbvLy8sLS0rO5ShBBCiPuOBDAhqklCQgIODg40aNAAnU5X3eUIUSGUUqSkpJCQkEDDhg2ruxwhhBDiviNdEIWoJjk5Obi6ukr4Eg8UnU6Hq6urtOwKIYQQJZAWMFMTH1/dFYgKJOFLPIjk37UQQlQfpRRZ%2BVkkZyWTmpPKzdybpOelk56bfsdtgSoourPBADk5txZRKSSAmZpr16CgAMzNq7sSYeJSU1NZv349zz//fLn3DQkJYf369Tg5Od3Vud9%2B%2B21WrVqFubk5ixcvplevXnds88wzzxAZGYmlpSXt2rXj008/xdLSkoiICAYMGGDs3jZw4EBef/1142uaMGECUVFR6HQ6Vq9eTceOHXnllVf45ptvsLKyonHjxoSFhRlrP3HiBH//%2B9%2B5efMmZmZmHDlyhPz8fLp06WKsJSEhgREjRvDBBx8AsHnzZubMmYNOp8Pf35/169cD8Oqrr7Jz504AZs%2BezdChQwHty/Bf//oXX375Jebm5kyaNImpU6cCEBERwQsvvEB%2Bfj61atXiwIEDAIwbN44dO3bg7u5OVFSUsZbjx4/z3HPPkZGRQYMGDVi3bh2Ojo4lvq85OTkEBweTm5uLXq9n8ODBzJ07F4Dx48cTGRmJUoqmTZuyZs0a7O3tuXjxIqNHjyY1NZWCggIWLFhASEjIXf2shRBCFJWVn8Xl9MtcunmJxMxECgwFJW5rUAbyCvLILcjVbvW5xse5%2Blwy8zNJzkomOSuZlKxkkjOTSM5OIacgt0JqDSCgQo4jitIppVR1FyHKLlCnI/L6dXB2ru5SxD06ffo0vr6%2B1Xb%2B8%2BfP07dv3yK/3BfS6/VYWFTO32eio6MZPnw4hw8f5vLly/ztb38jJiYG8z/9UWHXrl307t0bgKeffprg4GAmTZpEREQECxcuZMeOHXcce/To0XTp0oUJEyaQl5dHVlYWTk5O7Nmzh8ceewwLCwteffVVAP7973%2Bj1%2Btp27Yta9euxd/fn5SUFJycnO6oJSAggEWLFhEcHExsbCxDhgzh%2B%2B%2B/x9nZmWvXruHu7s7OnTv54IMP2L17N7m5uXTr1o19%2B/bh6OhIWFgY%2B/fvZ82aNZiZmRn3SU1N5dFHHyU8PJx69eoZnwc4ePAg9vb2jBo1qsjPKCgoiIULF9K1a1dWr17NuXPnmDdvXonvq5mZGZmZmdjb25Ofn0/nzp358MMP6dChAzdv3jSGt5deegl3d3dmzpzJxIkTadOmDZMmTSI6OpqQkBDOnz9frp9zcf%2B%2BAwMDH7pJiR/G1yzEw0IpxbXMayRlJRlblW7m3izSwnQz9yaJmYla4Eq/xOX0y6TmpFZ6bTb5UCsLnHPAIRcc8m7dOuZq9%2B3zwNLwpx11OrC1NS7rY2vJZ1glkBYwU5SaKgFM3LOZM2dy9uxZWrduTY8ePejTpw%2BzZ8/G2dmZM2fOEBMTQ2hoKPHx8eTk5DBt2jQmTpwIQIMGDYiMjCQjI4PevXvTuXNnfvrpJzw9Pdm2bRs1atQo8bzbtm1j2LBhWFtb07BhQ3x8fDh8%2BDAdO3Ysst3tLS7t2rUjISGh1NeTlpbGwYMHWbNmDQBWVlZYWVkB0LNnT%2BN2HTp0YMuWLQDs2bMHPz8//P39AXB1db3juDExMVy7ds3YIrZixQomT56M8x//BwsDU3R0NMHBwVhYWGBhYYGfnx/h4eEMGTKEpUuXsn79eszMzIrss379egYOHEi9evWKPA8QHBxcbOiJiYkhODgYgB49etCrVy/mzZtX6vtqb28PaCNv5ufnG7sIFoYvpRTZ2dnG53U6HTdv3jS%2Brx4eHqW%2B90IIYSoKDAVFWpDyCvLIN%2BSXus/N3Jucu3GOc6nnbt3%2BcT9bn13uGqwKwCPLHM90HbUzwSq3AEpoD9EB1nptH%2BuCP271t%2B7b/hG0amVBrWwdtSwcqWXhiK29Mzg6aouDg7a433a/cHF2BldXcHHRbh0dwezWEBHrAwPL/frEX5MAZopSK/8vJ6KKVdY1M6U0cC9YsICoqCh%2B//13QOsKd%2BzYMaKioozd%2B1avXo2LiwvZ2dkEBQUxaNCgO0JKbGwsGzZsYMWKFQwZMoT//Oc/jBgxgmXLlgHw3HPPFdn%2B0qVLdOjQwfjYy8uLS5culVhnfn4%2Ba9eu5cMPPzQ%2B9/PPP%2BPv74%2BHhwcLFy6kZcuWnDt3Djc3N8aOHcvx48cJCAjgww8/xM7OrsjxVq9ebewaGBMTg06no1evXiQlJTFs2DBmzJhRZPuNGzcydOhQYziJiYkBoFOnThQUFDBnzhyeeOIJ/P39mTt3Li%2B//DJZWVns37%2BfFi1aAHD27Fk2bdrE1q1bcXNzY/HixTRp0oSYmBjy8/Pp1q0b6enpTJs2jVGjRpX4XgC0bNmSbdu2ERoaypdffkn8H9eFlva%2BFhQUEBAQQFxcHJMnT6Z9%2B/bG7caOHcuuXbto0aIF7733HgBz5syhZ8%2BeLFmyhMzMTPbu3VtqTUII8WfZ%2Bdm3usZlpxjv/3kpXJdXkEct21rUsq2Faw1X4/3CxdbStsRzKaVIy00r8XzXs6%2BTo88hV5975zVP98gl15w6GeCQXYBD7h%2BtS3lFW53cM8EzHTzSwfMmuGSDjj/VYW0N9vbaYmd36769vRaSnJ21kFR4v3BxcoKaNbXF1rbyfp8QFUoCmCmSACYqSbt27YoMHb548WK2bt0KQHx8PLGxsXcEsIYNG9K6dWtA66pX2Grz5%2BB1t55//nmCg4ONLVBt27blwoUL2Nvbs2vXLkJDQ4mNjUWv13Ps2DGWLFlC%2B/btmTZtGgsWLGDevHnGY7311ltYWFjwzDPPAFpXyx9%2B%2BIEjR45ga2vL448/TkBAAI8//rhxn40bN7J27VrjY71eT2xsLBERESQkJBAcHMzJkyfp2bMnR44c4dFHH8XNzY2OHTsauzLm5uZiY2NDZGQkX331FePGjePQoUPo9XqOHj3Kvn37yM7OpmPHjnTo0IGmTZuW%2BH6sXr2aqVOnMm/ePPr3729s5SuNubk5v//%2BO6mpqTz55JNERUXRqlUrAMLCwigoKOAf//gHmzZtYuzYsWzYsIExY8bw8ssv8/PPPzNy5EiioqKMLXhCiIdTfkE%2BiZmJXLqpdaUrXC6lX%2BJKxhWSMpOM4ScrP6vcx7%2BWea0Sqi5Khw5rM0usMMdamWNl0GFpAJ2%2BQLvGvkAP%2BqLhyDYfGqRCwxvQ8E%2B3NXP/2NbSEry8wNtbW5p737pfsyZYWWkhy9r6zvt2dtr%2B4qEhAcwUSQB78Nwnl2Le3loUERHB3r17%2Bfnnn7G1taVbt27FDi1ubW1tvG9ubk52dundMTw9PY2tNqANcOHp6VnstnPnziUpKYlPP/3U%2BFxhtznQuik%2B//zzJCcn4%2BXlhZeXl7F1Z/DgwSxYsMC47Zo1a9ixYwf79u0ztmZ5eXkRHBxMrVq1jMc7duyYMYAdP34cvV5PQMCti5ALz2FpaUnDhg1p2rQpsbGxBAUFMWvWLGbNmgVo160VBikvLy8GDhwIwJNPPsnYsWONz7u6umJnZ4ednR3BwcEcP3681ADWvHlz9uzZA2itcYWDfpTlfXVycqJ79%2B6Eh4cbAxhoP7dhw4bxzjvvMHbsWFatWkV4eDgAHTt2JCcnh%2BTk5CJdJIUQDx69QU98WnyxXe3Op57nasZVFGX7vrIytyrSguVawxU3Wzftvu2dLVyWZpaltpTl6EsYkS8/H7Kzccw3o1auudYV76aeWjdyqXUtA9crabhcuo7ttetY68HcoNCR99cvoGZNqFtXW2rX1lqfGjrf2QLl7Kytd3cv0nVPiNJIADNFEsBEBXBwcCA9Pb3E9WlpaTg7O2Nra8uZM2f45ZdfKuS8/fv35%2Bmnn%2Ball17i8uXLxMbG0q5duzu2W7lyJd9%2B%2By379u0r0vJy9epVateujU6n4/DhwxgMBuN8at7e3vz3v/%2BlWbNm7Nu3z9gFMDw8nHfeeYcDBw5ga3urG0uvXr145513yMrKwsrKigMHDvDiiy8a12/YsIHhw4cXqSs0NJQNGzYwduxYkpOTiYmJoVGjRhQUFJCamoqrqysnTpzgxIkTxmvPQkND2b9/Pw0bNuTAgQPGgDVgwACmTJmCXq8nLy%2BPX3/9tcj5i1M4UIfBYGD%2B/PnGlsaS3tekpCQsLS1xcnIiOzub7777jldffRWlFGfPnsXHxwelFNu3b6d58%2BYA1KtXj3379jFmzBhOnz5NTk4Obm5uZf4ZCyHubwZl4HzqeU4knuBE4gmOJx7nROIJzt04V2oXPR066tjXwcPBA08HTzwcPIz36zrUxd3O3Rio7Cztyj0lRV2Hun8UaID0dO33ncLlyhW4eBEuXNBuC%2B%2BnpZX9BC4u4OamhSU3t6JL3brg4aHd1qmjdecTopJIADNFEsBEBXB1daVTp060atWK3r1706dPnyLrn3jiCZYtW4avry/NmjUrcn1RWZR0DVjLli0ZMmQILVq0wMLCgo8//tjYVS8kJISVK1fi4eHBc889R/369Y2DcxQON79lyxaWLl2KhYUFNWrUYOPGjcYv%2BSVLlvDMM8%2BQl5dHo0aNCAsLA2DKlCnk5ubSo0cPQBuIY9myZTg7O/PSSy8RFBSETqcjJCSkyPuwefNmdu3aVaT%2BXr16sWfPHlq0aIG5uTnvvvuuceLhwm6Sjo6OfPHFF8aRJGfOnMkzzzzDokWLsLe3Z%2BXKlQD4%2BvryxBNP4Ofnh5mZGRMmTDC2TA0fPpyIiAhj697cuXMZP348GzZs4OOPPza%2BJ4WtaSW9r1euXGH06NEUFBRgMBgYMmQIffv2xWAwMHr0aG7evIlSCn9/f5YuXQrAe%2B%2B9x7PPPsuiRYvQ6XSsWbNG5vYS4j6XX5DP1Yyrd8z5dPuofPFp8RxPPM7JayfJyMso9jgeDh40dGpIQ%2BeG2u1t9z0dPbEwu4dfHZWCxEQ4f/7WcuGCdnvlivb7TVqatpS1Z0iNGlCvHnh6ai1RdercWgof164NtWpBJY3uK0R5yTD0JiZQpyPy9dfhj3l8hOmq7mHohahMMgy95mF8zaLiKKXQG/TGEfuy8rO4kHbhju6B51LPkXAzAYP685jiJatjXwe/2n74ufvhV9sP/zr%2BNHVtio2FTfmK1Ovh3DmIjYXkZLhxo/glKUlrtSrr5L4ODtoAE4WLuzvUr6%2BFrXr1bt13dZWBJyqRfIZVDvlTgCmSFjAhhBDCZCmluJpxlTPJZziTfIb/pvyXM8lniL0eS3puepEh0st6zVVh90AnGyccrBxwsHbAwcoBR2tH4%2BPadrXxq%2B3HI7Ufwd2unNd0ZmVpIev06aJLTAzkleGaqkK1amnhqUEDbSm87%2BmpXU9Vs6Y2FLq0VokHmPzrNkUSwIQQQgiTkKvP5XjicY5cOkLklUhOXTvFmeQzpOeVfA3u7cx15lhbWGNlbkUNixp4OXoV2z2wXs16WFtY//UBixSXCwkJEB%2BvLVevai1Vf16uXYPMzJKP4%2B0NzZppXf1uH5zi9mHTXV21Fqs/5iUU4mEmAaySjBs3jh07duDu7k5UVNQd69etW8e///1vlFI4ODiwdOlS42Swf0kCmBBCCHHfydHnEJMSw5FLRzhyWVtOJp4sdqJflxouNK/VnGauzWheqznNazWnqWtTXGq4YGVuhbW5FrrMzczLX4hScP26dl3V7culS7fCVny8FqzKysoKGjWC5s3B1/fW0ry5hCohykkCWCUZM2YMU6ZMKXFS1cLR0Jydndm9ezcTJ07k119/LdvByzPijxBCCCHuWXZ%2BNhHnI4i8HKkNjZ79pwmFs1LIzL%2BzlUiHjhZuLQj0CCTIIwj/2v74uvlSy7bW3RejlBae4uJuLWfPatdiFYatsnQLNDfXuv4VzldVt27JowQ6Osq1VkJUEAlglSQ4ONg4IW1xHn30UeP9Dh06kJCQUPaDSwuYEEIIUamUUsRej2V37G7Cz4YTcT6i5Lmo/mBlboWXo5cxbAV5BNG2blscrB3uvpCkJDh6VFt%2B/127DisurvQugaAFpsJ5rAqHV/fwuBW2vL21EQLN76KFTQhxTySA3QdWrVpF7969y76DBDAhhBCi3AzKQFZ%2BFjn6HOMgF7kFf9z%2B8TgpK4nvzn7H7rjdnEs9V2T/gLoBdG/QHU9HT%2BPkwrdPJmxvZX9vUzYkJcFvv0FkpBa4IiO1kQOL4%2BICjRuDj8%2Bt24YNtRatunVlHish7mMSwKrZ/v37WbVqFT/88EOJ2yxfvpzly5ffekICmKgm9vb2ZGRkcPnyZaZOncqWLVvu2KZbt24sXLiQwMDAEo%2BTm5vLqFGjOHr0KK6urmzatIkGDRoU2SY%2BPp5Ro0aRmJiITqdj4sSJTJs2DYA5c%2BawYsUK4%2BTA//d//0dISAjnz583zlsGt%2Bb7KqzrypUr1KhRA4A9e/bg7q6NArZ582bmzJmDTqfD39%2Bf9evXA9pcaL/88gudO3dmx44dxtr27dvHK6%2B8gsFgwN7enjVr1uDj48P777/PypUrsbCwwM3NjdWrV1O/fn0AZsyYwc6dOzEYDPTo0YMPP/wQnU5HXl4eU6ZMISIiAjMzM9566y0GDRrEwYMHeeGFFzhx4gQbN25k8ODBAFy4cIEnn3wSg8FAfn4%2B//jHP3juuefIysriqaee4uzZs5ibm9OvXz8WLFgAwMWLFxk9ejSpqakUFBSwYMECQkJCSElJYfDgwRw5coQxY8bw0UcfAZR6rDVr1vDKK6/g6ekJaHOsTZgw4a//8QhRiVJzUjmZeFKb4yrxJImZica5sG6fFysjL6PMowoCuNZwpWfjnvT26U0vn17lHzmwODduaK1Yf17i4rR1f2ZnB23bQkCAdtu8uRa4XFzuvRYhRLWQAFaNTpw4wYQJE9i9ezeurq4lbjdx4kQmTpwIaPOAcfOmNku8mVlVlSpEER4eHsWGr7JatWoVzs7OxMXFsXHjRl599VU2bdpUZBsLCwvee%2B892rZtS3p6OgEBAfTo0YMWLVqTmie4AAAgAElEQVQA8OKLLzJ9%2BvQ7jt24cWN%2B//33Ys%2B7bt26O4JhbGwsb7/9Nj/%2B%2BCPOzs5cu%2B2i9FdeeYWsrCw%2B/fTTIvtMmjSJbdu24evryyeffML8%2BfNZs2YNbdq0ITIyEltbW5YuXcqMGTPYtGkTP/30Ez/%2B%2BCMnTpwAoHPnzhw4cIBu3brx1ltv4e7uTkxMDAaDgevXrwNQr1491qxZw8KFC4ucu27duvz8889YW1uTkZFBq1at6N%2B/P05OTkyfPp3u3buTl5fH448/zu7du%2Bnduzfz589nyJAhTJo0iejoaGNYtbGxYd68eURFRd0xWFBJxwIYOnSoMawJUdUup1/mh4s/cCLxBMcTj3Mi8QQX00poJSpGDYsa1LCsYRzkonCEQWtza6wtrLG1tKWTdyd6%2B/Qm0CPw7gfBuHYNoqNvLadOabdJSSXv5%2BAAfn4QGKgFrsBAaNpUugkK8YCRAFZNLl68yMCBA1m7di1NmzYt%2B45mZlr4unlTm5hQiLs0c%2BZMvL29mTx5MqC1Ktnb2/Pcc88xYMAAbty4QX5%2BPvPnz2fAgAFF9j1//jx9%2B/YlKiqK7Oxsxo4dy/Hjx2nevDnZ2dl/ee5t27YxZ84cAAYPHsyUKVNQShXpulO3bl3q1q0LgIODA76%2Bvly6dMkYwCrKihUrmDx5Ms7OzgDGVjGAxx9/nIiIiDv20el03Lx5E4C0tDQ8PDwA6N69u3GbDh068MUXXxi3z8nJIS8vD6UU%2Bfn51K5dG4DVq1dz5swZAMzMzKhVS7swv7BF0OxPf2ixsrIy3s/NzcVg0CZetbW1NZ7fysqKtm3bGq8tLaleOzs7OnfuTFxcXJFzlHasB0F4eDjTpk2joKCACRMmMHPmzCLrL1y4wLhx40hKSsLFxYUvvvgCLy8vfv/9dyZNmsTNmzcxNzdn1qxZDB06tJpexcMlryCPHTE7WPXbKsLjwu%2BYcNjGwoZW7q2MkwrXq1nPOA/W7fNh2VvZ312gKolS2tDtfw5Z0dGQklL8Pra2WnfBpk2hSZOii7u7DHQhxENAAlglGT58OBERESQnJ%2BPl5cXcuXPJz9eGoX3uued48803SUlJ4fnnnwe0v/aXaaZxCwttZKPUVAlgDxDd3Mr5wlVvlNzVZujQobzwwgvGALZ582a%2B/fZbbGxs2Lp1K46OjiQnJ9OhQwf69%2B9f4nUNS5cuxdbWltOnT3PixAnatm1rXDdhwgSee%2B65O1qdLl26hLe3N6D9269ZsyYpKSnG8PFn58%2Bf57fffqN9%2B/bG5z766CM%2B//xzAgMDee%2B994wB6ty5c7Rp0wZHR0fmz59Ply5djPuMHTsWc3NzBg0axL/%2B9S90Oh0xMTEAdOrUiYKCAubMmcMTTzxR4vsGsHLlSkJCQqhRowaOjo788ssvd2xz%2B7WdHTt2pHv37tStWxelFFOmTMHX15fUP7oTz549m4iICBo3bsxHH31kDGcliY%2BPp0%2BfPsTFxfHuu%2B8aA1Wh1NRUvvnmmyJdNnv27MmSJUvIzMxk7969pR6/tGMB/Oc//%2BHgwYM0bdqURYsWGX%2BWpqCgoIDJkyfz3Xff4eXlRVBQEP379y8S7KdPn86oUaMYPXo033//Pf/85z9Zu3Yttra2fP755zRp0oTLly8TEBBAr169cJLP4kpzOuk0q35bxefHPycpS2s5sjSzpGfjnrSt0xb/Ov741fbDx8UHC7NK/pUmPR2OHdOu0bq9Zau4boOgDYLRsiW0aHFradkSvLwkZAnxkJMAVkk2bNhQ6vqVK1eycuXK8h%2B4sBuCXAcm7lGbNm24du0aly9fJikpCWdnZ7y9vcnPz%2Be1117j4MGDmJmZcenSJRITE6lTp06xxzl48CBTp04FwM/PDz8/P%2BO6u/o3/icZGRkMGjSIDz74AEdHR0DrAjh79mx0Oh2zZ8/m5ZdfZvXq1dStW5eLFy/i6urK0aNHCQ0N5dSpUzg6OrJu3To8PT1JT09n0KBBrF27llGjRqHX64mNjSUiIoKEhASCg4M5efJkqb9UL1q0iF27dtG%2BfXveffddXnrppSKv9YsvviAyMpIDBw4AEBcXx%2BnTp42tSD169ODQoUP4%2BvqSkJDAo48%2Byvvvv8/777/P9OnTWbt2banvibe3NydOnODy5cuEhoYyePBgY2jT6/UMHz6cqVOn0qhRI0D7PBozZgwvv/wyP//8MyNHjiQqKuqO1rU/K%2B5Y/fr1Y/jw4VhbW/Ppp58aQ4qpOHz4MD4%2BPsbXM2zYMLZt21YkgEVHR/P%2B%2B%2B8DWqtmaGgoQJHeCh4eHri7u5OUlCQBrIKl5aSxJXoLq35bxc8JPxufb%2BnWkvFtxjPCbwRudm6VW0ROjjbiYGQkHDmiLWfOaC1ef%2BbkdCtotWypzY3VsqU24qAELSFEMSSAmRoJYA%2Bk0lqqKtNTTz3Fli1buHr1qrEr1bp160hKSuLo0aNYWlrSoEEDcnJKH3q5vDw9PYmPj8fLywu9Xk9aWlqx10Hm5%2BczaNAgnnnmGQYOHGh8/vYWomeffZa%2BffsCYG1tjbW1NQABAQE0btyYmJgYAgMDjYNGODg48PTTT3P48GFGjRqFl5cX7du3x9LSkoYNG9K0aVNiY2MJCgoqtvakpCSOHz9ubI0bOnRokRazvXv38tZbb3HgwAFjLVu3bqVDhw7Y/zFZae/evfn555/p3Lkztra2xtf21FNPsWrVqjK/jx4eHrRq1YpDhw4ZB%2BmYOHEiTZo04YUXXjBut2rVKsLDwwGtNS4nJ4fk5OQi3S2LU9yxbv85TZgwgRkzZpS53vvB7a2vAF5eXnfMwejv789XX33FtGnT2Lp1K%2Bnp6aSkpBR57YcPHyYvL4/GjRtXWe0PsoSbCWz/73a2/Xcb%2B8/tN05cbG9lz/BWwxnfZjztPNvd2wiDpUlJgYMHISICfvgBTpwAvb7oNpaW2vVZAQHQqtWt0FW7tgQtIUS5yCgOpkYCmKhAQ4cOZePGjWzZsoWnnnoK0K4Rcnd3x9LSkv3793PhwoVSjxEcHGwcNTAqKso40ERp%2Bvfvz2effQbAli1beOyxx%2B74xUopxfjx4/H19eWll14qsu7KlSvG%2B1u3bqVVq1aAFo4KCgoA%2BN///kdsbCyNGjVCr9eTnJwMaKFux44dxn1CQ0ON13klJycTExNjbB0pjrOzM2lpacaui9999x2%2Bvr4A/Pbbb/z9739n%2B/btRcJNvXr1OHDgAHq9nvz8fA4cOICvry86nY5%2B/foZz79v376/vMYtISHBeJ3djRs3%2BOGHH4yjPv7rX/8iLS2NDz74oMg%2B9erVY9%2B%2BfQCcPn2anJwc4wiSJSnpWLe/99u3bze%2B9gfJwoULOXDgAG3atOHAgQN4enpiftsgCFeuXGHkyJGEhYUV24q4fPlyAgMDCQwMJKm0ARceYkopTiaeZP7B%2BQStCMJ7kTeTd01mz9k9FKgCutbvStiAMK6%2BfJXl/ZbT3qt9xYavpCTYsgX%2B8Q8tVNWqBQMHwuLFWjdDg0ELWGPGwMcfw%2BHDWhfEyEj49FNtv8ce0%2BbRkvAlhCgvJUxKgIuLUqBUWFh1lyLuUXR0dHWXoJRSqlWrVqpbt27Gx0lJSapDhw6qVatWasyYMap58%2Bbq3LlzSiml7OzslFJKnTt3TrVs2VIppVRWVpYaOnSoat68uXryySdVu3bt1JEjR5RSSo0fP954/3bZ2dlq8ODBqnHjxiooKEidPXtWKaXUpUuXVO/evZVSSh06dEgB6pFHHlH%2B/v7K399f7dy5Uyml1IgRI1SrVq3UI488ovr166cuX76slFJqy5YtqkWLFsrf31%2B1adNGbd%2B%2BXSmlVEZGhmrbtq165JFHVIsWLdTUqVOVXq9XSillMBjUiy%2B%2BqHx9fVWrVq3Uhg0bjHV27txZ1apVS9nY2ChPT08VHh6ulFLqq6%2B%2BUq1atVJ%2Bfn6qa9euxvoff/xx5e7ubqy3X79%2BSiml9Hq9mjhxomrevLny9fVVL774ovEc58%2BfV126dFGPPPKIeuyxx9SFCxeUUkodPnxYeXp6KltbW%2BXi4qJatGihlFJqz5496pFHHlF%2Bfn7qkUceUZ9%2B%2BqlSSqn4%2BHgFqObNmxvPv2LFCqWUUqdOnVKPPvqo8vPzU/7%2B/urbb781nr9%2B/frK2dlZ2dnZKU9PT3Xq1KlSjzVz5kzVokUL5efnp7p166ZOnz5d7L%2Br4v59BwQEFLttVfrpp59Uz549jY//7//%2BT/3f//1fidunp6crT09P4%2BO0tDTVpk0b9eWXX5bpfPfDa75fZOZlqp0xO9WUnVNUow8bKeZgXGrMr6FCN4aqsN/CVFJmUsWfPD9fqUOHlJoxQ6lWrbTv0dsXGxulundXas4cpfbvVyo9veJrEMIEyWdY5dApVVyHZnG/Cqxdm8hr12DRIritW5AwPadPn34gWw%2BEgOL/fQcGBpZtsKFKpNfradq0Kfv27cPT05OgoCDWr19Py5YtjdskJyfj4uKCmZkZs2bNwtzcnDfffJO8vDx69%2B5Nv379inTLLM398Jqri1KKmJQYdsftJjwunIjzEeQW5BrXu9m60a9pP0Kbh/K3Rn%2BjhmWNii0gNRW%2B/Ra%2B%2BQZ274Y/pngAoEYNePRR6NoVunWDdu3gjy7DQohbHubPsMok14CZGumCKIQQd83CwoKPPvqIXr16UVBQwLhx42jZsiWvv/46gYGB9O/fn4iICP75z3%2Bi0%2BkIDg7m448/BrSRQg8ePEhKSgpr1qwBtImpW7duXY2v6P4TkxLDR4c/YkfMDs6lniuyLtAjkN4%2BvXnC5wnae7av2CHhAc6ehe3btdB16FDR67h8fKBfP%2BjbFzp1ksAlhKg2EsBMjQQwIYS4JyEhIYSEhBR57s033zTeHzx4sHFQk9uNGDGCESNGVHp9pio6KZq3Dr3FxqiNxnm6XGu40sunF719etOzcU/c7Uof%2BKXcCgq067O2b9eW6Ohb68zNIThYC139%2Bmnzbsn1WkKI%2B4AEMFNTGMDS0qq3DiGEEAI4kXiC%2BQfnsyV6CwqFhZkF41qPY0LbCQR6BFZ8K1dWFnz3nRa4duyAa9durXN0hJAQLXA98QS4uFTsuYUQogJIADM1Fn/8yKQF7IGglKq8YZWFqCZyafHD4diVY8w7OI%2Bvz3wNgJW5FePbjOfVTq9S36l%2BxZ4sN1e7nmvjRi14ZWbeWtegAfTvry1duoCVVcWeWwghKpgEMFMjXRAfGDY2Nsa5hSSEiQeFUoqUlBRsbGyquxRRCQzKwLdx37Lk8BJ2x%2B0GwMbCholtJ/JKp1fwcvSquJPp9dq8XBs2wFdfFf3eCwqC0FAtdLVsKV0LhRAmRQKYqZEA9sDw8vIiISFB5gkSDxwbGxu8vCrwF3FR7ZKzkln922qWRS4zDqxha2nLpMBJTH90OnXs61TcyY4dg7Aw2Ly5aPdCPz8YPhyGDoWGDSvufEIIUcUkgJkaCWAPDEtLSxrKLxFCiPuUUopfEn7hk8hP%2BPLUl8Yh5Bs4NeDvAX9nfJvxuNmVPqF3meXkwJdfapMe//rrred9fLTQNWwY/MUk5UIIYSokgJkaCWBCCCEqUYGhgC9OfMEHv37A71d/B0CHjj5N%2BjApcBJP%2BDxRcQNrXLgAy5bBypWQnKw95%2BQEo0fDyJHQtq10LxRCPHAkgJma20dBNBjAzKx66xFCCPFAUEqxM3YnM/fO5FTSKQBq2dZiQpsJTAyYSEPnCmqxNxhg716ttWvHDu0xQOvWMHmy1uJlZ1cx5xJCiPuQBDBTo9OBvT1kZEB6OtSsWd0VCSGEMHG/JvzKjL0zOHjhIKB1M3yj6xsMbzUca4sKmrA4IQHWrIHVq%2BHcHxM0W1pq3QsnT4aOHaW1SwjxUJAAZoqcnLQAlpoqAUwIIcRdi0mJ4bV9r/Gf0/8BtImT/xX8LyYFTqqY4JWXB998A6tWacPIF7Z2eXvD3/8OEyZA7dr3fh4hhDAhEsBMkZOT9pfE1FSoX8FzrQghhHjgXcu8xhv732DFsRUUqAJqWNTgxQ4vMqPTDGraVMAf9qKjtdC1di0UjvRqZaUNHT9%2BPDz%2B%2BK0u9UII8ZCRAGaKnJy0WxmIQwghRDkdvHCQoVuGcjXjKmY6Mya0mcCcbnPwdPS8twMrBd9/D%2B%2B%2Bq7V2FXrkES10jRgBrq73dg4hhHgASAAzRRLAhBBClJNSivd/fp9X975KgSqga/2uLO2zFF8333s7sF4PW7ZowevYMe05OzstcI0fD4GBcm2XEELcRgKYKZIAJoQQohxu5t5k7LaxfHX6KwBe7fQq8x%2Bbj4XZPfwakJmpDajx/vtw/rz2nLs7TJ0KkyaBi8u9Fy6EEA8gCWCmSAKYEEKIMoq6FsXATQOJvR6Lo7Ujn4V%2BRmjz0Ls/YE4OvPMOfPghXL%2BuPdekCUyfDqNGgY1NxRQuhBAPKAlgpqgwgKWlVW8dQggh7mvrTqxj4o6JZOVn4Vfbjy1PbaGJa5O7P%2BCRI9okyadPa487dIAZM6B/fxlUQwghykgCmCmSFjAhhBClyCvI48XwF/kk8hMARvmPYmmfpdha2t7dAXNzYe5c%2BPe/taHkmzWDZcuga1e5vksIIcpJApgpkgAmhBCiBEopxnw9hg1RG7Ayt2LxE4uZGDAR3d0GpaNHYcwYiIrSwtbLL8O8eVCjRoXWLYQQDwsJYKZIApgQQogSvPvTu2yI2oC9lT17R%2B6lvVf7uztQXp4WtN5%2BGwoKtOu8wsKgU6eKLVgIIR4yEsBMkQQwIYQQxQiPC2fm3pkAfPHkF3cfvn7/XbvW68QJrdXrhRfgrbfA9i67MAohhDCSAGaKJIAJIYT4k9iUWIb/ZzgKxZyucxjQfMDdHWjHDhgyBLKzoXFjrdWrS5eKLVYIIR5iZtVdgLgLNWtqtxLAhBBCAOm56YRuCiU1J5XQ5qHM7jr77g4UFgahoVr4Gj0ajh%2BX8CWEEBVMApgpkhYwIYQQfzAoAyO3jiQ6KZoWbi34PPRzzHTl/HpXSrvWa9w47XqvWbO0MGZnVzlFCyHEQ0y6IJqiwhawtDRtOGAzydFCCPGwevPAm2z77zacbJzYNmwbDtYO5TuAwaBd47VkiXa91%2BLFMGVK5RQrhBBCAphJsrTU/iqZmQkZGeDoWN0VCSGEqAZfn/mauQfmYqYzY%2BOgjfi4%2BJTvALm5MGoUbN4MVlbwxRfw1FOVU6wQQghAuiBWmnHjxuHu7k6rVq2KXa%2BUYurUqfj4%2BODn58exY8fKdwLphiiEEA%2B1U9dOMXLrSAAWPL6AXj69yneAmzchJEQLXw4OEB4u4UsIIaqABLBKMmbMGMLDw0tcv3v3bmJjY4mNjWX58uVMmjSpfCeQACaEEA%2Bt1JxUQjeFkpGXwfBWw5n%2B6PTyHeDqVejaFb7/HurUgYMHoXv3yilWCCFEERLAKklwcDAuLi4lrt%2B2bRujRo1Cp9PRoUMHUlNTuXLlStlPIAFMCCEeWm/sf4O463G0rtOalf1XotPpyr5zejr07KnN9eXjAz/9BK1bV16xQgghipAAVk0uXbqEt7e38bGXlxeXLl0q%2BwEkgAkhxEPpdNJpPj7yMWY6Mz4L/Qxby3JMjmwwaNd8nTwJzZrBjz9Cw4aVV6wQQog7yCAcJmD58uUsX74cgKSkJO3JwgCWllZNVQkhhKgO07%2BbToEq4O8Bf8evtl/5dp4zB77%2BWhtNd/t2cHevlBqFEEKUTFrAqomnpyfx8fHGxwkJCXh6eha77cSJE4mMjCQyMhI3NzftSWkBE0KIh054XDi7YnfhaO3Im93fLN/OmzfDvHna1CWbN0PTppVTpBBCiFJJAKsm/fv35/PPP0cpxS%2B//ELNmjWpW7du2Q8gAUwIIR4qeoOel759CYDZwbNxtytH69WxYzBmjHb/vfe0a8CEEEJUCwlglWT48OF07NiR//73v3h5ebFq1SqWLVvGsmXLAAgJCaFRo0b4%2BPjw7LPP8sknn5TvBBLAhBDiroSHh9OsWTN8fHxYsGDBHesvXLjA448/jp%2BfH926dSMhIcG47rPPPqNJkyY0adKEzz77rCrL5tPITzmdfJrGzo35R7t/lH3HxEQYMACys2HsWJg2rfKKFEII8ZfkGrBKsmHDhlLX63Q6Pv7447s/gQQwIYQot4KCAiZPnsx3332Hl5cXQUFB9O/fnxYtWhi3mT59OqNGjWL06NF8//33/POf/2Tt2rVcv36duXPnEhkZiU6nIyAggP79%2B%2BPs7Fzpdd/IvsEbEW8AsLDnQqwtrMu2Y24uDBwICQnQsSMsXQrlGTFRCCFEhZMWMFNVs6Z2KwFMCCHK7PDhw/j4%2BNCoUSOsrKwYNmwY27ZtK7JNdHQ0jz32GADdu3c3rv/222/p0aMHLi4uODs706NHj1Lne6xI8w7OIyU7hW4NujGg2YCy7aQUTJqkDTPv5QVffQXWZQxuQgghKo0EMFMlLWBCCFFuZZkCxN/fn6%2B%2B%2BgqArVu3kp6eTkpKyr1PH3KXYlJiWHJ4CTp0LOq1qOxzfi1eDGFhUKMGbNumTbgshBCi2kkAM1USwIQQolIsXLiQAwcO0KZNGw4cOICnpyfm5uZl3n/58uUEBgYSGBh4a%2BqQezB9z3T0Bj3j24yndZ0yTpi8bx%2B8pA3YwZo10LbtPdchhBCiYkgAM1USwIQQotzKMgWIh4cHX331Fb/99htvvfUWAE5OTmWePqTYqUPu0ndnv%2BObmG9wsHJg/mPzy7bTtWvwzDPapMuzZsGQIfdUgxBCiIolAcxUSQATQohyCwoKIjY2lnPnzpGXl8fGjRvp379/kW2Sk5MxGAwAvP3224wbNw6AXr16sWfPHm7cuMGNGzfYs2cPvXr1qrRa9QY9L%2B3RWrFmdZlFbfvaf72TUtpIh4mJ0LUrzJ1bafUJIYS4OxLATNXtg3AoVb21CCGEibCwsOCjjz6iV69e%2BPr6MmTIEFq2bMnrr7/O9u3bAYiIiKBZs2Y0bdqUxMREZs2aBYCLiwuzZ88mKCiIoKAgXn/9dVxcXCqt1pXHVhJ1LYqGTg2Z1qGMQ8cvWQK7doGzM6xdC%2BXoOimEEKJq6JSS395NSWBgIJGRkdoDOzvIyoKbN8HBoXoLE0KIv1Dk8%2BshcbevOSMvg4YfNiQ5K5ktT21hUItBf73TiRMQFAR5efCf/2jDzwshxD14GD%2B3q4K0gJky6YYohBAPpG/jviU5K5mAugEM9C1DkMrKgmHDtPA1caKELyGEuI9JADNlhQEsLa166xBCCFGhdsbuBGCQ76CyDTv/8stw%2BjQ0bw6LFlVydUIIIe6FBDBTJi1gQgjxwDEoA7vjdgMQ0iTkr3fYuhWWLQMrK9i4EWxtK7lCIYQQ90ICmCmTACaEEA%2Bc3678xtWMq3g5euFX26/0jRMSYMIE7f4774C/f%2BUXKIQQ4p5IADNlEsCEEOKBsyt2FwAhPiGldz8sKICRI%2BH6dejdG6ZOraIKhRBC3AsJYKZMApgQQjxwCq//%2Bsvuh%2B%2B8AxERULs2hIVBWa4VE0IIUe0kgJmy2%2BcCE0IIYfKSMpM4fOkwVuZWPN7o8ZI3PH4cZs/W7q9Zo4UwIYQQJkECmCmTFjAhhHighMeFo1B0a9ANeyv7kjd8912tC%2BKkSfDEE1VXoBBCiHsmAcyUSQATQogHirH7oU8p3Q8vX4ZNm8DcHGbOrKLKhBBCVBQJYKZMApgQQjww9AY93579FoA%2BTfuUvOEnn4Ber022XK9eFVUnhBCiokgAM2USwIQQ4oHxc/zPpOak0sSlCT4uPsVvlJ2tzfkF8MILVVecEEKICiMBzJRJABNCiAdG4fDzfZqU0vq1bh2kpEBQEHTsWEWVCSGEqEgSwEyZBDAhhHhgFF7/VWL3Q6Xggw%2B0%2By%2B8IMPOCyGEiZIAZsokgAkhxAMhPi2ek9dOYmdpR5d6XYrfaN8%2BOHUKPDxg8OCqLVAIIUSFkQBmym6fB0yp6q1FCCHEXSvsftijcQ%2BsLayL36iw9WvyZLCyqqLKhBBCVDQJYKbM2hpq1NDmgsnKqu5qhBBC3CVj98OSrv%2BKiYGdO8HGBiZOrMLKhBBCVDQJYKZOuiEKIYRJy9HnsO/cPgB6%2B/QufqPFi7XbESOgVq0qqkwIIURlkABm6iSACSGESTtw/gBZ%2BVm0rtMaT0fPOze4cQPCwrT706ZVbXFCCCEqnAQwUycBTAghTFrh9V8hPiHFb7BqldbN/G9/g1atqrAyIYQQlUECmKm7fSAOIYQQJkUpVfrw83o9LFmi3ZeJl4UQ4oEgAczUSQuYEEKYrNjrsZy9cRaXGi6092x/5wZffw0XL0KTJtC7hOvDhBBCmBQJYKZOApgQQpisnTFa69cTPk9gbmZ%2B5waFQ89PmwZm8pUthBAPAvk0N3USwIQQwmSVOvz8kSPw449aV/PRo6u4MiGEEJVFAlglCg8Pp1mzZvj4%2BLBgwYI71l%2B8eJHu3bvTpk0b/Pz82LVrV/lPIgFMCCFMUnpuOgcvHMRMZ0avxr3u3ODDD7XbZ58Fe/uqLU4IIUSlkQBWSQoKCpg8eTK7d%2B8mOjqaDRs2EB0dXWSb%2BfPnM2TIEH777Tc2btzI888/X/4TSQATQgiTtPd/e8k35NPBqwOutq5FVyYlwaZNWrfDKVOqp0AhhBCVQgJYJTl8%2BDA%2BPj40atQIKysrhg0bxrZt24pso9PpuHnzJgBpaWl4eHiU/0QSwIQQwiQVDj9fbPfD77/XRkB87DGoX7%2BKKxNCCFGZLKq7gAfVpUuX8Pb2Nj728vLi119/LbLNnDlz6NmzJ0uWLCEzM5O9e/eW/0QSwIQQwiSFnw0HSghgBw5ot926VV1BQgghqoS0gFWjDRs2MGbMGBISEti1axcjR47EYDDcsd3y5csJDAwkMDCQpKSkoislgAkhhMlJz00n4WYCNhY2PFL7kTs3KAxgXbtWbWFCCCEqnQSwSuLp6Ul8fLzxcUJCAp6enkW2WdoGNCsAACAASURBVLVqFUOGDAGgY8eO5OTkkJycfMexJk6cSGRkJJGRkbi5uRVdKQFMCCFMzoW0CwDUr1kfM92fvoqTkiA6GmxsICioGqoTQghRmSSAVZKgoCBiY2M5d%2B4ceXl5bNy4kf79%2BxfZpl69euzbtw%2BA06dPk5OTc2fA%2BiuFASwtrSLKFkIIUQXOp54HoL5TMdd3HTqk3XbsCNbWVVeUEEKIKiEBrJJYWFjw0Ucf0atXL3x9fRkyZAgtW7bk9ddfZ/v27QC89957rFixAn9/f4YPH86aNWvQ6XTlO1HNmtptaiooVcGvQgghRGW4kKq1gDWo2eDOldL9UAghHmgyCEclCgkJISQkpMhzb775pvF%2BixYt%2BPHHH%2B/tJDY22pKTA9nZYGt7b8cTQogHXHh4ONOmTaOgoIAJEyYwc%2BbMIusvXrzI6NGj%2Bf/27j0uyjrv//hrGBhOIiCKGGgeKEUUUfGU5aZ7l0ZF3Vtrtp0zvSvb2s5tbmVte2vbdrB0t7XDr7aDVG5lW2Td66EyK8JjqCkZroAnQEXkPDPX748LBkYOEsrMAO/n4/F9XNdc13dmPnOpl/OZ7%2BnIkSM4HA4WLFhAamoqNTU13HTTTWzYsAG73c61117L73//%2BzbF0GILmBIwEZFOTS1gnUHDVjAREWnWyazR%2BO6771JVVcX333/P%2BvXr%2Bfvf/87u3bvbFEfdGLD%2BEf3dTxw%2BDFu2gM0G48a16bVFRMS3KQHrDDQRh4hIq5zMGo0Wi4WysjLsdjsVFRXYbDa6d%2B/epjhcLWDhx7WAffml2Z183DgIDm7Ta4uIiG9TAtYZKAETEWmVptZoLCgocKszb9483njjDeLi4khNTeX5558H4PLLLyc0NJQ%2BffrQr18/7rnnHnr06NGmOJptAVP3QxGRTk8JWGegBExE5JRpbo3GzMxMrFYre/fuJTc3l6eeeoqffvqp0fNbXLsRKK8p52DZQQL8AugT1sf9ZF0CNmlSe3w0ERHxAUrAOgMlYCIirXIyazS%2B9dZbTJs2jYCAAKKjo5k4cSJZWVmN3qPFtRuBPSV7AOgX3s99DbCjR2HjRvD3h7POOhUfV0REfJASsM5ACZiISKuczBqN/fr1Y9WqVQCUlZXxzTffMGTIkJ8dQ7MzIH71FTidkJICoaE//8OJiEiHoASsM1ACJiLSKiezRuOcOXM4duwYiYmJjBkzhhtuuIGkpKSfHUOza4Bp/JeISJegdcA6AyVgIiKt1tY1Grt168a777570u/fbAuYEjARkS5BLWCdgRIwEZEOo8kZEMvKICsL/Pxg4kTvBCYiIh6hBKwzUAImItJhNLkG2Lp1YLfDqFHQxrXFRESkY1AC1hkoARMR6TCabAFT90MRkS5DCVgH4zAcjQ/WJWAlJZ4NRkREfpYqexV7S/ditViJ7d5g%2BnslYCIiXYYSsA4m%2B0A2hmG4H1QLmIhIh5B31FyDLK57HP5%2BtfNgVVRAZiZYLHD22V6MTkREPEEJWAdjd9opKC1wPxgebm6VgImI%2BLQmZ0D89luoroakJIiM9E5gIiLiMUrAOqCN%2Bza6H2jYAnZ865iIiPgM1xpgGv8lItJlKQHrgDbt3%2BR%2BICgIbDbzF9TKSu8EJSIiJ9TkDIhKwEREuhQlYB3Qxv3HtYBZLBoHJiLSATSaAbGqCr7%2B2tyfNMk7QYmIiEcpAeuAGrWAgRIwEZEOoFEL2HffmT0XEhOhZ0/vBSYiIh6jBKyDsVgs5B7J5UjlcYmWEjAREZ/XqAVM3Q9FRLocJWAdTHBAMNBEK5gSMBERn1bjqCH/aD4WLPQN72seVAImItLlKAHrYEICQgAlYCIiHU1BaQFOw8lpYadhs9qgpgbWrTNPavyXiEiXoQSsgwnxNxOwRhNxKAETEfFpjdYA27AByspg8GCIifFeYCIi4lFKwDoYtYCJiHRMjdYAU/dDEZEuSQlYBxMcEIwFC9sKt1Flr6o/oQRMRMSnNZoBUQmYiEiXpASsg/Gz%2BDG452DsTjvZB7PrTygBExHxaY1mQKwb/3XOOd4JSEREvEIJWAeUHJMMHNcNsS4BKynxQkQiInIibi1gR4%2BaP5iFhEBcnHcDExERj1IC1gGNjBkJHDcRh1rARER8mlsL2N695sHYWLBYvBeUiIh4nBKwDqjJBCw83NwWFXkhIhERaYnD6WBPyR4A%2BoX3g4IC88Rpp3kxKhER8QYlYB1QXRfEzfs34zSc5sEhQ8DPDzZvVjdEEREfs%2B/YPuxOO71DexMcEFzfAqYETESky1EC1o5WrFjB4MGDiY%2BPZ8GCBU3Weeeddxg6dCiJiYn85je/adXr9grtRWxYLGU1Zfx46EfzYI8eMHEi2O3w2Wen6iOIiMgp0GgNsLoWsNhY7wQkIiJeowSsnTgcDubMmcMnn3zCtm3bWLp0Kdu2bXOrk5OTw/z58/nqq6/YunUrzz77bKtfv8mJOC6%2B2Nx%2B9NFJxy8iIqdOozXA1AImItJlKQFrJ5mZmcTHxzNw4EBsNhszZsxg%2BfLlbnVefPFF5syZQ2RkJADR0dGtfn3XOLB9DcaBXXSRuc3IAIfj5D6AiIicMo3WAFMLmIhIl6UErJ0UFBTQt29f1%2BO4uDgK6v7DrbVz50527tzJxIkTGT9%2BPCtWrGj164/s08REHEOGwKBB5kQc3357ch9AREROmUZrgKkFTESky1IC5kV2u52cnBzWrFnD0qVLmTVrFkeamEZ%2ByZIlpKSkkJKSQmFhIdBMF0SLpb4V7F//avf4RUSkddQCJiIidZSAtZPY2Fjy8vJcj/Pz84k97j/auLg40tLSCAgIYMCAAZx55pnk5OQ0eq3Zs2eTlZVFVlYWvXr1AmBAxADCA8M5UHaAfaX76itrHJiIiM9xawFzOmFf7X27Tx/vBSUiIl6hBKydjBkzhpycHHJzc6muriY9PZ20tDS3Opdeeilr1qwBoKioiJ07dzJw4MBWvb7FYmm6FeyccyAsDLKzYffuU/FRRETkJDgNp2sSjtMjTofCQnPG2qgoCArycnQiIuJpSsDaib%2B/P4sWLWLq1KkkJCQwffp0EhMTefjhh/nwww8BmDp1KlFRUQwdOpTJkyfz5JNPEhUV1er3qEvA3MaB2Wwwdaq5r1YwERGvO1h2kCpHFVHBUXSzddP4LxGRLs7f2wF0ZqmpqaSmprode%2Byxx1z7FouFp59%2BmqeffrpNr%2B%2BaCbFhAgZmN8Rly8xxYLfd1qbXFhGRU0NrgImISENqAevAmuyCCHDBBeaEHGvWQGmp5wMTEREXrQEmIiINKQHrwIb2GorNauPHQz9ytOpo/YlevWDCBKiuhn//23sBioj4oBUrVjB48GDi4%2BNZsGBBo/N79uxh8uTJjBw5kqSkJDIyMlzntmzZwoQJE0hMTGT48OFUVlae8P00A6KIiDSkBKwDC7AGMCx6GACb9292P6np6EVEGnE4HMyZM4dPPvmEbdu2sXTpUrZt2%2BZW5/HHH2f69Ols3LiR9PR0br31VsBcOuTqq6/mhRdeYOvWraxZs4aAgIATvqfWABMRkYaUgHVwyb2b6YZYNx39xx%2BbUx6LiAiZmZnEx8czcOBAbDYbM2bMYPny5W51LBYLR4%2BavQpKSko4rTZR%2Buyzz0hKSmLEiBEAREVFYbVaT/ieagETEZGGlIB1cCP7NDMRR2IinH46HDwI333nhchERHxPQUEBffv2dT2Oi4ujoC4hqjVv3jzeeOMN4uLiSE1N5fnnnwdg586dWCwWpk6dyqhRo/jzn//cqvdUC5iIiDSkBKyDa3YiDoulvhuipqMXEWm1pUuXcv3115Ofn09GRgbXXHMNTqcTu93O2rVrefPNN1m7di3vv/8%2BK1eubPT8JUuWkJKSQkpKCoWFhZoFUURE3CgB6%2BBG9B6BBQvZB7OpdlS7n6zrhqhxYCIiAMTGxpKXl%2Bd6nJ%2BfT%2BxxidDLL7/M9OnTAZgwYQKVlZUUFRURFxfHpEmT6NmzJyEhIaSmprJhw4ZG7zF79myysrLIysoiMiqS8ppywgPDiQiKgKoqKCoCq9WcMElERLocJWAdXFhgGPE94qlx1rCt0H0gOb/4BYSGwubN0OALh4hIVzVmzBhycnLIzc2lurqa9PR00tLS3Or069fP1bK1fft2Kisr6dWrF1OnTuX777%2BnvLwcu93O559/ztChQ1t8v7ofxlytX/v3m9uYGDMJExGRLkcJWCfQbDfEoCA4/3xz/%2BOPPRyViIjv8ff3Z9GiRUydOpWEhASmT59OYmIiDz/8MB9%2B%2BCEATz31FC%2B%2B%2BCIjRozgyiuv5NVXX8VisRAZGcldd93FmDFjSE5OZtSoUVx44YUtvl%2BVowpoMP5L3Q9FRLo8f28HICdvZMxI3t32Lhv3beT65OvdT150Ebz/vtkN8eabvRKfiIgvSU1NJTU11e3YY4895tofOnQoX331VZPPvfrqq7n66qtb/V7V9toWsLoZEDUBh4hIl6cWsE6gbibETQc2NT5Z9%2BvsypVQVubBqEREpK4LolrARESkjhKwTqBhF0SncdyaX717w9ix5sDvJmbrEhGR9tOoC6JawEREujwlYJ1ATLcYYrrFcLTqKLmHcxtX0HT0IiJe4ZqEQ4swi4hILSVgnUSzE3FA/XT0H30ETmfj8yIi0i7UAiYiIsdTAtZJjIwxx4Ft3L%2Bx8ckRIyAuDvbtg41NnBcRkXbhdDoJDQilR3AP84BawEREujwlYJ1EXQK2ft/6xictlvpuiO%2B%2B68GoRESkf0R/LBaL%2BUAtYCIiXZ4SsE7irL5nYbVY%2BWzXZ%2Bwo2tG4wlVXmdtnn4UffvBscCIiXZhrEeajR%2BHYMQgJgfBw7wYlIiJeowSsk4jtHsuNI2/EaTh5ZM0jjSucfTbccIM5G%2BLMmeBweD5IEZEuqH94f3OnYetXXYuYiIh0OUrAOpGHJj1EoDWQt7e%2Bzeb9mxtXeOop6NMH1q2DxYs9H6CISBfkagHT%2BC8REUEJWKfSN7wvt6TcAsBDqx9qXCEyEv72N3P/97%2BHn37yYHQiIl2TZkAUEZGGlIB1Mr8/5/eEBoTyr53/4pv8bxpXuOQSuOIKKC%2BHWbPAMDwfpIhIF6I1wEREpCElYJ1MdGg0d4y7A4C5q%2BY2Xen556FnT1i1Cl56yYPRiYh0LYN6DGJor6HmA7WAiYgISsA6pXvOuofwwHBW5a5iVe6qxhV69YLnnqutfA/k53s2QBGRLiIiKIKwwDDzgVrAREQEJWCdUmRwJPeedS9gtoIZTXUznDEDLr7YnBb5llvUFVFEpL2pBUxERFAC1mndMf4OeoX04pv8b/g45%2BPGFSwWc0KO8HD46CN46y3PByki0pXUtYApARMR6dKUgHVS3WzdePCcBwH4w6o/4DScjSvFxppT0wPcfjscOODBCEVEuhCnE/btM/eVgImIdGlKwDqxm1NuJq57HJsPbObdre82XenGG%2BG//gsOHYLf/tazAYqIdBWFhWC3Q48eEBTk7WhERMSLlIB1YkH%2BQTw0yVwP7OE1D2N32htXslhgyRIICYF334WFCz0cpYhIF1A3/ksTcIiIdHlKwDq5G5JvYFDkIHYW7%2BT1za83XWnAgPrE63e/gwcf1KQcIiKnksZ/iYhILSVgnVyANYB5584D4NHPH6XKXtV0xZtugv/3/8Bqhfnz4YYboKbGc4GKiHRmagETEZFaSsDa0YoVKxg8eDDx8fEsWLCg2Xr//Oc/sVgsZGVltUscVw67ksReifyn5D889fVTzVe8/nr417/M7oivvQZpaXDsWLvEJCLSpWgKehERqaUErJ04HA7mzJnDJ598wrZt21i6dCnbtm1rVK%2B0tJSFCxcybty4dovF6mdlwX%2BZCeDcVXNZnLm4%2BcoXXACrV0PPnrBiBUyZYg4eFxGRttMizCIiUksJWDvJzMwkPj6egQMHYrPZmDFjBsuXL29U76GHHuL%2B%2B%2B8nqJ1nxbrozIt4/oLnAbjtk9v463d/bb7y2LHw1Vfm2LDvvoOzzoKffmrX%2BEREOjW1gImISC0lYO2koKCAvn37uh7HxcVRUPcLaK0NGzaQl5fHhRde6JGYbht7mysJm5Mxp%2BUk7MwzYd06GDkSfvzRTMI2bPBInCIinY5awEREpJa/twPoqpxOJ3fddRevvvrqCesuWbKEJUuWAFB4kt0Bbxt7G4ZhcPuK25mTMQcLFm4Zc0vTlWNiYM0a%2BNWvYOVKmDQJ5s2DO%2B6AgICTikNEpEtp0AJWU1NDfn4%2BlZWV3o1JWhQUFERcXBwB%2Bv9ORE4xJWDtJDY2lry8PNfj/Px8Yhv88llaWkp2djbnnnsuAPv37yctLY0PP/yQlJQUt9eaPXs2s2fPBmh0ri1%2BO%2B63GBjcseIObs24FaD5JKx7d8jIgFmz4B//gHvvhVdegUWLzPFhIiLSsqoqcyyt1QrR0eTv2UNYWBj9%2B/fHYrF4OzppgmEYFBcXk5%2Bfz4ABA7wdjoh0MuqC2E7GjBlDTk4Oubm5VFdXk56eTlpamut8eHg4RUVF7N69m927dzN%2B/Pgmk6/2cvu421k4zVz769aMW3kh64XmK9ts5qyIGRkQHw/bt8MvfwlXXAH5%2BR6JV0Skw9q/39zGxIDVSmVlJVFRUUq%2BfJjFYiEqKkqtlCLSLpSAtRN/f38WLVrE1KlTSUhIYPr06SQmJvLwww/z4Ycfejs8wEzCnp36LAC3fHxLy0kYmDMkfv89PP44BAfDO%2B/AkCHwxBNQXe2BiEVEOqAmxn8p%2BfJ9%2BjMSkfaiBKwdpaamsnPnTnbt2sXcuXMBeOyxx9xawuqsWbPGY61fDd0x/g63JOy2jNsoqSxp/glBQTB3rtkKdtllUFYGDzwASUnw8cdgGB6KXESkg/CxGRCPHDnCX//awiRMLUhNTeXIkSNtfu/58%2BcTHx/P4MGD%2BfTTT5uss2rVKkaNGsWwYcO47rrrsNvtALz55pskJSUxfPhwzjrrLDZv3ux6zsKFCxk2bBiJiYk8%2B%2ByzruPz5s0jNjaW5ORkkpOTycjIcJ3bsmULEyZMIDExkeHDh6u1S0Q8RgmYcMf4O3hu2nNYLVYWf7eYIYuH8Hb22xgtJVOnnw7LlsGnn8LgwbBjB1x0EQwdCn/7mxZwFhGp42MzILaUgNUlO83JyMggIiKiTe%2B7bds20tPT2bp1KytWrODWW2/F4XC41XE6nVx33XWkp6eTnZ3N6aefzmuvvQbAgAED%2BPzzz/n%2B%2B%2B956KGHXGOjs7OzefHFF8nMzGTz5s189NFH/Pjjj67XvPPOO9m0aRObNm0iNTXV9TmvvvpqXnjhBbZu3cqaNWs02YaIeIwSMAHMiTk2/M8GJsRNYP%2Bx/cz45wwuePMCdh3a1fITzz8ftmyBv/zF/HLxww9w660QFwd33631w0REfKwF7IEHHmDXrl0kJydz7733smbNGs455xzS0tIYOnQoAJdeeimjR48mMTHRNQsvQP/%2B/V3jlxMSEpg1axaJiYmcf/75VFRUtPi%2By5cvZ8aMGQQGBjJgwADi4%2BPJzMx0q1NcXIzNZuPMM88E4LzzzuOf//wnAGeddRaRkZEAjB8/nvzaMcjbt29n3LhxhISE4O/vzy9%2B8Qvee%2B%2B9FmP57LPPSEpKYsSIEQBERUVhtVpbewlFRE6KEjBxSeqdxNob1/L3i/5ORFAEn%2B76lGF/G8afvvgTVfaq5p9os5nJVm4uvP02TJwIJSXw9NPmpB2XXAKrVql7ooh0TXUtYD6SgC1YsIBBgwaxadMmnnzyScBcl3LhwoXs3LkTgFdeeYX169eTlZXFc889R3FxcaPXycnJYc6cOWzdupWIiAhXovTCCy/wwguNxxS3Zn3Mnj17YrfbycrKAmDZsmVuMwrXefnll7ngggsAGDZsGF9%2B%2BSXFxcWUl5eTkZHh9pxFixaRlJTEjTfeyOHDhwHYuXMnFouFqVOnMmrUKP785z%2B3/gKKiJwkJWDixs/ix%2BzRs9lx2w6uSbqGSnslf1j9B5L/nszq3NUtPzkgAKZPh7VrISsLrrvOPPbhh%2BasifHxcP/98N13SsZExGtWrFjB4MGDiY%2BPZ8GCBY3O79mzh8mTJzNy5EiSkpLcxg3Vne/WrRt/%2BctfWveGdS1gTXVBtFjap/xMY8eOdZtu/bnnnmPEiBGMHz%2BevLw8cnJyGj1nwIABJCcnAzB69Gh2794NwM0338zNN9/8s2MwL4eF9PR07rzzTsaOHUtYWFijlqnVq1fz8ssv88QTTwCQkJDA/fffz/nnn8%2B0adNITk52PeeWW25h165dbNq0iT59%2BnD33XcDZhfEtWvX8uabb7J27Vref/99Vq5c2aaYRUR%2BLiVg0qTo0Gj%2B8d//YOW1Kzkz6kx%2BKPqBKf%2BYwriXxvH65tdbbhEDGD0aXn0V8vLgj380f/n96Sf4859h7Fjo3x/uugvWrQOn0xMfSUQEh8PBnDlz%2BOSTT9i2bRtLly5l27ZtbnUef/xxpk%2BfzsaNG0lPT%2BfWW291O3/XXXe5Wl9axcdawJoSGhrq2l%2BzZg3//ve/%2Bfrrr9m8eTMjR45scoKKwMBA177Vaj3h%2BLETrY9ZZ8KECXz55ZdkZmYyadIkV3dEMCfOuOmmm1i%2BfDlRUVGu4zNnzmT9%2BvV88cUXREZGup7Tu3dvrFYrfn5%2BzJo1y9XlMS4ujkmTJtGzZ09CQkJITU1lw4YNJ7pMIiKnhBIwadGUAVPYcvMW/jj5j0QGRZJZkMm1H1xL32f6MnflXPJKGncNcRMdDX/4A%2BzZA59/Dr/9rfkr8J498MwzZnfFvn3N4xkZUFrqmQ8mIl1SZmYm8fHxDBw4EJvNxowZM1i%2BfLlbHYvFwtGjRwEoKSnhtAaJ0wcffMCAAQNITExs/Zu21AJmGO1TWhAWFkZpC/fakpISIiMjCQkJ4YcffuCbb75p/WdtQVpaGunp6VRVVZGbm0tOTg5jx45tVO/gwYMAVFVV8cQTT7ha0/bs2cOvfvUrXn/9dbekrOFz9uzZw3vvvcdvfvMbAPbt2%2Beq8/777zNs2DAApk6dyvfff095eTl2u53PP//cNf5NRKS9KQGTEwr0D%2BQPk/5A/l35vJz2MskxyRSWF/K/a/%2BX/gv7c9k7l7E6d3XLsyZarTBpEjz3nJl8rVtntoCdfrr55WTRIrjwQujRw0zKHnoIVq8GTQssIqdQa8YhzZs3jzfeeIO4uDhSU1N5/vnnATh27BhPPPEEjzzySOvf0OEwZ4UNDobw8FPyGU5WVFQUEydOZNiwYdx7772Nzk%2BbNg273U5CQgIPPPAA48eP/1mv39wYsMTERKZPn87QoUOZNm0aixcvdnUVTE1NZW9tovrkk0%2BSkJBAUlISF198MVOmTAHMZVyKi4u59dZbSU5Odlu65bLLLmPo0KFcfPHFLF682DVT43333cfw4cNJSkpi9erVPPPMMwBERkZy1113MWbMGJKTkxk1ahQXXnjhz/qcIiJtZTFa/NYsviYlJcU1ONlbDMNgXd46Fn23iGXblmF3mt1OzuhxBpcOuZRLBl/C%2BLjxWP1aMaOUYcD69fDBB7BypTk%2BrOG0xIGBZkI2eTJMmAApKT7zJUZEfh5fuH8tW7aMFStW8NJLLwHw%2Buuv8%2B2337Jo0SJXnaeffhrDMLj77rv5%2BuuvmTlzJtnZ2dx3332MHTuW6dOnM2/ePLp168Y999zT6D2WLFnimjnw8L597Nq71xwDWzuOavv27SQkJHjg08rJ0p%2BVdHW%2BcN/ujPy9HYB0PBaLhYn9JjKx30SePv9plqxfwgvrXyDnUA5PrnuSJ9c9Sa%2BQXlx85sWkDU7jvEHnERIQ0tyLmUlVSgo8/jgcPQpffmnOmrhyJWzebO6vWlX/nMGDzXFkdWXECDNRExE5gdaMQ3r55ZdZsWIFYI5HqqyspKioiG%2B//ZZly5Zx3333ceTIEfz8/AgKCuK2225ze/7s2bNda1SlDB5sHvTh8V8iIuJZSsDkpPQJ68Mj5z7C3ElzWbtnLct/WM7yHcvJPZLLK5te4ZVNrxDsH8x5g85j6qCpnNPvHBKjE/GzNNP7tXt3sytiXVeQoiJYs8YcP/bdd7Bxo7no844d8PrrZp2AAEhKguHD3Uvv3m2aDUxEOq8xY8aQk5NDbm4usbGxpKen89Zbb7nV6devHytXruT6669n%2B/btVFZW0qtXL7788ktXnboWsOOTr0aqq82tjyzCLCIi3qcETE4Jfz9/zu1/Luf2P5enpz7N1sKtrmTsu73f8eGOD/lwx4cAhAeGM7HfRM7uezZn9zubMbFjCPIPavqFe/aEyy83C5hfZrZsMZOxzEyzbN9udmNcv979uVFR9cnY0KFmy9mZZ5q/RCsxE%2BmS/P39WbRoEVOnTsXhcHDjjTeSmJjIww8/TEpKCmlpaTz11FPMmjWLZ555BovFwquvvoqlrfeMmhpzqxYwERGppTFgHUxH7Iu7t3QvH%2B38iC/%2B8wVr96zlPyX/cTtvs9pIOS2FlD4pjIgZQXJMMom9Egn0b2W3wtJSs6vi99%2B7l5KSpuuHhMAZZ5jJWF0ZNAgGDICYGPDT3DQi7aEj3r9OVkrv3mQdPGguTH/nnYDGFXUk%2BrOSrq4r3rc9QS1g0u5OCzuN2aNnM3u0OSYirySPtXvWmiVvLd8f%2BJ51eetYl7fO9Rx/P3%2BG9BxCckwyI3qPYETvEQzpOYTY7rGNuy%2BGhcHZZ5uljmGYa%2B/UJWM//AA7d5qlsNBM2DZvbhxsYKA5M%2BOAAeZaZXXbfv3M6fJjYsBf/2xEpJXquiCqBUxERGrpm6R4XN/wvlw5/EquHH4lAEcqj/BN/jds2r%2BJTfs3sfnAZnYU7SD7YDbZB7N5gzdczw0JCOHMqDM5M%2BpMBkcNZnDUYNfj8KAGsyNaLBAXZ5bjF0w9fNicjawuIdu501wkOjfXHHNWd6wpfn7mF6m4ODMhq3uP006DPn3qS1jYqb5sItIRFMrmlAAAEgVJREFU1XVB1BgwERGppQRMvC4iKIJp8dOYFj/Nday8ppzsg9lmQrZ/M1sObmFH0Q4KywtdidrxIoMi6R/Rv8nSt3tfIoIizHEckZH1Myge79gx2L3bTMbqtrm5kJ8PeXlw4IC5n58PLS1OGhpan5TFxJgTgkRH128b7oeGakyaSGfVSVrAunXrxrFjx9i7dy%2B33347y5Yta1Tn3HPP5S9/%2BYvb%2BlzHq6qq4tprr2X9%2BvVERUXx9ttv079//0b1Fi5cyIsvvohhGMyaNYvf/e53ADz00EMsX74cPz8/oqOjefXVV90WyhYR6QiUgIlPCgkIYWzsWMbGuidJhysOs7N4JzuKd7i2O4p28OOhHzlceZjD%2Bw%2Bzcf/GZl/ztLDTiA2LJbZ7rLmt3e/TrQ%2B9u/Wmd2hvuiUmYhk2rOnAqqvNhaPz8uqTsvx82LevvuzdC2VlZitb7bo/LQoONicbaa5ERZkLVDcs3bsraRPpCDrZJBynnXZak8lXa7388stERkby448/kp6ezv3338/bb7/tVic7O5sXX3yRzMxMbDYb06ZN46KLLiI%2BPp57772XP/7xjwA899xzPPbYY00u%2Biwi4suUgEmHEhkcybi4cYyLG%2Bd23DAMisqLyD2Sy%2B4ju91K7pFc8kryKKsp48dDP/LjoR9bfI9g/2BXMhbTLYbeob3pFdqLniE9iQqOomdIT3oO7EnPYePpGXIR3Wzd3GdIMwxzApCGSVlhodl6dvBgfTlwwCwVFWYi12BtohOyWs2WvB49zG1EhPu2bj8iwly4umGJiICgICVwIp7So4f5b85HPPDAA/Tt25c5c%2BYA9VPq33zzzVxyySUcPnyYmpoaHn/8cS655BK35%2B7evZuLLrqI7OxsKioquOGGG9i8eTNDhgyhoqLihO%2B9fPly5s2bB8Dll1/ObbfdhmEYbvfQ7du3M27cOEJCzPUjf/GLX/Dee%2B9x33330b17d1e9srKyts9OKSLiRUrApFOwWCz0Cu1Fr9BejVrNwEzQjlYdZW/pXgpKCyg4WuC23X9sPwfKDnDg2AEq7BWu5K01bFYbkUGR9AjuQWRw7TYosv5YfCThiZGEB/UnIiiC8MBwwoPCzW1gd/wrq82xZ8eXwkJze%2BhQ41JaWl%2BvLQICzFa0uqQsLMx8fHwJCzNLt271%2B8cfCwxUMifSEh8b/3XFFVfwu9/9zpWAvfPOO3z66acEBQXx/vvv0717d4qKihg/fjxpaWnNJjl/%2B9vfCAkJYfv27WzZsoVRo0a5zt10003cfPPNjbojFhQU0LdvX8BcEiA8PJzi4mJ69uzpqjNs2DDmzp1LcXExwcHBZGRkuL3O3Llz%2Bcc//kF4eDirV68%2BZddFRMRTlIBJl2CxWMykJyichF7NTylsGAbHqo%2B5krG6bVF5kVkqiur3a0t5TblZr%2BxAm2ILCQihe2B3ugd2J8wWZm57h9G9X3e627rTzTaAsMAkutm61RdLIGHV0K3cQWh5DSHHqggtrST0aCWBh0uxlJSYk40cOWK2xh1fqqqguNgsJ8tqNZOx0FBzW1dCQxuX44%2BHhNRvG%2B7XbYOCtCyAdHwtdD%2B0PNo%2BP14YjzS/wszIkSM5ePAge/fupbCwkMjISPr27UtNTQ0PPvggX3zxBX5%2BfhQUFHDgwAFiYmKafJ0vvviC22%2B/HYCkpCSSkpJc51566aU2x56QkMD999/P%2BeefT2hoKMnJyVitVtf5P/3pT/zpT39i/vz5LFq0iEcffbTN7yUi4g1KwEQasFgshAWGERYYRnyP%2BFY9p6KmgsOVhzlUcYjDFYfd9g9VHOJw5WFKqkooqSzhSOURt/2jVUcprymnvKac/cf2n5LP4GfxIyQqhNCYUEJtoYQEhNSWWEICzjD3/QIJdloJcfgR7PAjyG4QXG0QXO0kuNJBcKWd4Ao7QWVVBFXUmNtjlWY5Wm6WI8cILC0nsLwav7rErj0EBZnJWHBwfaIWHFxfjn98fAkKct8ef%2Bz4ohY9OdV8cPzXr3/9a5YtW8b%2B/fu54oorAHjzzTcpLCxk/fr1BAQE0L9/fyorK0/p%2B8bGxpKXl0dcXBx2u52SkhKioqIa1Zs5cyYzZ84E4MEHHyQuLq5RnauuuorU1FQlYCLS4SgBEzlJwQHBBAcEc1rYz/%2BS5TScHKs%2BRmlVKUerjlJaXbutfXy06ijHqo%2B5l5r6/dKqUspryimrKaOsuoyymjKqHdWu85SdxAcLACJqy4mq%2BgUQaLUR5Gcj0BJAIP4EYiXQsBJo%2BBHotGBzWAh0QKADbDUGgTVObHaDwGoHtrpSZcdWacdWWYOtstrcd1QS4KzE5gCbAwIqwHYMApwQ4HDf2hyNj/kfV69VqVVgoFkaJmXNbRvWbfj4%2BGKzNf%2B4qX2brb5o7bmOrYUuiC21VLWnK664glmzZlFUVMTnn38OQElJCdHR0QQEBLB69Wr%2B85//tPgakyZN4q233mLKlClkZ2ezZcuWE75vWloar732GhMmTGDZsmVMmTKlyS6OBw8eJDo6mj179vDee%2B/xTe2sszk5OZxxxhmAOZ5syJAhP/eji4h4nf5XF/EiP4ufq/thLKdmnIjdaXclY2XVZVTYKyivKaeipsLV2lZeU%2B52vMJe4dpW2ivdHlfZq6i0V7qVuvNVjiqqHdXUOGuocdZw7EQZn19tCTglH7VN/AwIcFoIcFrwN%2BoTNH%2BHYe7bDfydVbXlKP61SVxTxWqAvx38q8G/BKwNjztbfmw97njDY422hgWr1d8sfv5YrQFY/f3xswZg9Q%2BofVy3teEXYO77Bdjw8zfP%2BQXYas/ZsNYe9wsINPfrjtkCsQYEms%2BrfVy3b7UF4mcLwmKzmWMIWyr%2B/vX76kLqky1giYmJlJaWEhsbS58%2BfQCzReniiy9m%2BPDhpKSknDC5ueWWW7jhhhtISEggISGB0aNHu841NwZs5syZXHPNNcTHx9OjRw/S09MB2Lt3LzfddBMZGRkAXHbZZRQXFxMQEMDixYuJiDB/CXrggQfYsWMHfn5%2BnH766ZoBUUQ6JIthGN75%2BU3aJCUlhaysLG%2BHIeJiGAbVjmqqHGaiVmWvcu1XO6pdj5var3ZUNyoNz9c4a6hx1FDtrDa3tXVqnOZ%2BjaOmvk5dItjgWI2zBrvT7rYvJ8/PaSaydcWC%2B%2BMmCxZi1ozqcvevFIuFrOXLIS3NdWz79u0kJDQ/FlV8h/6spKvT9872oRYwETkpFouFQP9AAv0D6R7Y/cRP8CLDMHAYDmoctYlZbVJWl6S59p01OJwO1%2BPjy/HnHUaDfafDdd5hOFz1jq9Td67u%2BPHH3PYddhyOGhz2GnPrsON0Njhe93yHHYfTjtNw4nQ6cBpOHIYDp7N2azhxGE7zPPX7Dgzzce3WaRg4LeDEqD1m4LSYxwCcfuD8%2BVefpqdy6AJ8sAVMRES8RwmYiHQZFosFf4s//n669bWVYRhmAtdMMWhw3unAaa/BWV2Fs6aaS/91jbfD97zERGhuYXcREemS9C1ERERazWKxYLVYsWI9cWWpn8hFRESklkZHi4iIeJiGX/s%2B/RmJSHtRAiYiIuJBQUFBFBcX6wu%2BDzMMg%2BLiYoLUeiki7UBdEEVERDwoLi6O/Px8CgsLvR2KtCAoKKjJBaBFRE6WEjAREREPCggIYMCAAd4OQ0REvERdEEVERERERDxECZiIiIiIiIiHKAETERERERHxEIuhaZg6lG7dujFkyBBvh9GkwsJCevXq5e0wmqTY2kaxtY1ia9ru3bspKiryynt7i%2B7ZbaPY2kaxtY1ia15XvG97gibh6GCGDBlCVlaWt8NoUkpKimJrA8XWNoqtbXw5ts5I9%2By2UWxto9jaRrGJp6kLooiIiIiIiIcoARMREREREfEQ67x58%2BZ5Owj5eUaPHu3tEJql2NpGsbWNYmsbX46tM/Ll663Y2kaxtY1iaxtfjk3aRpNwiIiIiIiIeIi6IIqIiIiIiHiIErAOZMWKFQwePJj4%2BHgWLFjg7XDc9O/fn%2BHDh5OcnExKSopXY7nxxhuJjo5m2LBhrmOHDh3ivPPO44wzzuC8887j8OHDPhPbvHnziI2NJTk5meTkZDIyMrwSW15eHpMnT2bo0KEkJiaycOFCwPvXrrm4fOW6VVZWMnbsWEaMGEFiYiKPPPIIALm5uYwbN474%2BHiuuOIKqqurfSa266%2B/ngEDBriu3aZNmzweW1ege3br6J7dNr56z24pNl%2B4drpni08wpEOw2%2B3GwIEDjV27dhlVVVVGUlKSsXXrVm%2BH5XL66acbhYWF3g7DMAzD%2BPzzz43169cbiYmJrmP33nuvMX/%2BfMMwDGP%2B/PnGfffd5zOxPfLII8aTTz7plXga2rt3r7F%2B/XrDMAzj6NGjxhlnnGFs3brV69euubh85bo5nU6jtLTUMAzDqK6uNsaOHWt8/fXXxq9//Wtj6dKlhmEYxv/8z/8Yf/3rX30mtuuuu8549913PR5PV6J7duvpnt02vnrPbik2X7h2umeLL1ALWAeRmZlJfHw8AwcOxGazMWPGDJYvX%2B7tsHzSpEmT6NGjh9ux5cuXc9111wFw3XXX8cEHH3gjtCZj8xV9%2BvRh1KhRAISFhZGQkEBBQYHXr11zcfkKi8VCt27dAKipqaGmpgaLxcKqVau4/PLLAe/9nWsuNml/ume3nu7ZbeOr9%2ByWYvMFumeLL1AC1kEUFBTQt29f1%2BO4uDifuZmBedM4//zzGT16NEuWLPF2OI0cOHCAPn36ABATE8OBAwe8HJG7RYsWkZSUxI033ui1rjYN7d69m40bNzJu3DifunYN4wLfuW4Oh4Pk5GSio6M577zzGDRoEBEREfj7m2vde/Pf6/Gx1V27uXPnkpSUxJ133klVVZVXYuvMdM8%2BOb5032mKr9x76vjqPfv42MA3rp3u2eJtSsDklFi7di0bNmzgk08%2BYfHixXzxxRfeDqlZFovFp35RuuWWW9i1axebNm2iT58%2B3H333V6N59ixY1x22WU8%2B%2ByzdO/e3e2cN6/d8XH50nWzWq1s2rSJ/Px8MjMz%2BeGHH7wWy/GOjy07O5v58%2Bfzww8/8N1333Ho0CGeeOIJb4cpHqZ7dtv50r0HfPeeDb5739Y9W7xNCVgHERsbS15enutxfn4%2BsbGxXozIXV0s0dHR/Pd//zeZmZlejshd79692bdvHwD79u0jOjrayxHV6927N1arFT8/P2bNmuXVa1dTU8Nll13GVVddxa9%2B9StXfN6%2Bds3F5SvXrU5ERASTJ0/m66%2B/5siRI9jtdsA3/r3WxbZixQr69OmDxWIhMDCQG264wSeuXWeje/bJ8YX7TnN86d7jq/fslmLzlWsHumeL9ygB6yDGjBlDTk4Oubm5VFdXk56eTlpamrfDAqCsrIzS0lLX/meffeY2Y5QvSEtL47XXXgPgtdde45JLLvFyRPXq/qMEeP/997127QzDYObMmSQkJHDXXXe5jnv72jUXl69ct8LCQo4cOQJARUUF//d//0dCQgKTJ09m2bJlgPf%2BzjUV25AhQ1zXzjAMPvjgA5/799oZ6J59crx932mJr9x7fPWe3VJsvnDtdM8Wn%2BDNGUDk5/n444%2BNM844wxg4cKDx%2BOOPezscl127dhlJSUlGUlKSMXToUK/HNmPGDCMmJsbw9/c3YmNjjZdeeskoKioypkyZYsTHxxu//OUvjeLiYp%2BJ7eqrrzaGDRtmDB8%2B3Lj44ouNvXv3eiW2L7/80gCM4cOHGyNGjDBGjBhhfPzxx16/ds3F5SvXbfPmzUZycrIxfPhwIzEx0Xj00UcNwzD/XYwZM8YYNGiQcfnllxuVlZU%2BE9vkyZONYcOGGYmJicZVV13lmnVLTi3ds1tH9%2By28dV7dkux%2BcK10z1bfIHFMAzDuymgiIiIiIhI16AuiCIiIiIiIh6iBExERERERMRDlICJiIiIiIh4iBIwERERERERD1ECJiIiIiIi4iFKwERERERERDxECZiIiIiIiIiHKAETERERERHxECVgIiIiIiIiHqIETERERERExEOUgImIiIiIiHiIEjAREREREREPUQImIiIiIiLiIUrAREREREREPEQJmIiIiIiIiIcoARMREREREfEQJWAiIiIiIiIeogRMRERERETEQ5SAiYiIiIiIeIgSMBEREREREQ/5/7tsvLOMc4NXAAAAAElFTkSuQmCC\">"
      ]
     },
     "metadata": {},
     "output_type": "display_data"
    }
   ],
   "source": [
    "s.run(tf.global_variables_initializer())\n",
    "\n",
    "BATCH_SIZE = 512\n",
    "EPOCHS = 40\n",
    "\n",
    "# for logging the progress right here in Jupyter (for those who don't have TensorBoard)\n",
    "simpleTrainingCurves = matplotlib_utils.SimpleTrainingCurves(\"cross-entropy\", \"accuracy\")\n",
    "\n",
    "for epoch in range(EPOCHS):  # we finish an epoch when we've looked at all training samples\n",
    "    \n",
    "    batch_losses = []\n",
    "    for batch_start in range(0, X_train_flat.shape[0], BATCH_SIZE):  # data is already shuffled\n",
    "        _, batch_loss = s.run([step, loss], {input_X: X_train_flat[batch_start:batch_start+BATCH_SIZE], \n",
    "                                             input_y: y_train_oh[batch_start:batch_start+BATCH_SIZE]})\n",
    "        # collect batch losses, this is almost free as we need a forward pass for backprop anyway\n",
    "        batch_losses.append(batch_loss)\n",
    "\n",
    "    train_loss = np.mean(batch_losses)\n",
    "    val_loss = s.run(loss, {input_X: X_val_flat, input_y: y_val_oh})  # this part is usually small\n",
    "    train_accuracy = accuracy_score(y_train, s.run(classes, {input_X: X_train_flat}))  # this is slow and usually skipped\n",
    "    valid_accuracy = accuracy_score(y_val, s.run(classes, {input_X: X_val_flat}))  \n",
    "    simpleTrainingCurves.add(train_loss, val_loss, train_accuracy, valid_accuracy)"
   ]
  },
  {
   "cell_type": "markdown",
   "metadata": {},
   "source": [
    "# Submit a linear model"
   ]
  },
  {
   "cell_type": "code",
   "execution_count": 14,
   "metadata": {},
   "outputs": [],
   "source": [
    "## GRADED PART, DO NOT CHANGE!\n",
    "# Testing shapes \n",
    "grader.set_answer(\"9XaAS\", grading_utils.get_tensors_shapes_string([W, b, input_X, input_y, logits, probas, classes]))\n",
    "# Validation loss\n",
    "grader.set_answer(\"vmogZ\", s.run(loss, {input_X: X_val_flat, input_y: y_val_oh}))\n",
    "# Validation accuracy\n",
    "grader.set_answer(\"RMv95\", accuracy_score(y_val, s.run(classes, {input_X: X_val_flat})))"
   ]
  },
  {
   "cell_type": "code",
   "execution_count": 15,
   "metadata": {},
   "outputs": [
    {
     "name": "stdout",
     "output_type": "stream",
     "text": [
      "Submitted to Coursera platform. See results on assignment page!\n"
     ]
    }
   ],
   "source": [
    "# you can make submission with answers so far to check yourself at this stage\n",
    "grader.submit(COURSERA_EMAIL, COURSERA_TOKEN)"
   ]
  },
  {
   "cell_type": "markdown",
   "metadata": {},
   "source": [
    "# MLP with hidden layers"
   ]
  },
  {
   "cell_type": "markdown",
   "metadata": {},
   "source": [
    "Previously we've coded a dense layer with matrix multiplication by hand. \n",
    "But this is not convenient, you have to create a lot of variables and your code becomes a mess. \n",
    "In TensorFlow there's an easier way to make a dense layer:\n",
    "```python\n",
    "hidden1 = tf.layers.dense(inputs, 256, activation=tf.nn.sigmoid)\n",
    "```\n",
    "\n",
    "That will create all the necessary variables automatically.\n",
    "Here you can also choose an activation function (remember that we need it for a hidden layer!).\n",
    "\n",
    "Now define the MLP with 2 hidden layers and restart training with the cell above.\n",
    "\n",
    "You're aiming for ~0.97 validation accuracy here."
   ]
  },
  {
   "cell_type": "code",
   "execution_count": 16,
   "metadata": {},
   "outputs": [
    {
     "name": "stdout",
     "output_type": "stream",
     "text": [
      "WARNING:tensorflow:From <ipython-input-16-a6fa500a5bb3>:3: dense (from tensorflow.python.layers.core) is deprecated and will be removed in a future version.\n",
      "Instructions for updating:\n",
      "Use keras.layers.dense instead.\n"
     ]
    }
   ],
   "source": [
    "# https://github.com/aymericdamien/TensorFlow-Examples/blob/master/examples/3_NeuralNetworks/multilayer_perceptron.py\n",
    "hidden1 = tf.layers.dense(input_X, 256, activation=tf.nn.sigmoid)\n",
    "hidden2 = tf.layers.dense(hidden1, 256, activation=tf.nn.sigmoid)\n",
    "logits = tf.layers.dense(hidden2, 10, activation=None)\n",
    "probas = tf.nn.softmax(logits)\n",
    "classes = tf.argmax(probas,1)\n",
    "loss = tf.reduce_mean(tf.nn.softmax_cross_entropy_with_logits_v2(logits=logits, labels=input_y))\n",
    "step = tf.train.AdamOptimizer(learning_rate=0.001).minimize(loss)"
   ]
  },
  {
   "cell_type": "code",
   "execution_count": 17,
   "metadata": {},
   "outputs": [
    {
     "data": {
      "text/html": [
       "<img src=\"data:image/png;base64,iVBORw0KGgoAAAANSUhEUgAAA2AAAAEgCAYAAADSVRDhAAAABHNCSVQICAgIfAhkiAAAAAlwSFlzAAALEgAACxIB0t1%2B/AAAADl0RVh0U29mdHdhcmUAbWF0cGxvdGxpYiB2ZXJzaW9uIDMuMC4zLCBodHRwOi8vbWF0cGxvdGxpYi5vcmcvnQurowAAIABJREFUeJzs3XlcVdX6%2BPHPYVBERAZBZVBBHABFUJxScUotNRxTyoHEoUzvzcav6bfS%2B%2B3%2BrJvpzSHL2TRFM0wzo5yzSSVNRTFRAQEnQEHmcf3%2B2LmVGByS4ejzfr3O67D3XnvvteGwz3nOWutZBqWUQgghhBBCCCFEhTOp6goIIYQQQgghxKNCAjAhhBBCCCGEqCQSgAkhhBBCCCFEJZEATAghhBBCCCEqiQRgQgghhBBCCFFJJAATQgghhBBCiEoiAZgQQgghhBBCVBIJwIQQQgghhBCikkgAJoQQQgghhBCVRAIwIYQQQgghhKgkEoAJIYQQQgghRCWRAEwIIYQQQgghKokEYEIIIYQQQghRSSQAE0IIIYQQQohKIgGYEEIIIYQQQlQSCcCEEEIIIYQQopJIACaEEEIIIYQQlUQCMCGEEEIIIYSoJBKACSGEEEIIIUQlkQBMCHHPDAYDZ8%2BerepqCCGEEEIYHQnAhKhmCgoKqroKf9vDcA1CCGGMlFIUFRVVdTWEEOWQAEyIShQfH8/QoUNxcHDA3t6eqVOnsnr1arp06cLLL7%2BMvb09s2bNoqioiHfffZfGjRvj6OjI2LFjSUtLAyAnJ4fRo0djb2%2BPjY0N7du358qVKwCsXr0ad3d36tSpg5ubG59//nmZdTl9%2BjR9%2BvTBzs6OFi1asGnTJn3bc889x5QpUxgwYAB16tShY8eOnDt3DoCAgAAA2rRpg5WVFRs3bmTfvn24uLjw/vvv06BBA8aNGwfAsmXL8PDwwM7OjsDAQC5evKifw2AwsGDBAtzd3alXrx6vv/46RUVF5OXlYWdnx4kTJ/SyV69exdLSkqSkpAf0lxBCiIr13nvv0bRpU%2BrUqYOXlxdbtmzRty1btgxPT09925EjR4DS3yMAZs2axejRo/X9Y2NjMRgM%2BpddPXr0YObMmXTp0gVLS0vOnz/PqlWr9HO4u7vz6aefFqvf1q1b8fX1xdramqZNmxIeHs4XX3xBu3btipWbN28egwYNqpDfkRCPLCWEqBQFBQXKx8dHTZs2TWVkZKjs7Gx14MABtWrVKmVqaqoWLFig8vPzVVZWllqxYoVq2rSpOnfunEpPT1dDhgxRo0ePVkop9cknn6iBAweqzMxMVVBQoCIiIlRaWprKyMhQderUUadPn1ZKKXXx4kUVGRlZal0yMjKUi4uLWrlypcrPz1dHjhxR9vb26uTJk0oppYKDg5WdnZ06ePCgys/PV88%2B%2B6waOXKkvj%2BgoqOj9eW9e/cqU1NT9cYbb6icnByVlZWldu/erezt7dVvv/2mcnJy1NSpU1W3bt2KHaNHjx4qJSVFxcXFqWbNmqlly5YppZSaPHmyeuONN/Sy//3vf9XAgQMf0F9CCCEq3qZNm1RiYqIqLCxUoaGhytLSUl28eFFt2rRJOTk5qUOHDqmioiIVHR2tYmNjy3yPUEqpd955R40aNUo/dkxMjAJUfn6%2BUkqp7t27K1dXVxUZGany8/NVXl6e2r59uzp79qwqKipS%2B/btU7Vq1VK//fabUkqpgwcPKmtra/X999%2BrwsJClZCQoKKiolROTo6ytbVVp06d0s/l6%2BurNm/eXIm/OSEefhKACVFJfv75Z1WvXj39DfOmVatWKVdX12LrevXqpRYvXqwvnz59WpmZman8/Hy1YsUK1blzZ3Xs2LFi%2B2RkZKi6deuqzZs3q6ysrHLrEhoaqrp27Vps3aRJk9SsWbOUUloANn78eH3bN998o1q0aKEvlxaAmZubq%2BzsbH1dSEiIev311/Xl9PR0ZWZmpmJiYvRjfPvtt/r2xYsXq169eimllPr111%2BVq6urKioqUkop1a5dO7Vx48Zyr0kIIaqzNm3aqK%2B%2B%2Bkr17dtX/fe//y2xvaz3CKXuLgB76623yj3/oEGD9PNOmjRJTZs2rdRyL7zwgpoxY4ZSSqnIyEhlY2OjcnJy7u4ihRB3RbogClFJ4uPjady4MWZmZiW2ubq6Flu%2BePEijRs31pcbN25MQUEBV65cYcyYMfTr14%2BgoCCcnJx44403yM/Pp3bt2mzcuJFPPvmEhg0bMmDAAE6fPg2At7c3VlZWWFlZceDAAeLi4jh48CA2Njb64/PPP%2Bfy5cv6ORs0aKD/bGlpSUZGRrnX5%2BDggIWFRZnXYGVlhb29PYmJiaVed%2BPGjfUuih07dsTS0pJ9%2B/Zx%2BvRpzp49S2BgYLnnF0KI6uSzzz7D19dXv8dGRkaSnJxMfHw8TZs2LVG%2BvPeIu/HX95Fvv/2WTp06YWdnh42NDTt27CA5OVk/V2l1AAgODmb9%2BvUopVi7di0jRoygZs2a91UnIUTpJAATopK4urpy4cKFUhNUGAyGYstOTk7ExcXpyxcuXMDMzIz69etjbm7OO%2B%2B8w6lTp/j555/Zvn07n332GQD9%2BvVj586dXLp0iZYtWzJx4kQATp48SUZGBhkZGXTr1g1XV1e6d%2B9Oamqq/sjIyGDJkiX3fX13uobMzExSUlJwdnbW18XHxxe7RicnJ305ODiYdevWsXbtWoYPH14suBNCiOosLi6OiRMnsmjRIlJSUkhNTaVVq1YopXB1ddXH1N6uvPeI2rVrk5WVpS/f/mXZTbffg3Nzcxk2bBivvfYaV65cITU1lf79%2B6OU0s9VWh0AOnXqRI0aNThw4ADr169nzJgx93z9QojySQAmRCXp0KEDDRs2ZPr06WRmZpKTk8NPP/1UatlnnnmG%2BfPnExMTQ0ZGBjNmzGDkyJGYmZmxd%2B9eTpw4QWFhIdbW1pibm2NiYsKVK1fYunUrmZmZ1KxZEysrK0xMSv8XHzhwIGfOnGHt2rXk5%2BeTn5/P4cOHiYqKuqtrqV%2B/PufPny%2B3zDPPPMOqVav4/fffyc3NZcaMGXTs2JEmTZroZT744AOuX79OfHw8H330ESNHjtS3jR49mi1btrBu3TrGjh17V/USQojqIDMzE4PBgIODAwCrVq0iMjISgAkTJjB37lx%2B%2B%2B03lFKcPXuWuLi4ct8jfH19%2BeGHH7hw4QJpaWnMmTOn3PPn5eWRm5uLg4MDZmZmfPvtt3z//ff69vHjx7Nq1Sp2795NUVERiYmJeo8JgLFjxzJ16lTMzc3p2rXrg/71CPHIkwBMiEpiamrK119/zdmzZ2nUqBEuLi5s3Lix1LIhISGMGTOGgIAA3NzcsLCwYOHChYD2zefw4cOxtrbG09OT7t27M2bMGIqKipg3bx5OTk7Y2dmxf//%2BMlu06tSpw/fff09oaChOTk40aNCA//mf/yE3N/eurmXWrFkEBwdjY2NTLHvi7R5//HH%2B7//%2Bj2HDhtGwYUPOnTtHaGhosTKDBg2iXbt2%2BPr6MmDAAMaPH69vc3V1pW3bthgMBrp163ZX9RJCiOrAy8uLV199lc6dO1O/fn1OnDhBly5dAHj66aeZOXMmzz77LHXq1GHw4MFcu3at3PeIPn36MHLkSHx8fGjXrh0DBw4s9/x16tRhwYIFjBgxAltbW9avX1%2BsG3eHDh1YtWoVL7/8MnXr1qV79%2B7FeiyMGTOGyMjIYpkXhRAPjkHdbI8WQohKZDAYiI6OxsPDo8wyISEhODk58e6771ZizYQQ4tGWnZ2No6MjR44coVmzZlVdHSEeOvc30lMIISpYbGwsYWFhHD16tKqrIoQQj5QlS5bQvn17Cb6EqCASgAkhqp233nqL%2BfPn8%2Babb%2BLm5lbV1RFCiEdGkyZNUErx1VdfVXVVhHhoSRdEIYQQQgghhKgkkoRDCCGEEEIIISqJBGBCCCGEEEIIUUlkDJiRqVevXrF5lIQQwljExsaSnJxc1dWoVHLPFkIYs0fxvl0ZJAAzMk2aNCEiIqKqqyGEEPfM39%2B/qqtQ6eSeLYQwZo/ifbsySBdEIYQQj4yQkBAcHR1p1apVqduVUvzzn//Ew8MDHx8fjhw5om9bs2YNzZo1o1mzZqxZs6ayqiyEEOIhIwGYEEKIR8Zzzz1HeHh4mdu//fZboqOjiY6OZunSpUyePBmAa9euMXv2bA4ePMihQ4eYPXs2169fr6xqCyGEeIhIACaEEOKRERAQgJ2dXZnbt27dytixYzEYDHTq1InU1FQuXbrEd999R58%2BfbCzs8PW1pY%2BffqUG8gJIYQQZZExYEJUgvz8fBISEsjJyanqqghR4SwsLHBxccHc3Lyqq3LPEhMTcXV11ZddXFxITEwsc/39kPtB9WPMr1khhPGRAEyISpCQkECdOnVo0qQJBoOhqqsjRIVRSpGSkkJCQgJubm5VXZ0qsXTpUpYuXQpAUlJSie1yP6he5DUrhKhs0gVRiEqQk5ODvb29fNgSDz2DwYC9vb3Rtu44OzsTHx%2BvLyckJODs7Fzm%2BtJMmjSJiIgIIiIicHBwKLFd7gfVi7G/ZoUQxkdawIzNbR8AhHGRD1viUWHMr/XAwEAWLVpEUFAQBw8epG7dujRs2JB%2B/foxY8YMPfHG999/z5w5c%2B77PMb8O3oYyd9DPHSKiuDGDe2RkVH2Iy8PCgqgsPDW4/ZlUTGUMCrtQKmCgqquhrhHp06dqtLzX79%2BXS1evPi%2B9n3yySfV9evX7/vc/%2B///T/VtGlT1bx5cxUeHl5qmfPnz6sOHTqopk2bqhEjRqjc3FyllFL79%2B9Xfn5%2BytTUVH3xxRfF9unXr5%2BqW7euGjBgwF0da9WqVapevXqqTZs2qk2bNmrZsmX6Pm%2B88Yby9vZW3t7eKjQ0VF/ftWtXvXzDhg3VoEGDip3r0KFDJepW1rF27dql/Pz8VJs2bVSXLl1UdHS0UkqpadOm6edo1qyZqlu37h2v8aZ//OMfqnbt2vpybGys6tWrl2rdurXq3r27io%2BPV0opdfToUdWpUyfl5eWlWrduXaxeISEhysfHR7Vu3VoNGzZMpaenK6WUiouLUz169FC%2Bvr6qdevW6ptvvtH3OXbsmH68Vq1aqezs7BJ1K%2B01365du1KvozIFBQWpBg0aKDMzM%2BXs7KyWL1%2BulixZopYsWaKUUqqoqEi9%2BOKLyt3dXbVq1UodPnxY33fFihWqadOmqmnTpmrlypV3db7SrlnuB%2BXfD3bv3q38/PyUt7e3Gjt2rMrPz1dKKXXt2jU1ePBg1bp1a9W%2BfXt14sQJfZ958%2BYpLy8v5e3trYKCgvTX5MKFC1XTpk0VoJKSksqtW1X/XYQoV1aWUufPK/Xzz0pt2aLUkiVKvfOOUpMnKxUUpFTfvkq1b69U06ZK2dkpZWKiFPztR3W4bz%2BMJAAzMu1Aqb/x5ieqRlW/scfExChvb%2B9St938cFMRTp48qXx8fFROTo46f/68cnd3VwWlfIHw9NNPqw0bNiillHr%2B%2BefVxx9/rNf72LFjasyYMSUCsF27dqlt27aVCE7KOtaqVavUlClTSpx7%2B/bt6vHHH1f5%2BfkqIyND%2Bfv7q7S0tBLlhg4dqtasWaMvFxQUqJ49e6onn3xSr1t5x2rWrJn%2BOli8eLEKDg4ucY4FCxaocePG3fEalVLq8OHDavTo0cUCsOHDh6vVq1crpbQPsaNHj1ZKKfXHH3%2BoM2fOKKWUSkxMVA0aNNA/RN9%2BrS%2B//LKaM2eOUkqpiRMn6r%2B7kydPqsaNGyultNdL69at1e%2B//66UUio5ObnUv2l1DcAqW3UMwKrz/aCwsFC5uLioP/74Qyml1FtvvaWWL1%2BulFLqtddeU7NmzVJKKRUVFaV69eqllFIqISFBNWnSRGVlZSmltHvAqlWrlFJKHTlyRMXExKjGjRtLACaqj8JCpc6eVerLL5V6912lXntNqRdfVCo4WKnhw5V68kmlAgKUatdOqWbNlLK2vr8AytpaKRcXpTw9teCsZ0%2BlnnpKqWeeUWriRKWmTVPqjTeUmjFDqbfeUmrWLK0%2Bc%2BYo9Z//KPXhh4/kfbsySBdEY5SWBjY2VV0LYUSmT5/OuXPn8PX1pU%2BfPgwYMIC33noLW1tbTp8%2BzZkzZxg8eDDx8fHk5OTw0ksvMWnSJACaNGlCREQEGRkZPPnkk3Tt2pWff/4ZZ2dntm7dSq1atco879atWwkKCqJmzZq4ubnh4eHBoUOH6Ny5s15GKcWePXtYv349AMHBwcyaNYvJkyfTpEkTAExMSg5X7d27N/v27Su2rrxjleXUqVMEBARgZmaGmZkZPj4%2BhIeHM2LECL3MjRs32LNnD6tWrdLXLVy4kGHDhnH48OG7OpbBYODGjRsApKWl4eTkVKIuGzZsYPbs2eVeI0BhYSGvv/4669evZ8uWLcXOP2/ePAB69uzJ4MGDAWjevLlexsnJCUdHR5KSkrCxscHa2lr/3WVnZ%2Btdscqq7/fff4%2BPjw9t2rQBwN7evszfraieqvP9ICUlhRo1auiv2T59%2BjBnzhzGjx/PqVOnmD59OgAtW7YkNjaWK1euAFBQUEB2djbm5uZkZWXpr1c/P78K%2BR0KcdcyM%2BHECTh27Nbj%2BHGt%2B9%2B9qFED6teHBg2KPxwcwN4ebG3Bzu7Ws40NmD2Aj/l/vp%2BKB0sCMGOUllbVNRB/R0WNNVCqzE3vvfcekZGR/P777wDs27ePI0eOEBkZqWf9WrlyJXZ2dmRnZ9O%2BfXuGDRtW4sN1dHQ0GzZsYNmyZYwYMYIvv/yS0aNH88knnwDwwgsvFCufmJhIp06d9OXSUnenpKRgY2OD2Z9vFH8nvfedjvXll1/yww8/0Lx5c%2BbPn4%2Brqytt2rRh9uzZvPrqq2RlZbF37168vLyKHferr76id%2B/eerCSmJjIli1b2Lt3b7EArLxjLV%2B%2BnP79%2B1OrVi2sra359ddfi50jLi6OmJgYevXqdcfrXLRoEYGBgTRs2LDY%2BjZt2hAWFsZLL73Eli1bSE9PJyUlpdjf8dChQ%2BTl5dG0aVN93bhx49ixYwdeXl58%2BOGHAMyaNYu%2BffuycOFCMjMz2bVrFwBnzpzBYDDQr18/kpKSCAoK4o033rhjnUUZ5H5QrEy9evUoKCggIiICf39/Nm/erCc/ufn67tatG4cOHSIuLo6EhATatWvHa6%2B9RqNGjahVqxZ9%2B/alb9%2B%2B9/mLE%2BJvKCqC06fh11/h4EHtOTJSW/9XDRpAmzbQujXUqwe1a5f%2BsLLSytrYVNz9QlQ6CcCMkQRg4gHo0KFDsZTLCxYs0FtT4uPjiY6OLvGBy83NDV9fXwDatWtHbGwsUPKDVnX01FNP8cwzz1CzZk0%2B/fRTgoOD2bNnD3379uXw4cM89thjODg40LlzZ0xNTYvtu2HDBiZMmKAvT5s2jffff79Ey1x5x5o/fz47duygY8eOfPDBB7zyyissX75c3zc0NJThw4eXOPdfXbx4kS%2B%2B%2BKLUlrG5c%2BcydepUVq9eTUBAAM7OzsWOd%2BnSJcaMGcOaNWuK1X3VqlUUFhbyj3/8g40bNzJu3Dg2bNjAc889x6uvvsovv/zCmDFjiIyMpKCggB9//JHDhw9jaWlJ7969adeuHb17977zH0FUW9XlfmAwGAgNDeXll18mNzeXvn376q/h6dOn89JLL%2BHr60vr1q3x8/PD1NSU69evs3XrVmJiYrCxseHpp59m3bp1jB49%2Br7rIcQd5ebCuXPwxx9w5IgWbB06pCW9uJ2ZGbRqpQVbNx8%2BPuDoWDX1FtWCBGDGKDW1qmsg/o5yvpmuTLVr19Z/3rdvH7t27eKXX37B0tKSHj16lJqSuWbNmvrPpqamZGdnl3uOu0ndbW9vT2pqKgUFBZiZmZWb3vtOyjvW7R8eJ0yYUKzVZubMmcycOROAZ599tliXveTkZA4dOlSsq19ERARBQUH69h07dmBmZsbgwYNLPVZSUhLHjh2jY8eOAIwcOZInnniiWN1DQ0NZvHjxHa/x6NGjnD17Fg8PDwCysrLw8PDg7NmzODk5ERYWBkBGRgZffvklNn92V75x4wYDBgzg3//%2Bd7FWiJtMTU0JCgriP//5D%2BPGjWPFihWEh4cD0LlzZ3JyckhOTsbFxYWAgADq1asHQP/%2B/Tly5IgEYPdL7gclynXu3JkDBw4AWpfXM2fOAGBtba13A1ZK4ebmhru7O9999x1ubm56yv%2BhQ4fy888/SwAmHowrV7Qug2fOaMHWmTPaIy6u9JYtV1fo2BE6ddIebdtCOV1zxaNJ5gEzRtICJu5RnTp1SE9PL3N7Wloatra2WFpacvr06RLd4%2B5XYGAgoaGh5ObmEhMTQ3R0NB06dChWxmAw0LNnTzZv3gzAmjVrGDRo0H2dr7xjXbp0SS%2B3bds2PD09AW08VUpKCgDHjx/n%2BPHjxbovbd68mYEDB2JhYaGvi4mJITY2ltjYWIYPH87HH3/M4MGDyzyWra0taWlp%2BgfJnTt36ucHOH36NNevXy82FqYsAwYM4PLly/r5LS0tOXv2LKAFg0V/fiCYM2cOISEhAOTl5TFkyBDGjh3L8OHD9WMppfR9lVJs27aNli1bAtCoUSN2794NQFRUFDk5OTg4ONCvXz9OnDhBVlYWBQUF7N%2B/v0SXTVG9Vef7AcDVq1cByM3N5f3339db1FJTU8nLywO0Lr0BAQFYW1vTqFEjfv31V7KyslBKsXv37mL/X0LctcxMOHAA5s6FESOgcWOt%2B1/fvjB1KixcCN99BzExWvmmTaF/f3j9dfjyS0hIgAsX4Isv4NVXoUsXCb5EqaQFzBhJACbukb29PV26dKFVq1Y8%2BeSTDBgwoNj2J554gk8%2B%2BQRPT09atGhRagtJecoa8%2BHt7c2IESPw8vLCzMyMxYsX692J%2Bvfvz/Lly3FycuL9998nKCiI//3f/8XPz4/x48cDcPjwYYYMGcL169f5%2Buuveeeddzh58iQA3bp14/Tp02RkZODi4sKKFSvo169fmcdasGAB27Ztw8zMDDs7O1avXg1Afn4%2B3bp1A7Rv2NetW6ePIQOtZermwP87Ke9Yy5YtY9iwYZiYmGBra8vKlSuLnSMoKKjEXERlXWNZ9u3bx5tvvonBYCAgIEBvUdu0aRM//PADKSkp%2BnWvXr0aHx8fgoODuXHjBkop2rRpw5IlSwD48MMPmThxIvPnz8dgMLB69WoMBgO2tra88sortG/fHoPBQP/%2B/Uu8nkT1Vt3vBx988AHbt2%2BnqKiIyZMn6%2BMio6KiCA4OxmAw4O3tzYoVKwDo2LEjw4cPp23btpiZmeHn56cnDVmwYAH/%2Bc9/uHz5Mj4%2BPvp5xCMuPx9iYyE6WnucPKl1H4yMLDn3lZUV%2BPlBy5bQvPmth7u7lhhDiPtgUKqa9H8Qd8XfYCDi3/%2BGGTOquiriHkRFRck3suKRUtpr3t/fn4iIiCqqUdUo7ZrlflA9yd/lIaAUpKdDSgpcu3brOSkJzp69FXDFxJQ%2BybCpqTY%2Bq0MH7dGxoxZ43WFs7sPsUbxvVwZpATNG0gImhBBCiEeBUpCcDJcuweXLpT%2BuXNHKXLsGBQV3PqbBAI0aQbNmt1q02rfXWrosLSv%2BmsQjTwIwYyQBmBBCCCEeBllZWutUbCzEx2vjqBISiv%2Bcm3v3x7Oy0ubBsre/9WxvD25uWsDVrJk2duu2cb1CVDYJwIyRBGBCCCGEMBbZ2Vq3v5tdAG9/JCTceX8bG2jYUHv8dSLiBg20CYodHbVJiG/LzilEdSUBmDGSNPRCCCGEqC5uzokVE6OlZ4%2BNvfUcGwt/ZrYslZmZltCiaVMthbuLy63nmw8rq0q6ECEqhwRgxkhawIQQQghR2TIy4PRpiIqCU6duPZ8/X3pSi5vMzW%2BNufrro3FjLQgT4hEir3hjJAGYEEIIISpKXp4WaJ04oaVmv/kcF1d6eRMTrQXL3R2aNNEejRvf%2BrlBg0c6k6AQfyUTMRsjCcBEJbD6s8vHxYsXi03ee7sePXrcMT1tbm4uI0eOxMPDg44dOxIbG1tqufDwcFq0aIGHhwfvvfeevn737t20bdsWX19funbtqk8cfKfjXrhwASsrK%2BbOnQtATk4OHTp0oE2bNnh7e/POO%2B/c8Rzz5s3Dy8sLHx8fevfuTdxtHz5MTU3x9fXF19eXwMBAfb1SipkzZ9K8eXM8PT1ZsGABAJ9//jk%2BPj60bt2axx57jGPHjun7pKamMnz4cFq2bImnpye//PILAG%2B99RY%2BPj74%2BvrSt29fLl68CMAHH3ygn7tVq1aYmppy7dq1cq9x1KhRtGjRglatWhESEkJ%2Bfj4A169fZ8iQIfj4%2BNChQwciIyP1fUJCQnB0dKRVq1bl/YnFI6Cy7wcfffQRrVq1wtvbm//%2B97/6%2BpEjR%2Bqv/SZNmuDr6wto/1831/v6%2BmJiYsLvv/9Oenp6sfX16tVj2rRp9/EbeIjduAF79sB770FQEHh7Q%2B3a0KYNjB6trf/mGy34MjeHVq3g6afh7bchNBSOHdMmMD57Fr7/HpYu1abKGTVKm4jY2VmCLyH%2BSgmj0g6UsrKq6mqIe3Tq1KmqrsI9q1279h3LdO/eXR0%2BfLjcMosXL1bPP/%2B8UkqpDRs2qBEjRpQoU1BQoNzd3dW5c%2BdUbm6u8vHxUSdPnlRKKdWsWTP997d48WIVHBx8V8cdNmyYGj58uPrggw%2BUUkoVFRWp9PR0pZRSeXl5qkOHDuqXX34p9xx79uxRmZmZSimlPv7442LnKOv3s3LlSjVmzBhVWFiolFLqypUrSimlfvrpJ3Xt2jWllFI7duxQHTp00PcZO3asWrZsmVJKqdzcXHX9%2BnWllFJpaWl6mY8%2B%2Bki/3ttt27ZN9ezZ847X%2BM0336iioiJVVFSkgoKC1Mcff6yUUuq1115Ts2bNUkopFRUVpXr16qUfe//%2B/eq3335T3t7epV5reUp7zbdr1%2B6ej2PsSrtmuR%2BUfz84ceKE8vb2VpmZmSo/P1/17t1bRUdHlyj3yiuvqNmzZ5dYf/z4ceXu7l7q%2Bdu2bav2799f6jZj/Lvcs7w8pX77TaklS5R67jmlvLyUMhiU0pK933oYDEo1a6bUkCFKvf22Ul98oVRUlFL5%2BVV9BaKSPYr37cogLWDGKCN935GmAAAgAElEQVTj7ua5EOJP06dPZ/HixfryrFmzmDt3LhkZGfTu3Zu2bdvSunVrtm7dWmLf2NhYvQUkOzuboKAgPD09GTJkCNnZ2Xc899atWwkODgZg%2BPDh7N69G/WX%2Bd8PHTqEh4cH7u7u1KhRg6CgIL0uBoOBGzduAJCWloaTk9Mdj/vVV1/h5uaGt7e3fg6DwaB/i5%2Bfn09%2Bfj4Gg6Hcc/Ts2RPLP%2BeE6dSpEwl3ka1ryZIlvP3225iYaLdXR0dHAB577DFsbW1LHCstLY0ffviB8ePHA1CjRg1sbGwAsLa21o%2BbmZmp1/d2GzZs4JlnnrnjNfbv3x%2BDwYDBYKBDhw76%2BU%2BdOkWvXr0AaNmyJbGxsVy5cgWAgIAA7Ozs7njNwrhU9/tBVFQUHTt2xNLSEjMzM7p3705YWFixMkopNm3apL/2b7dhwwaCgoJKrD9z5gxXr16lW7dud6znQyMrC3bv1lqrAgLA2hratYPJk2H1am38lpmZNgfW1KmwciUcPqx9zjhzBsLCYPZsGD5cm5BYxmoJ8UDIf1IFCQkJYfv27Tg6Ohbr0nOTUoqXXnqJHTt2YGlpyerVq2nbtu2dD2xqqg10vXFDm99CGB3D7JIfoh8E9Y4qc9vIkSOZNm0aU6ZMAWDTpk189913WFhYsGXLFqytrUlOTqZTp04EBgaW%2BkEftODC0tKSqKgojh8/Xuw1O2HCBF544QX8/f2L7ZOYmIirqysAZmZm1K1bl5SUFOrVq1dqGQAXFxcOHjwIwPLly%2Bnfvz%2B1atXC2tqaX3/9tdzjWlhY8P7777Nz5069%2B%2BFNhYWFtGvXjrNnzzJlyhQ6duxY7jlut2LFCp588kl9OScnB39/f8zMzJg%2BfTqDBw8G4Ny5c2zcuJEtW7bg4ODAggULaNasWZnHiomJwcHBgXHjxnHs2DHatWvHRx99RO3atQGYOXMmn332GXXr1mXv3r3FjpOVlUV4eDiLFi264zXelJ%2Bfz9q1a/noo48AaNOmDWFhYXTr1o1Dhw4RFxdHQkIC9evXL/E7EA%2Be3A9K3g9atWrFzJkzSUlJoVatWuzYsaPEcQ4cOED9%2BvVL/G8BbNy4sdTgMTQ0lJEjR5Z5PQ%2BFjAz4%2BWfYtw/279eCqT%2B7G%2BuaNYOOHaFDB%2B3h6yup24WoZNICVkGee%2B45wsPDy9z%2B7bffEh0dTXR0NEuXLmXy5Ml3d%2BCb/ahlHJi4B35%2Bfly9epWLFy9y7NgxbG1tcXV1RSnFjBkz8PHx4fHHHycxMVFv/SjNDz/8wOjRowHw8fHBx8dH37Z8%2BfISH5IehPnz57Njxw4SEhIYN24cr7zySrnlZ82axcsvv6y3BN3O1NSU33//nYSEBA4dOqR/OXKnc6xbt46IiAhef/11fV1cXBwRERGsX7%2BeadOmce7cOUAb42JhYUFERAQTJ04kJCSk2LH27t3LihUreP/99wEoKCjgyJEjTJ48maNHj1K7du1iY%2BD%2B/e9/Ex8fz6hRo4oFWgBff/01Xbp0KdZKVdY13vTiiy8SEBCgtwJMnz6d1NRUfH19WbhwIX5%2BfpjKeI2HWnW/H3h6evI///M/9O3blyeeeAJfX98Sr8nbW35vd/DgQSwtLUsdtxgaGlrqPkYtPx9%2B%2BglmzdLGW9naQr9%2BMGeOFogVFkLbtvDyy7B1KyQnay1ba9fCP/6hBWISfAlR6aQFrIIEBASUObgYtG4YY8eOxWAw0KlTJ1JTU7l06RINGzYs/8ASgBm98r6ZrkhPP/00mzdv5vLly4wcORLQBq4nJSXx22%2B/YW5uTpMmTcjJyXmg53V2diY%2BPh4XFxcKCgpIS0vD3t6%2B1DI3JSQk4OzsTFJSEseOHdNbcUaOHMkTTzxR7nEPHjzI5s2beeONN0hNTcXExAQLCwumTp2qH9/GxoaePXsSHh5O/fr1yzwHwK5du/j3v//N/v37qXnbBxVnZ2cA3N3d6dGjB0ePHqVp06a4uLgwdOhQAIYMGcK4ceP0fY4fP86ECRP49ttv9d%2BBi4sLLi4u%2BvmHDx9eLAC7adSoUfTv35/Zs2fr68r7QHn7Nd78MDp79mySkpL49NNP9XLW1tasWrUK0Frm3dzccHd3L/WY4sGT%2B0HJ%2BwHA%2BPHj9W65M2bMwMXFRd9WUFBAWFgYv/32W4n9yvqfOHbsGAUFBbRr1%2B4BXk0VUErLTrhzJ%2BzapbV0paff2m5qqnUn7N4devSArl2hbt2qqq0QogzSAlZFSutylZiYeOcdJQAT92nkyJGEhoayefNmnn76aUAbf%2BTo6Ii5uTl79%2B4tluWvNAEBAaxfvx6AyMhIjh8/fsfzBgYGsmbNGgA2b95Mr169SnQBat%2B%2BPdHR0cTExJCXl0doaCiBgYHY2tqSlpbGmTNnANi5cyeenp7lHvfAgQPExsYSGxvLtGnTmDFjBlOnTiUpKYnUPycxz87OZufOnbRs2bLccxw9epTnn3%2Bebdu26WO5QMscmJubC0BycjI//fQTXl5eAAwePFjvKrh//36aN28OaFkZhw4dytq1a/V1AA0aNMDV1ZU//vgD0DIy3jxWdHS0Xm7r1q20bNlSX05LS2P//v0MGjRIX1fWNYLWIvHdd9%2BxYcMGfXwaaBkY8/Ly9DIBAQHFxp6Jh1N1vh8AXP1z4t4LFy4QFhbGs88%2Bq2/btWsXLVu2LBaUARQVFbFp06ZSx3%2BV1WJmFPLytOyCkydrc2l5ecFLL8HXX2vBV4sW2vitrVshJQUOHYIPPoABAyT4EqKakhYwI7B06VKWLl0KQN7NiQ4lABP3yNvbm/T0dJydnfWW1lGjRvHUU0/RunVr/P39i33AL83kyZMZN24cnp6eeHp6Fvs2uawxH%2BPHj2fMmDF4eHhgZ2dHaGgooKWznjBhAjt27MDMzIxFixbRr18/CgsLCQkJ0RNoLFu2jGHDhmFiYoKtrS0rV64s97hluXTpEsHBwRQWFlJUVMSIESMYOHBgued4/fXXycjI0D%2BgNmrUiG3bthEVFcXzzz%2BPiYkJRUVFTJ8%2BXQ%2Bapk%2BfzqhRo5g/fz5WVlYsX74cgH/961%2BkpKTw4osvAtr4l5spuxcuXMioUaPIy8vD3d1db5GaPn06f/zxByYmJjRu3JhPPvlEv54tW7bQt29ffazYna7xhRdeoHHjxnTu3BmAoUOH8vbbbxMVFUVwcDAGgwFvb29WrFihH%2B%2BZZ55h3759JCcn4%2BLiwuzZs/VWCWHcqvP9AGDYsGGkpKRgbm7O4sWL9cQ0UHYr1w8//ICrq2upLbibNm3Sj20UMjIgPBy%2B%2Bgq2by/%2Bnu/gAI8/Dn36aM%2B3fZkrhDAOBvXX9EPigYmNjWXgwIGlJuF4/vnn6dGjh/4m0qJFC/bt23fHLoj%2B9vZEXLsGn30GY8ZUSL3FgxcVFaW3qgjxKCjtNe/v73/HeaIeNqVds9wPqqcq/7skJ2utWlu2aF0Mb%2B/%2B6e0NQ4bA4MHg56dNfCxEJXgU79uVQVrAqkhgYCCLFi0iKCiIgwcPUrdu3TuP/wLpgiiEEEI8LOLitFauLVvgwAEoKrq1rXPnW0FXKdkehRDGSwKwClJa1538P1PBvvDCC/Tv358dO3bg4eGBpaWl3uXojm4GYH%2BO8xBCCCGEkVAKIiNvBV1Hj97aZm6udSscPBgGDYK7%2BVJWCGGUJACrIBs2bCh3u8FgKDYR5l2TFjAhhBDCeBQWainhv/pKS5Tx55QVANSuDf37ay1d/ftL0gwhHhHSidjYSABmtGS4pXhUVPfXenh4OC1atMDDw6PUlP9xcXH07t0bHx8fevToQUJCgr7tjTfewNvbG09PT/75z3/e97VW99/Ro%2BaB/z2ys2HbNggJgQYNICAA5s3Tgi8HBxg/XhvvlZwMmzbBM89I8CXEI0RawIyNBGBGycLCgpSUFOzt7UtNuSzEw0IpRUpKChYWFlVdlVIVFhYyZcoUdu7ciYuLC%2B3btycwMFDPYgnw2muvMXbsWIKDg9mzZw9vvvkma9eu5eeff%2Bann37S06137dqV/fv306NHj3uqg9wPqpcH9prNyNBaub78Uksbn5V1a1vTpre6Fj722K33ciHEI0kCMGMjAZhRcnFxISEhgaSkpKquihAVzsLCosQcTdXFoUOH8PDw0FOVBwUFsXXr1mIB2KlTp5g3bx4APXv2ZPDgwYDWdTwnJ4e8vDyUUuTn51O/fv17roPcD6qf%2B37NFhRoGQvXrdOCr9uDrvbttYBr8GBt7i4JtoUQf5IAzNhIAGaUzM3NcXNzq%2BpqCPHIS0xMxPW2eZNcXFw4ePBgsTJt2rQhLCyMl156iS1btpCenk5KSgqdO3emZ8%2BeNGzYEKUUU6dOva%2B05XI/MHJKweHDWtAVGgq3B9JdumjdCQcPBmfnqqujEKJakwDM2EgWRCGEqFBz585l6tSprF69moCAAJydnTE1NeXs2bNERUXpY8L69OnDgQMH6NatW7H9ly5dytKlSwGklethEh8Pa9Zoj7Nnb61v2RJGj4ZnnwUJrIUQd0ECMGMjLWBCCHHfnJ2diY%2BP15cTEhJw/ktLhZOTE2FhYQBkZGTw5ZdfYmNjw7Jly%2BjUqRNWVlYAPPnkk/zyyy8lArBJkyYxadIkQJvEVBix3Fwtc%2BHKldq4rpvJOho00Fq6Ro2Ctm2le6GoEoVFhaTnpZNXmEdeYR75hfnac1G%2BvmxhZoFjbUfqWdbD3NS8qqss/iQBmLEx%2B/NPJgGYEELcs/bt2xMdHU1MTAzOzs6Ehoayfv36YmWSk5Oxs7PDxMSEOXPmEBISAkCjRo1YtmwZb775Jkop9u/fz7Rp06riMkRF%2B/13Lej6/HO4dk1bV6OGli5%2B3Dh4/HFJpCH%2BlrzCPC6lX%2BJyxmUKVWGZ5XILcrmYfpHE9EQSbySSmJ5Iwo0EEtMTuZR%2Bqdx9/8rWwhbH2o76w8HSAYUiMz%2BTzLzMEs9Z%2BVk0oMGDuFzxFxKAGRsTE%2B2RlQX5%2BdrEjUIIIe6KmZkZixYtol%2B/fhQWFhISEoK3tzdvv/02/v7%2BBAYGsm/fPt58800MBgMBAQH6nI3Dhw9nz549tG7dGoPBwBNPPMFTTz1VxVckHpicHC3gWry4%2BATJfn5aOvlnnwU7u6qrn6iW8gvzuZZ9rcwgJjM/k8sZl/Xg6WYgdTXzKoq/P/1B3Zp1qWFaA3NTc%2B3ZxFxfNjcxJ6cgh6uZV0nKSuJ6znWu51znj5Q/7vr4EoBVDIOSyUiMir%2B/PxHnz8P169r8Ifb2VV0lIYS4K/7%2B/kRERFR1NSrVo3jNRufKFViyBD7%2B%2BFZCDVtbbVzXuHFaACbEn9Jy0vg14Vd%2BvPAjP8b/yMGEg2QXZN/zcUwMJjSwakBDq4bUMK1RZjkzEzMa1mmIcx1nnOs442LtgrO19rNTHSdqmtW8q/MVqSKuZV/TgrHMJK5mXuVq5lUMBgO1zWtTu0btUp%2BH9B4i97AKIC1gxqhuXS0AS0uTAEwIIYS4H5GRMH%2B%2Bls0wL09b5%2BcHL78MTz8N1XQuO1FxlFJkF2SXaME6f/28FnBd%2BJHjV46XaLmqZ1mv3CDGsbajFkBZ/xlA1XGmvlV9zEwq72O4icGEepb1qGdZDxwq7bSiDBKAGaO6dbVnGQcmhBBC3D2l4LvvYN48bf4u0BJoBAbCK69AQIAk1DByaTlpnEw6SeTVSE5ePUlkUiTRKdHkF%2BWXuU9hUSGZ%2BdqYpzsxNzHH38mfLq5d6NqoK4%2B5PoZDbYloxL2RAMwY3QzAJBW9EEIIcXd%2B%2BAGmT4dfftGWLS21sV3//Cc0a1a1dXtIFRQVkJKVwtXMq1zLvnYrW19RfrGMffmF%2BeUmk1BKUagKS83yl1%2BUT05BDueunyPyaiQJNxL%2BVp0tzCyKtV5ZmltS36q%2BHnC1d2pPLfNaf%2BscQkgAZoykBUwIIYS4O8eOwZtvwrffassODvDqqzBpkjbWS9yzjLwMLRPfjVtJJS6mX%2BRK5hV9bNHNoOtBJJq4FxZmFng5eOHt4E0rx1Z4O3jTsl5LLM0ty9zHxGCCpbklluaWmJpIdktR8SQAM0YSgAkhhBDlO3cO3n4bbk4zYGUFr7%2BujfGqU6dq6/Y35RXmcSHtAjHXY4hJjSE2NZaY1BiSMpO0FpybY5D%2BMh6ppmlNDGV0sVRKkVeYV2oWv6z8LDLyMrRsfumJ3Mi9cVf1NGCgnmU9HGs7YlfLjpqmNYtl6NOz95nUuGPgY2owLTPbXw3TGjSq2whvB2/cbd0liBLVngRgxsjGRnuWAEwIIYQo7vJlePdd%2BPRTKCjQ5u968UWYMUNr/TIiSZlJ2limP8c0RSVHcf76eRJvJFZ6y9LtLMwsSmTku5lY4vZ5puxq2VVqogkhjIX8VxgjaQETQgghilMKVqzQkmmkp2tzZj73HMyaBY0bV3XtypVTkMOJKyf4/fLvnLh6Qg%2B6rmZeLbW8icEEV2tX3GzcaGLTBDcbN9xs3Whg1YCcgpwyJ9XNLcwttx41TGvorWWW5pYlWtBuZvOzq2VXZkuaEOLOJAAzRhKACSGEELckJMCECVqGQ4ABA%2BD998Hbu2rrVYrUnFR%2Bv/w7Ry8d5ehl7RGVFFVqEgqrGlb6WKZWjq3wcvDCw84DV2tXzE3Nq6D2QogHQQIwYyRZEIUQQgit1WvNGpg2TftS0tYWFi%2BGoKAqTyefU5DD6eTTxdKhR16NJDY1tkRZE4MJXg5e%2BDXww6e%2Bj548olHdRtLSJMRDSAIwYyQtYEIIIR51Fy9qmQy/%2BUZbfuopbdxXw4aVVoXcglwtGcbNRBjXYzhz7QyRVyM5e%2B0sRaqoxD4WZha0dmyNXwM//Br64dfAj9b1W5ebpU8I8XCRAMwYSQAmhBDiUaUUfP45/OMfWk%2BQunVh4UIYPbpCWr3Sc9OJvhbNmZQznEk5Q/S1aD3Yuph%2BscxkGKYGU1rWa6m3Zt3sRuhh5yGJKYR4xMkdwBhJACaEEOJRdPUqPP88fPWVtvzkk7BsGTg7/%2B1DK6U4lXSK7899z%2Bnk05y5pgVcF9MvlrmPicGERtaNcLN10xJh2LjR1K4prRxb0cK%2BBTXNav7tegkhHj4SgBkjSUMvhBDiUbNlixZ8JSVp83j9978wbtzfavUqUkVEXIwgLCqMsKgwoq9FlyhTw7QGzeya0dy%2BOc3tm%2BNh54G7rTtuNm64WLtIMgwhxD2TAMwYSQuYEEKIR0VaGvzzn/DZZ9pyr16wahU0anRfhysoKuBA3AHCosLYcnoLiemJ%2Bjb7WvY81eIp2jZoqwdcjeo2kol9hRAPlARgxkgCMCGEEI%2BC3bu1Vq74eLCw0FLLT52qzfF1j05cOcHKoytZd2IdyVnJ%2BnrnOs4M9RzKUM%2BhdG3UVcZnCSEqnNxljJGlJZiaQnY25OVBjRpVXSMhhBDiwcnKgjffhAULtOX27bUWsJYt7%2BkwqTmpbDixgZW/ryTiYoS%2BvpldMz3o8nfyx8Rw7wGdEELcLwnAjJHBoLWCXbumtYI5OFR1jYQQQogHIyICRo2CM2fAzAzeeQemT9d%2BvgtFqoh9sftYcXQFYVFh5BTkAFC3Zl2ebf0sIX4htGvYTubXEkJUGQnAKlB4eDgvvfQShYWFTJgwgenTpxfbfuHCBYKDg0lNTaWwsJD33nuP/v37393BJQATQgjxMFEKlizRJlXOzwdvb63Vq23bu9r9j%2BQ/WHt8LZ%2Bf%2BLzYZMe93XoT4hfCkJZDqGVeq4IqL4QQd08CsApSWFjIlClT2LlzJy4uLrRv357AwEC8vLz0Mu%2B%2B%2By4jRoxg8uTJnDp1iv79%2BxMbG3t3J5BMiEIIIR4WGRnapMobNmjLU6fCBx9o477KcTXzKqGRoaw9vrZYF8NGdRsxznccwW2CcbN1q8iaCyHEPZMArIIcOnQIDw8P3N3dAQgKCmLr1q3FAjCDwcCNGzcASEtLw8nJ6e5PIIk4hBBCPAxOnYLhwyEqCqysYPlyGDmyzOJZ%2BVls%2B2Mba4%2Bv5buz31GoCgGoU6MOT3s9zWif0XRv0l3GdQkhqi0JwCpIYmIirq6u%2BrKLiwsHDx4sVmbWrFn07duXhQsXkpmZya5du%2B7%2BBBKACSGEMHbr18PEiVrSDW9v2Ly51EQbqTmpfHPmG8JOhxF%2BNpys/CwAzEzMGNhsIKNbjyawRaB0MRRCGAUJwKrQhg0beO6553j11Vf55ZdfGDNmDJGRkZj8Jb3u0qVLWbp0KQBJSUnaypsBWGpqZVZZCCGE%2BPtyc%2BGVV%2BDjj7XlUaPg00%2Bhdm29yJWMK2z9YytbTm9h9/nd5Bfl69s6OndktM9oRnqPxKG2jIMWQhgXCcAqiLOzM/Hx8fpyQkICzs7OxcqsWLGC8PBwADp37kxOTg7Jyck4OjoWKzdp0iQmTZoEgL%2B/v7ZSWsCEEEIYo7g4rcthRIQ2jcqCBdr4L4OB5KxkNkZuZOPJjfx44UcUCgATgwk9mvRgaMuhDG45GNe6rnc4iRBCVF8SgFWQ9u3bEx0dTUxMDM7OzoSGhrJ%2B/fpiZRo1asTu3bt57rnniIqKIicnB4e7zWgoAZgQQghjs2cPjBgBKSnQpAls3ky2jxdfn/qCdcfX8e3ZbykoKgCghmkN%2Brj3YUjLIQS2CJSWLiHEQ0MCsApiZmbGokWL6NevH4WFhYSEhODt7c3bb7%2BNv78/gYGBfPjhh0ycOJH58%2BdjMBhYvXr13c9LIgGYEELclztNERIXF0dISAhJSUnY2dmxbt06XFxcAG36kAkTJhAfH4/BYGDHjh00adKkCq7CyCgFH30Er70GhYUU9evLD/%2BZwrrYJXyx8wtu5GoJqUwNpjzp8SSjfUYzsPlArGtaV3HFhRDiwZMArAL179%2B/xLxe//rXv/Sfvby8%2BOmnn%2B7v4JKGXggh7tndTBHy2muvMXbsWIKDg9mzZw9vvvkma9euBWDs2LHMnDmTPn36kJGRUWLMrihFdrbWxXDdOnJNYenMPsy1P82FLYP0Iu0atmOMzxiCWgVR36p%2BFVZWCCEqngRgxkpawIQQ4p7dzRQhp06dYt68eQD07NmTwYMH6%2BsLCgro06cPAFZWVpVceyMUFwdDhlD4%2B1HW%2B9fg7SF1ic3fCTe0ubpGtR7FGJ8xeDp4VnVNhRCi0shXd8ZKAjAhhLhnpU0RkpiYWKxMmzZtCAsLA2DLli2kp6eTkpLCmTNnsLGxYejQofj5%2BfH6669TWFhYqfU3Knv3ovzbsT3zKH7/rMHYgXnE5ifhWc%2BTsBFhxLwUw//r/f8k%2BBJCPHIkADNWkoZeCCEqxNy5c9m/fz9%2Bfn7s378fZ2dnTE1NKSgo4MCBA8ydO5fDhw9z/vx5Vq9eXWL/pUuX4u/vj7%2B//62pQx4lf473%2BjHkcboFpvDUs3DCNg9Xa1dWDVrFicknGOI5RCZKFkI8sqQLorGSFjAhhLhndzNFiJOTk94ClpGRwZdffomNjQ0uLi74%2Bvrq3RcHDx7Mr7/%2Byvjx44vtX%2BrUIY%2BKwkKOvzKKmUkb2f6ctsq%2Blj3/G/C/vOD/AhZmFlVaPSGEqA7k6ydjJQGYEELcs9unCMnLyyM0NJTAwMBiZZKTkykqKgJgzpw5hISE6PumpqbqrVp79uwpNnbsURdz5TRjXnPH13Yj21tAbUNN3g54m/MvnWdap2kSfAkhxJ8kADNWEoAJIcQ9u32KEE9PT0aMGKFPEbJt2zYA9u3bR4sWLWjevDlXrlxh5syZAJiamjJ37lx69%2B5N69atUUoxceLEqrycauFKxhX%2BufUFWnzsxTqbC5gVwT%2Bch3D%2B1QvM7jlbUskLIcRfGJRSqqorIe6ev78/ERERWh/7mjUhPx9ycrSfhRCiGtPvX4%2BQh/mab%2BTeYO7Pc5n384dkFmRhUDD6jAX/mvolTR7rf%2BcDCCGqvYf5HlaVZAyYsTIYtFaw5GStFczRsaprJIQQ4hGglGLRoUXM3j%2BblOwUAJ76A/4d7UrrjfvgzzFyQgghSicBmDG7GYClpkoAJoQQosIVFBXwwvYXWHF0BQBdLpnz3rf5dHVoBzt2yHuREELcBQnAjJmMAxNCCFFJcgpyeObLZ/jq9FfUMqnJ6q0Gnv4tB8Pjj0NYGNSpU9VVFEIIoyABmDGTAEwIIUQlSMtJY1DoIPbH7cfG1Irtq3Locr4AgoJgzRqoUaOqqyiEEEZDsiAaMwnAhBBCVLArGVfosaYH%2B%2BP207CGPT8sK9CCrxdegM8/l%2BBLCCHukbSAGTMbG%2B1ZAjAhhBAV4Pz18/Rd25dz18/RrHYjvl9wnSbxORAcDIsXg4l8jyuEEPdK7pzGTFrAhBBCVJDjV47TZWUXzl0/R1tbL35cmEmT%2BHQYNgyWL5fgSwgh7pPcPY2ZBGBCCCEqwI8XfiRgVQCXMy7Ts0Fn9v43FccLKdCvn9bt0Ew60AghxP2SAMyY3QzAUlOrth5CCCEeGj9e%2BJF%2B6/qRlpvGMLcB7PjwMtYxF6FrVy3bYc2aVV1FIYQwahKAGTNpARNCCPEAHU48TP/P%2B5OVn0VwyyA2fhCLRXQMtG0L27eDpWVVV1EIIYyeBGDGTAIwIYQQD8jxK8fpt64f6XnpjGwxlBXzzmEaeRI8PSE8/NZ7jhBCiL9FAjBjJgGYEEKIB%2BB08mn6rO3D9ZzrBHoMZO2yFEwPHQY3N9i5ExwcqrqKQgjx0JAAzJhJGnohhBB/0/nr5%2Bn9WW%2BuZl6lr3tfNn5vjfme/dCgAezaBc7OVV1FIYR4qEgAZsykBUwIIcTfEJ8WT%2B/PenMx/SIBjQPYcs4fi8/WQ%2B3a8M034O5e1VUUQoiHjuSRNWaSBVEIIcR9upxxmd6f9SY2NZYOzh3YzrNYzn5Bm98rNFRLvCGEEOKBkwDMmN3eAqYUGAxVWx8hhBBGISUrhT5r%2BxB9LRrfBr6EN/5f6gwYpm386CMYOLBqKyiEEA8xCcCMmYUF1KgBeXmQkwO1alV1jYQQQlRzBUUFDN44mMirkXjW8%2BT7DjwiYIQAACAASURBVIuw7TUQ8vNh2jSYOrWqqyiEEA81GQNm7GQcmBBCiHvw9t63%2BfHCjzjVcWJX/1Acho3RurIPGgRz51Z19YQQ4qEnAZixkwBMCCHEXfru7HfM%2BXEOJgYTNgxcjdMzkyAmBvz94fPPwdS0qqsohBAPPQnAjJ2kohdCCHEXLqZfZMyWMQD8q/tsAt78BA4ehMaN4euvtcyHQgghKpwEYBUoPDycFi1a4OHhwXvvvVdqmU2bNuHl5YW3tzfPPvvsvZ9EWsCEEELcQWFRIaPCRpGUlcTj7o8z/ZtUCAvT3kO%2B%2BUab80sIIUSlkCQcFaSwsJApU6awc%2BdOXFxcaN%2B%2BPYGBgXh5eelloqOjmTNnDj/99BO2trZcvXr13k8kqeiFEELcwb/2/4t9sftoYNWAdflPYfrBS2BmBps3g7d3VVdPCCEeKdICVkEOHTqEh4cH7u7u1KhRg6CgILZu3VqszLJly5gyZQq2trYAODo63vuJpAVMCCFEOXaf383//fB/GDDweYsZ1J/8urZh4UJ4/PGqrZwQQjyCJACrIImJibi6uurLLi4uJCYmFitz5swZzpw5Q5cuXejUqRPh4eH3fiIJwIQQQpThcsZlRoWNQqF42/f/t3fn8VFV9//HX5NMNiCQhYSECQghbAkkASeA9Ss1IKJYo1aluLCIFH8WW9xbq6JQKdi6tVLaUn1UbBVUZPt%2BBURUcENiZDeCIYaQBIwBAlnInvv745JJAgEiktxJ5v18PM7j3jn3ZuYzVznJ555zz5nJqGlzzaVLfvUr%2BH//z%2BrwREQ8khIwC1VXV5ORkcHGjRtZsmQJv/zlLznWxFDCRYsW4XQ6cTqdFBQUND6oBExE5Ac51/O52dnZjB49mvj4eC6//HJyc3MbHS8qKiIqKop73Hy9rJraGm5ffjv5pfkk9xzJ43M2QX4%2BJCfDCy9YHZ6IiMdSAtZCHA4HOTk5rte5ubk4HI5G50RFRZGSkoKPjw%2B9e/emX79%2BZGRknPZe06dPJy0tjbS0NMLCwhofVAImItJsdc/nrl27lvT0dJYsWUJ6enqjcx588EEmTZrEzp07mTVrFo888kij448//jgjR45szbDPy7xP5vF%2B1vuEdwzntQ1d8N66Dfr0gbfeAh8fq8MTEfFYSsBaSFJSEhkZGWRlZVFZWcnSpUtJSUlpdM7111/Pxo0bATh8%2BDDffPMN0dHRP%2ByDNA29iEizNef53PT0dEaNGgVAcnJyo%2BNffvkl%2Bfn5XHnlla0a9w/1YdaHPLHxCWzY%2BO%2BJq4h8/X8hMBBWr4bQUKvDExHxaErAWojdbmfBggWMHTuWgQMHMn78eOLi4pg1axarV68GYOzYsYSGhhIbG0tycjJ//vOfCf2hvxg1C6KISLM15/nchIQEli9fDsCKFSsoLi7myJEj1NbW8sADD/DMM8%2B0asw/1J7De7jxzRupNWr5fdjPGfPEq2CzwZIl0GAmXhERsYamoW9B48aNY9y4cY3q5syZ49q32Ww899xzPPfcc%2Bf/IRqCKCJyQT3zzDPcc889vPLKK4wcORKHw4G3tzcLFy5k3LhxREVFnfXnFy1axKJFiwBOf263heWX5HP1a1dTWF7I9ZHJzL5/jXlg/ny45ppWjUVERJqmBKytUwImItJszXk%2Bt3v37q4esJKSEt5%2B%2B22CgoLYvHkzH3/8MQsXLqSkpITKyko6dep02kQe06dPZ/r06QA4nc4W/kb1TlSd4Nol17L/2H6GhQ/htfkZeJeWwcSJ8NBDrRaHiIicnRKwtk4JmIhIszV8PtfhcLB06VJef/31RuccPnyYkJAQvLy8mDdvHlOnTgXgtddec53zyiuvkJaW1uQsilaoqa3h1rdv5YuDX9A7qDerP%2BhGh6xtMHw4LFpkDkEUERG3oGfA2jolYCIizdac53M3btxI//796devH/n5%2BTz66KMWR31u9797P6v2riLYP5g1XWfSbdk6c9KNZcvA39/q8EREpAGbYRiG1UFI8zmdTtLS0uorKirMX652u7m4pu5yioibOq398gCt8Z3/8vlfuPfde/H19uW965cz8oo7zfW%2B/v53LbYsIj%2BKJ7bbrUE9YG2dn5%2BZgFVXQ1mZ1dGIiEgrWvH1Cu579z4A/n3dvxn5wgoz%2BbrsMjj5HJqIiLgXJWDtgaaiFxHxOFtyt3Dr8lsxMJg7ai63FkTAyy%2BDry/861/gpV/xIiLuSJNwtAdduph3PI8fh%2B7drY5GRERaWM7xHK5dci3l1eVMGzKNR4bOhIQE8%2BCsWdC/v7UBiojIGSkBaw80EYeIiEd57MPHKDhRwBXRV7DwmoXYfv8YZGbC4MGacl5ExM1pfEJ7oARMRMRjfPX9V/xnx3%2Bwe9n558/%2Bic%2BOXfDss%2BaQw5deMocgioiI21IPWHugBExExGM89uFjGBhMHzqd6MCeMO0mqKmB%2B%2B6DYcOsDk9ERM5BPWDtQVCQuVUCJiLSrm3J3cLKPSsJsAfw2MjH4LnnYNs26NUL/vAHq8MTEZFmUALWHmgWRBERj/D7D34PwMzhM4nML4UnnjAP/OMf0LGjhZGJiEhzaQhie6AhiCIi7d6GbzfwQdYHBPkH8fBPHoKf3QTl5TBxIowda3V4IiLSTOoBaw%2BUgImItGuGYfD7983er99e%2BluCV66DDz%2BErl3NYYgiItJmqAesPVACJiLSrq3Ys4IvDn5BRKcIfjP0bphysXlg/nwzCRMRkTZDPWDtgRIwEZF2q6a2hsc%2BeAyAx0c%2BTofX3zLX/OrXDyZPtjg6ERH5odQD1h4oARMRabf%2Bs/M/fH34a3oH9WZa3ES4Mc48MHs22PVrXESkrVEPWHugaehFRNqliuoKnthoznQ4J3kOvi/9G3JyYPBgGD/e4uhEROR86NZZe6Bp6EVE2qV/pP2DA8cPMCh8ELf0ToEr%2B5kH/vAH8NI9VBGRtkitd3ugIYgiIu1OcUUxcz%2BeC8DcUXPxXvh3yM%2BHpCRISbE4OhEROV/qAWsP6hKwoiIwDLDZrI1HRER%2BtBc%2Bf4GCEwVcEnUJ13YbCU9PMQ889ZTaeRGRNkw9YO2Bjw8EBEBNDZSWWh2NiIj8SIVlhTyz%2BRkA/jj6j9iefx4KC2HkSBgzxuLoRETkx1AC1l5oGKKISLux6MtFFFUUMbr3aC7vNAief948oN4vEZE2TwlYG5NblNv0Ac2EKCLSLlTVVPFi6osAPPiTB%2BFPf4LiYhg7Fi67zOLoRETkx1IC1sbkl%2BZz5MSR0w9oJkQRkXbhrfS3yCvOY2DXgYztEA8LFpgHnnrK2sBEROSCUALW1hiweu/q0%2Bs1BFFEpM0zDIPnPzeHG9434j5s8%2BZBWRnccAM4nRZHJyIiF4ISsDZo%2BZ7lp1cqARMRafM%2BOfAJaQfT6NqhK7cHjYR//tN85mvOHKtDExGRC0QJWAtat24d/fv3JyYmhvnz55/xvLfffhubzUZaWlqz3nd95nqKKooaVyoBExFp8%2Bp6v%2B523k3AH/8EVVVwyy0waJDFkYmIyIWiBKyF1NTUMGPGDNauXUt6ejpLliwhPT39tPOKi4v5y1/%2BwvDhw5v1vp18O1FZU8majDWNDygBExFplnPdHMvOzmb06NHEx8dz%2BeWXk5trTn60fft2LrnkEuLi4oiPj%2BeNN964oHFlHs1k5Z6V%2BHr78quIa2HxYvD2htmzL%2BjniIiItZSAtZDU1FRiYmKIjo7G19eXCRMmsGrVqtPOe/zxx/ntb3%2BLv79/s943OCAYgLe/frvxASVgIiLn1JybYw8%2B%2BCCTJk1i586dzJo1i0ceeQSADh068Oqrr/LVV1%2Bxbt067r33Xo5dwImP/rrlrxgY3Dr4ViKWrTPXdrz5ZoiJuWCfISIi1lMC1kLy8vLo0aOH63VUVBR5eXmNztm6dSs5OTlcc801zX7fIH9zuvk1GWsoqyprcEDT0IuInEtzbo6lp6czatQoAJKTk13H%2B/XrR9%2B%2BfQHo3r074eHhFBQUXJC4jpUf4%2BVtLwNw77CZZu8XwB13XJD3FxER96EEzCK1tbXcf//9PPvss%2Bc8d9GiRTidTpxOJ8ePHsfZ3cmJqhO8m/lu/Umahl5E5Jyac3MsISGB5cvNyY5WrFhBcXExR440Xv4jNTWVyspK%2BvTpc0HiemnrS5RWlTK692gSMksgMxMcDhg9%2BoK8v4iIuA8lYC3E4XCQk5Pjep2bm4vD4XC9Li4uZvfu3Vx%2B%2BeX06tWLzz//nJSUlCYn4pg%2BfTppaWmkpaURFhbGjQNvBGD51w1mQ9QQRBGRC%2BKZZ55h06ZNDBkyhE2bNuFwOPD29nYdP3ToEBMnTuTf//43Xl6n/xpteNOsOT1k1bXV/HXLXwFz6nleecU8MGmS%2BQyYiIi0K0rAWkhSUhIZGRlkZWVRWVnJ0qVLSUlJcR3v0qULhw8fZv/%2B/ezfv58RI0awevVqnM1Y5%2BXnA38OmOuBVdZU1r2huVUCJiJyRue6OQbm8MLly5ezbds25s6dC0DQyWHeRUVFXHPNNcydO5cRI0Y0%2BRmn3jQ7l7fT3yanKIf%2Bof25uvtIePNN88DkyefzFUVExM0pAWshdrudBQsWMHbsWAYOHMj48eOJi4tj1qxZrF7dxELKP0C/0H4MCh/E8YrjfJj1oVlZN6Rm61bIz/%2BR0YuItE/nujkGcPjwYWprawGYN28eU6dOBaCyspIbbriBSZMmcdNNN12QeAzD4LnPnwPg3hH34rVyFRQXw4gR0L//BfkMERFxL0rAWtC4ceP45ptvyMzM5NFHHwVgzpw5p/2yB9i4cWOzer/q/HyA2QvmGobYpw9cey2UlsIf//jjgxcRaYeac3Ns48aN9O/fn379%2BpGfn%2B9qv998800%2B%2BugjXnnlFRITE0lMTGT79u0/Kp7NuZtJzUslJCCESQmT6ocfTpnyo95XRETcl80wDMPqIKT5nE4naWlp7MzfScI/EgjvGM7B%2Bw/i7eUNu3ZBQgL4%2BMDevdCrl9Xhioi41LVfnuRc3/nmt25mWfoyfv8/v2duzHTo3Rt8feG77%2BpntxURsYgnttutQT1gbdTg8MH0Ce7D96Xf82nOpycrB8Ott0JlJTz5pKXxiYjI2WUVZrH86%2BX4ePkwY9gM%2BM9/wDDghhuUfImItGNKwNoom83mmozj7fQGizLPng12u/mL/JTFRUVExH28mPoitUYtEwZNoHunyPq1vzT8UESkXVMC1oa5pqPfsxzXSNI%2BfWD6dKithcceszA6ERE5k1qjln9v/zdwcur5zz6Dffuge3e44gqLoxMRkZakBKwNS3Ik4Qh0kFuUyxcHv6g/8NhjEBAAK1ZAaqp1AYqISJMyj2ZyrPwYjkAHQyKHaO0vEREPogSsDfOyebmGITZalDkyEmbONPcfecSCyERE5Gy2f2fOnpgYkQgnTsAbb5gHtPaXiEi7pwSsjXM9B/b12zSa0PLhh82HuD/4ADZssCg6ERFpSqMEbMWK%2BrW/BgywODIREWlpSsDauMt6XkZYhzD2Hd3H7u931x8IDjaTMDB7wbTagIiI29iebyZgQyKGaO0vEREPowSsjfP28ua6/tcBZi9YI7/5DXTrBmlpsHx5Ez8tIiJW2HZoGwCJteHw/vvg5we/%2BIXFUYmISGtQAtYONPkcGEDHjjBrlrn/2GNQXd3KkYmIyKnyS/I5VHKIQN9Aeq/caI5QuP56rf0lIuIhlIC1A6OjR9PZrzO7vt9FxpGMxgenTYPevWHPHnNtMBERsdSO/B0AJHRLwOvVk%2B2yhh%2BKiHgMJWDtgK%2B3L9f2uxZoohfM1xfmzDH3n3wSystbNzgREWmkbvjhECIgI8Nc%2B2vMGIujEhGR1qIErJ2oW5T5xdQXySrManzwlltg0CA4cABmz9aEHCIiFqqbgCNx5/dmxcSJWvtLRMSDKAFrJ67pdw0/6fET8orzSF6czP5j%2B%2BsPenvDM8%2BAzQbz58M990BNjWWxioh4MtcU9Gu2mhVa%2B0tExKMoAWsnfL19WXvbWkZEjSD7eDbJi5PJPpZdf8LYseZCn76%2BsHAh3HwzlJVZF7CIiAcqrSxl7%2BG92G124r4tga5dYeBAq8MSEZFWpASsHens15l1t61jmGMY%2B4/tJ3lxMgeOH6g/4eabYf16c6atFSvgiivg6FHrAhYR8TC7vt%2BFgUFsQE/8atDCyyIiHkgJWDvTxb8L797%2BLkndk8g6lkXy4mRyjufUn/DTn8Inn0BUFHz2GVx6KWRnn/kNRUTkgnENP6zpalYoARMR8ThKwNqhIP8g1k9cj7O7k28LvyV5cTK5Rbn1J8TFwebN5sQce/bAJZfA9u3WBSwi4iFcCdgRX7Oif38LoxERESsoAWungvyDWH/7eoZGDiWzMJPkxcnkFeXVnxAVBR9/bPaIHToEI0fC%2B%2B9bF7CIiAfY9t3JKeizTj6Dqx4wERGPowSsHQsOCOa9ie8xJGII%2B47uO/2ZsKAgePddGD8eiovh6qvh6aehutq6oEVE2qnq2mp25u8EIGH7d2alesBERDyOErB2LiQghA2TNpAYkUjG0QwGLRzEgtQF1NSenIbezw%2BWLIH774eqKvjd72D4cNixw9rARUTamYwjGZRXl3NR554EZ%2BaBjw/07m11WCIi0sqUgHmAkIAQNkzcwHX9r6O4sphfr/01l7x8ietZBLy84NlnYd066NkTtm4FpxMeewzKy60NXkSknagbfpjYIdqsiIkBu93CiERExApKwDxEaIdQVk5YyYpfrMAR6OCLg1/gXOTkwfUPUlJZYp40dizs3g2//rW5UPPcuTBkiDlbooiI/Ch1N72GVIWaFXr%2BS0TEIykB8zDXD7ier2d8zczhMzEweHbzs8QtjOP/vvk/84TAQPjrX80JOvr3N2dJ/J//gd/8BkpKrA1eRKQNc82AePhkr5cSMBERj6QEzAMF%2BgXywlUvsGXaFoZGDuXA8QNcu%2BRabnzzRjKOZJgnXXqpOTX9o4%2BaQxRffNGcvv6116C21tovICLSxhiGUZ%2BA7Ss1KzUBh4iIR1IC5sGc3Z1smbaF58c%2BT0efjiz/ejkD/jaAiSsmsufwHvD3h6eegrQ0GDoUDhyA2283nw977z2rwxcRaTMOFh%2Bk4EQBwf7B9Pwqx6xUD5iIiEdSAtaC1q1bR//%2B/YmJiWH%2B/PmnHX/uueeIjY0lPj6e0aNHk52d3eox2r3s3DviXtJnpHPnkDvxsnnx353/JfZvsdzy9i189f1XkJgIqanw8svgcMC2bXDllWbZtq3VYxYR%2BTHO1TZnZ2czevRo4uPjufzyy8nNrV/IfvHixfTt25e%2BffuyePHiZn%2Bmq/crIhHb3m/MSvWAiYh4JCVgLaSmpoYZM2awdu1a0tPTWbJkCenp6Y3OGTJkCGlpaezcuZObbrqJhx9%2B2KJooWeXnryU8hIZv87grovvwu5lZ%2BnupQz6%2ByBufutmdhTshqlTISMD5s%2BHLl3MXrChQ%2BG22yAry7LYRUSaqzlt84MPPsikSZPYuXMns2bN4pFHHgHg6NGjzJ49my1btpCamsrs2bMpLCxs1ue6ErCO0VBWBt26mWsxioiIx1EC1kJSU1OJiYkhOjoaX19fJkyYwKpVqxqdk5ycTIcOHQAYMWJEo7usVukV1It//OwfZP4mkxlJM/D19mVZ%2BjIS/5nIdUuvY8OhT6l9%2BCHIzDTXDvP1hddfN4fSzJwJOTlWfwURkTNqTtucnp7OqFGjALOdrjv%2B7rvvMmbMGEJCQggODmbMmDGsW7euWZ/rmoK%2BItisUO%2BXiIjHUgLWQvLy8ujRo4frdVRUFHl5eWc8/%2BWXX%2Bbqq69ujdCapUeXHiwYt4Bvf/MtM4fPxN/uz%2Bq9qxnznzEMWDCA575ZzJE//B727jWfC6uqMmdPjI6GKVPglDvKIiLuoDltc0JCAsuXLwdgxYoVFBcXc%2BTIkR/crjfkmoL%2Be2%2BzQs9/iYh4LCVgbuC///0vaWlpPPTQQ00eX7RoEU6nE6fTSUFBQavG5ujs4IWrXmD/zP3MuXwOUZ2jyDiawQPrH8DxnIPJ25/g83kzMLZtg1tuMWdIXLzYnDHxuuu0hpiItDnPPPMMmzZtYsiQIWzatAmHw4G3t3ezf/7UNruooojMwkx8vX0ZsO%2BYeZISMBERj6UErIU4HA5yGgzHy83NxeFwnHbehg0bmDt3LqtXr8bPz6/J95o%2BfTppaWmkpaURFhbWYjGfTbdO3Xj8p4%2BTNTOLlb9Yydg%2BY6moqeDVHa9yycuXcPHnd/D3%2By6jYNfn8KtfmTMorl5tTmc/ciS88w4YhiWxi4jUaU7b3L17d5YvX862bduYO3cuAEFBQc1u109ts3fm7wRgUPggfPacXOpDQxBFRDyWErAWkpSUREZGBllZWVRWVrJ06VJSUlIanbNt2zbuuusuVq9eTXh4uEWR/jB2LzvXDbiOdbevY9%2Bv9/HQTx4iNCCUbd9t41drfkXksku46pJMXnn3aY49%2BoD5kPnHH8PPfgaxsfD883D0qNVfQ0Q8VHPa5sOHD1N7cr3DefPmMXXqVADGjh3L%2BvXrKSwspLCwkPXr1zN27Nhzfua2Qyef/%2BqWaA7bBvWAiYh4MCVgLcRut7NgwQLGjh3LwIEDGT9%2BPHFxccyaNYvVq1cD8NBDD1FSUsLNN99MYmLiaX8EuLs%2BIX3405g/kXt/Lv%2B94b9cHXM1NpuNdzPf5Y4PZ9LN/0Wue/EnLJl3GyU9I2DPHnPiju7dYdIk%2BPRT9YqJSKtqTtu8ceNG%2BvfvT79%2B/cjPz%2BfRRx8FICQkhMcff5ykpCSSkpKYNWsWISEh5/xM1/NfwQMhLw/8/OCii1ruS4qIiFuzGYb%2BAm5LnE4naWlpVodxRkdOHGH518tZ%2BtVSNu7fSK1h3kUOsAcwtsNgxm0r4epV6UQVnfyBQYPgrrvMiTw0JbNIu%2Bbu7VdLcDqdGNMNth7aysc/eYn/uXKa2e7t2mV1aCIi5%2BSJ7XZrUA%2BYXFChHUL55cW/5P1J75N3fx4vXv0il/a4lLLqMlYWpTK9Tzo97of4WWH8LqUDHxXvpmrmr81esdtvhzVrzBkVRUTaAQOD3d/vBiD%2BO/OGlIYfioh4NrvVAUj7FdEpgnuG3cM9w%2B4htyiXNRlrWLtvLe9lvseuqgJ2DYWnh0Lnam%2Bu3FvG6L2v8dPJrzGAUGzjf2Eu8HzJJWCzWf1VRETOS3lVOZU1lfQJ7kPnjJMTeGgCDhERj6YETFpFVOcopl88nekXT6eiuoJPDnzCmow1rNm3hj2H97AsDpbFmeeGlR5hZPZCfnrfQn5a1Z1BV03C67bbzantRUTakBPVJwAYEjkEPtljVqoHTETEoykBk1bnZ/djdPRoRkeP5tmxz5JVmMW6fevYlL2JTdmb%2BI7veDsW3o4FOEhw2Xwue2o%2BIyq6MmzAaJxXT6PLpaPASyNoRcS9nagyE7DEbomw5w2zUj1gIiIeTQmYWK53cG/uTrqbu5PuxjAM9h3dZyZj%2Bzey6Zv3yOF7Vg%2BA1RwG3oAP3mDA294M8%2BtD0sDRDPvprST0SMLP3vQ6aiIiVnElYOGDIeMps1IJmIiIR1MCJm7FZrPRN7QvfUP7Mm3oNAzDIPt4Nh9nbeSLL1eTmr2Zbbbv2BNcwx6%2B4dXsb%2BDVv2M3bAz0dZBw0TDie40gISKB%2BG7xRHSKsPoriYgHK6sqAyCxJgzKyyEyEjp3tjgqERGxkhIwcWs2m41eQb3oNWQKE4dMAaCyuoKdHy8jddPrfHFgM6kBhXwdZrCrKpdd%2B3Jh33LXz4d3CCc%2BIp7B4YMZ0HUAA7sOZEDXAYR1DLPoG4mIJ6mprSGsQxjdDxwzK/T8l4iIx1MCJm2Or90PZ/JtOJNvMyu%2B/ZbSd1aw%2B9MV7Mz%2Bgh0hlezoBju7wfd8z4ZvN7Dh2w2N3iM0IJQBXQe4Sr/QfvQJ7kN0cDQBPgEWfCsRaa8SIxKx7d1rvlACJiLi8ZSASdsXHU3HXz/A8F8/wPCKCvj0U3j3XYy168jO3smObpAeBnu6wtcR3uwJs3Gk7Aif5nzKpzmfnvZ2jkAHfUL60Cf4ZAnpQ6%2BgXlzU5SK6deqGl02Tf4hI8yVGJMJnJxMwPf8lIuLxlIBJ%2B%2BLnB6NGwahR2J5%2Bml6HDtFr/Xqu%2B/BD%2BPBDOHAAAzgYaCZke3oG8PWgCPZF%2BJLpV8r%2B8u/IK84jrziPj7I/Ou3tfb196dmlJxd1uci1vSjoIhyBDhydHTgCHXT264xNa5eJyEmJEYmw51/mC/WAiYh4PCVg0r5FRsLkyWYB2L8f28aNODZuxPHhh4zedAA2ZblOr/bz4cClQ8h0RpMZE0pmVy8yK/PJPp5N9rFsjpQdYd/Rfew7uu%2BMH9nRp6MrGavbduvYjYhOEUR0iqBbJ3M/2D9YiZqIBxgSMQT2nFwDTD1gIiIez2YYhmF1ENJ8TqeTtLQ0q8NoP/bvh40bzWGLmzfDV1%2Bdfk6vXjBsGDidlAyJ40B0KAdqC8k%2Blk328WwOHD9g9poVmT1nddNOn4uPlw/dOnUjvGM4YR3CCOsYRteArua2Q1fCOpjb0A6hhASEEOwfrKn2pU3zxPYrcWgiX77/Ad4hoeDvD6WlWsNQRNoMT2y3W4N6wMSz9eoFU6aYBaCwELZsMZOxzz6Dzz83k7T9%2B%2BHNN%2BkExAKx/fqB02mWi6%2BC0QnQpQuGYXC84rgrGcsryuNg8UHyS/P5ruS7%2Bm1JPscrjpNblEtuUW6zw%2B3o05GQgBAzIQsIJiQghCC/IIL8g%2Bji38Xc%2BnVp9DrQN5BAv0A6%2B3XGz9tPvW4ircjuZcc742SPeb9%2BSr5EREQJmEgjwcFw1VVmAaipMXvF0tLqy44d8M03Znn99fqf7d0bW0ICQSdLXEICJI6BMyQ8ZVVl5JfmU1BaQMGJAg6fOExB6cntifrt0bKjrlJaVUppVSk5RTnn9fXsXnYCfc1kLNAvkEDfQDr6dqSTve4CvQAAEXRJREFUbyc6%2BnSko8/JfV9zv6NvRwLsAQT4BBBgD6CDTwfXft3Wz%2B6Hv90fP29za/eyK8kTaUgzIIqISANKwETOxtsb4uPNMnWqWVdZCbt31ydkX35pJmlZWWZZubL%2B5wMDzZ%2BNizNLbKy5jYggwCfAXOMsqFezQjEMg5LKkkYJ2dGyoxwrP8bxiuPmtvw4xypObk/WF1cUU1RRRHFlMZU1lRSWF1JYXnjhr9VJXjYv/Lz98LP74efth6%2B37xmLj7cPPl4%2B%2BHj7YPeyu/Z9vMxi97Lj7eWN3cvuKt42b1e9t83btfWyeTVZ17B4e51ed2qxYWt07qnvXbdfF6/dy94ofruX3fX9lIwKUP/8lxIwERFBCZjID%2BfrC0OHmmX6dLOuutq8y71jR33Zvh3y883nyz49Zbr74OD6hCw21nwwv39/6NnTTPqaYLPZzF4rv0AuCrrovEKvrKlslJAVVxSbvWqVpZRUlrj2S6vM1yeqTlBWVcaJanNbVl1WX1d1gvLqcipqKsxttbmtMWooqzbP9XQ2bI0S0bp9f7t/oxLgE1D/2ru%2Bvq53sWEPo7/dv1HieurW7mV3JZE2mw0bttO2tUYttUYtBkb9vmHu1xg11NTWUGPUmK9P7jfcVtdWn3W/urba3K%2Bt36%2Burbb6P4d19moKehERqacETORCsNvre7luvbW%2BPj8fdu2C9HSzl6yuFBbCJ5%2BYpSE/P%2Bjb13xWpC4p69cP%2BvSBsLAzDmdsLl9vX0I7hBLaIfRHvc/ZVNdWu5KxyprKs5aq2iqqaqpc2%2Bra6kZ1Df%2BAb%2BoP%2B7MlC7VGLbXUuhIMV93JJKMu4ThbOfV9G%2B5X11Y3irnh67rvV2PUUF5dTnl1eYtd77bkYi62OgRrqAdMREQaUAIm0pK6dTPLFVfU1xkGHDpUn4zt2WPeId%2B716zfvdsspwoMNBOxmJjG2%2BhocDjMJNAN2L3s2H3tdPTtaHUolqupraGyppKKmgoqqitc%2B3VJWXl1OWVVZfX71WWUVZW5zm94XsOfOzVxbbitrq3GMAxX71bdfsOtt5e3q5esrqesbvjlqcM4m9rWDQV11TUYFnrqUFHXay9vVv7vynNftPYoI8Pc9utnbRwiIuIW3OMvNhFPYrNB9%2B5mGTOm8bGiInNyj71767f79pnl%2BHFzWOP27ae/p90OPXqYszr27t1427On%2BVlukqB5Em8vbwK8zAlLBFbigQlYRYX53GhUFHTqZHU0IiLiBvQXmYg76dy5fnr7hgwDjhyBzEwzGWu4zcoye87qJgH58MPT39fLy0zCevY0S48e9VuHw/zjMDxcU2SLXGjlJ4efavihiIicpARMpC2w2aBrV7MMH3768fJyyM6uX7MsK6t%2B/8AB%2BO47yM01y2efNf0ZdjtERpoJWV1S1r27WRcRYW4jIyEk5Ec/iybiMeoSME3AISIiJykBE2kP/P3rJ%2B1oSmUl5OWZyVhOjrmt28/LM8vhw%2BbrnHOsMebrayZkdaVbN7P3rO55t4b7QUHqVRPPph4wERE5hRIwEU/g62s%2BE9a795nPKS%2BHgwfrE7K8PPP1oUNmD9qhQ2Y5frw%2BgTsXb2%2Bz1y4srOkSGnp66dBBPWzSfqgHTERETqEETERM/v7mjIrR0Wc/78SJ%2BoQsPx%2B%2B/97cnrqfn29OKlK331x%2BfvXJWEiIWYKDm94GBTUuPj4/7hqIXGjqARMRkVMoARORH6ZDh%2BYlamDOAHfkCBQUNF2OHDm91PXEHTz4w2Pr2LE%2BGevSpXHp3Pn0usBAs75h8fdXD1w7t27dOmbOnElNTQ3Tpk3jd7/7XaPjBw4cYPLkyRw7doyamhrmz5/PuHHjqKqqYtq0aWzdupXq6momTZrEI488cvYPq642/804HC34jUREpC1RAiYiLcfPr37K/eY6caI%2BGSsshKNH67en7h8/DseO1ZfSUrPk5Z1/zHa7mZidq3TqdPbSsWP9VksAuI2amhpmzJjBe%2B%2B9R1RUFElJSaSkpBAbG%2Bs656mnnmL8%2BPHcfffdpKenM27cOPbv389bb71FRUUFu3bt4sSJE8TGxnLLLbfQq1evs39o//56FlJERFz0V4GIuJcOHczSo8cP%2BznDgJISMxErLDSTs6Iic9tUKS42jzcsxcVmD1xhoVkuFD8/MxFrmJR16HD2bUBA/bVoWAICmi4%2BPuq5a4bU1FRiYmKIPtmDO2HCBFatWtUoAbPZbBQVFQFw/Phxup%2B8gWCz2SgtLaW6upqysjJ8fX3p3LnzuT9Uww9FRKQBJWAt6FzDXCoqKpg0aRJffvkloaGhvPHGG%2Be%2BkyoiTbPZ6nunfmjy1lBlpZmInauUlDRd6o7V9caVlppDMSsqzF67luLlZQ6frEvI/P3PXPz86kvD13X7vr71dU3t%2B/o2Lk3V2e1umRDm5eXRo8H/H1FRUWzZsqXROU8%2B%2BSRXXnklL774IqWlpWzYsAGAm266iVWrVhEZGcmJEyd4/vnnCQkJOfeHagIOERFpQAlYC2nOMJeXX36Z4OBg9u3bx9KlS/ntb3/LG2%2B8YWHUIoKvb/0kIBeCYZi9anXJWEmJOcyy7nXdfsO6sjLzdV1p6vWppbq6/ri7ODUpayPPQS1ZsoQpU6bwwAMPsHnzZiZOnMju3btJTU3F29ubgwcPUlhYyGWXXcYVV1zh6k2rs2jRIhYtWlRfoR4wERFpQAlYC2nOMJdVq1bx5JNPAuad1XvuuQfDMLC54V1jETlPNlt9r1TXri33OdXV9clYRYWZ9J1aysrMbV2PXMP9hq8rK%2BvrGu5XVEBVVX1dZWXj0vB4dXV9fR03SMAcDgc5Dda6y83NxXFKXC%2B//DLr1q0D4JJLLqG8vJzDhw/z%2Buuvc9VVV%2BHj40N4eDiXXnopaWlppyVg06dPZ/r06QA4bTb1gImISCNKwFpIc4a5NDzHbrfTpUsXjhw5QteW/CNNRNqnhpOHuIPa2vpkrK5ce63VUZGUlERGRgZZWVk4HA6WLl3K66%2B/3uicnj178v777zNlyhS%2B/vprysvLCQsLo2fPnnzwwQdMnDiR0tJSPv/8c%2B69996zf2BsrFlERERO0rRMbcCiRYtwOp04nU4KCgqsDkdE5Ny8vMxnwwIDzeGckZFWRwSYN7sWLFjA2LFjGThwIOPHjycuLo5Zs2axevVqAJ599ln%2B9a9/kZCQwC233MIrr7yCzWZjxowZlJSUEBcXR1JSEnfccQfx8fFn/8CAAHP4pYiIyEnqAWshzRnmUndOVFQU1dXVHD9%2BnNAmnjtpNJzF6WzZwEVE2rlx48Yxbty4RnVz5sxx7cfGxvLpp5%2Be9nOdOnXirbfeavH4RESkfVMPWAtpOMylsrKSpUuXkpKS0uiclJQUFi9eDMCyZcsYNWqUnv8SEREREWnH1APWQhoOc6mpqWHq1KmuYS5Op5OUlBTuvPNOJk6cSExMDCEhISxdutTqsEVEREREpAUpAWtB5xrm4u/vr%2BEsIiIiIiIeREMQRUREREREWokSMBERERERkVaiBExERERERKSV2AzDMKwOQpqvU6dODBgwwOowmlRQUEBYWJjVYTRJsZ0fxXZ%2BFFvT9u/fz%2BHDhy35bKuozT4/iu38KLbzo9jOzBPb7dagSTjamAEDBpCWlmZ1GE1yOp2K7TwotvOj2M6PO8fWHqnNPj%2BK7fwotvOj2KS1aQiiiIiIiIhIK1ECJiIiIiIi0kq8n3zyySetDkJ%2BmIsvvtjqEM5IsZ0fxXZ%2BFNv5cefY2iN3vt6K7fwotvOj2M6PO8cm50eTcIiIiIiIiLQSDUEUERERERFpJUrA2pB169bRv39/YmJimD9/vtXhNNKrVy8GDx5MYmIiTqfT0limTp1KeHg4gwYNctUdPXqUMWPG0LdvX8aMGUNhYaHbxPbkk0/icDhITEwkMTGRNWvWWBJbTk4OycnJxMbGEhcXx1/%2B8hfA%2Bmt3prjc5bqVl5czbNgwEhISiIuL44knngAgKyuL4cOHExMTwy9%2B8QsqKyvdJrYpU6bQu3dv17Xbvn17q8fmCdRmN4/a7PPjrm322WJzh2unNlvcgiFtQnV1tREdHW1kZmYaFRUVRnx8vPHVV19ZHZbLRRddZBQUFFgdhmEYhrFp0ybjyy%2B/NOLi4lx1Dz30kDFv3jzDMAxj3rx5xsMPP%2Bw2sT3xxBPGn//8Z0viaejgwYPGl19%2BaRiGYRQVFRl9%2B/Y1vvrqK8uv3ZnicpfrVltbaxQXFxuGYRiVlZXGsGHDjM2bNxs333yzsWTJEsMwDOOuu%2B4yFi5c6DaxTZ482XjrrbdaPR5Poja7%2BdRmnx93bbPPFps7XDu12eIO1APWRqSmphITE0N0dDS%2Bvr5MmDCBVatWWR2WWxo5ciQhISGN6latWsXkyZMBmDx5MitXrrQitCZjcxeRkZEMHToUgMDAQAYOHEheXp7l1%2B5McbkLm81Gp06dAKiqqqKqqgqbzcYHH3zATTfdBFj3/9yZYpOWpza7%2BdRmnx93bbPPFps7UJst7kAJWBuRl5dHjx49XK%2BjoqLcpjEDs9G48sorufjii1m0aJHV4ZwmPz%2BfyMhIACIiIsjPz7c4osYWLFhAfHw8U6dOtWyoTUP79%2B9n27ZtDB8%2B3K2uXcO4wH2uW01NDYmJiYSHhzNmzBj69OlDUFAQdru51r2V/15Pja3u2j366KPEx8dz3333UVFRYUls7Zna7B/HndqdprhL21PHXdvsU2MD97h2arPFakrA5IL45JNP2Lp1K2vXruVvf/sbH330kdUhnZHNZnOrO0p33303mZmZbN%2B%2BncjISB544AFL4ykpKeHGG2/khRdeoHPnzo2OWXntTo3Lna6bt7c327dvJzc3l9TUVPbs2WNZLKc6Nbbdu3czb9489uzZwxdffMHRo0d5%2BumnrQ5TWpna7PPnTm0PuG%2BbDe7bbqvNFqspAWsjHA4HOTk5rte5ubk4HA4LI2qsLpbw8HBuuOEGUlNTLY6osW7dunHo0CEADh06RHh4uMUR1evWrRve3t54eXnxy1/%2B0tJrV1VVxY033shtt93Gz3/%2Bc1d8Vl%2B7M8XlLtetTlBQEMnJyWzevJljx45RXV0NuMe/17rY1q1bR2RkJDabDT8/P%2B644w63uHbtjdrsH8cd2p0zcae2x13b7LPF5i7XDtRmi3WUgLURSUlJZGRkkJWVRWVlJUuXLiUlJcXqsAAoLS2luLjYtb9%2B/fpGM0a5g5SUFBYvXgzA4sWLue666yyOqF7dL0qAFStWWHbtDMPgzjvvZODAgdx///2uequv3ZnicpfrVlBQwLFjxwAoKyvjvffeY%2BDAgSQnJ7Ns2TLAuv/nmoptwIABrmtnGAYrV650u3%2Bv7YHa7B/H6nbnbNyl7XHXNvtssbnDtVObLW7ByhlA5Id55513jL59%2BxrR0dHGU089ZXU4LpmZmUZ8fLwRHx9vxMbGWh7bhAkTjIiICMNutxsOh8N46aWXjMOHDxujRo0yYmJijNGjRxtHjhxxm9huv/12Y9CgQcbgwYONa6%2B91jh48KAlsX388ccGYAwePNhISEgwEhISjHfeecfya3emuNzluu3YscNITEw0Bg8ebMTFxRmzZ882DMP8d5GUlGT06dPHuOmmm4zy8nK3iS05OdkYNGiQERcXZ9x2222uWbfkwlKb3Txqs8%2BPu7bZZ4vNHa6d2mxxBzbDMAxrU0ARERERERHPoCGIIiIiIiIirUQJmIiIiIiISCtRAiYiIiIiItJKlICJiIiIiIi0EiVgIiIiIiIirUQJmIiIiIiISCtRAiYiIiIiItJKlICJiIiIiIi0EiVgIiIiIiIirUQJmIiIiIiISCtRAiYiIiIiItJKlICJiIiIiIi0EiVgIiIiIiIirUQJmIiIiIiISCtRAiYiIiIiItJKlICJiIiIiIi0EiVgIiIiIiIirUQJmIiIiIiISCtRAiYiIiIiItJKlICJiIiIiIi0kv8PgqyrWAOnHnIAAAAASUVORK5CYII%3D\">"
      ]
     },
     "metadata": {},
     "output_type": "display_data"
    }
   ],
   "source": [
    "s.run(tf.global_variables_initializer())\n",
    "\n",
    "BATCH_SIZE = 512\n",
    "EPOCHS = 40\n",
    "\n",
    "# for logging the progress right here in Jupyter (for those who don't have TensorBoard)\n",
    "simpleTrainingCurves = matplotlib_utils.SimpleTrainingCurves(\"cross-entropy\", \"accuracy\")\n",
    "\n",
    "for epoch in range(EPOCHS):  # we finish an epoch when we've looked at all training samples\n",
    "    \n",
    "    batch_losses = []\n",
    "    for batch_start in range(0, X_train_flat.shape[0], BATCH_SIZE):  # data is already shuffled\n",
    "        _, batch_loss = s.run([step, loss], {input_X: X_train_flat[batch_start:batch_start+BATCH_SIZE], \n",
    "                                             input_y: y_train_oh[batch_start:batch_start+BATCH_SIZE]})\n",
    "        # collect batch losses, this is almost free as we need a forward pass for backprop anyway\n",
    "        batch_losses.append(batch_loss)\n",
    "\n",
    "    train_loss = np.mean(batch_losses)\n",
    "    val_loss = s.run(loss, {input_X: X_val_flat, input_y: y_val_oh})  # this part is usually small\n",
    "    train_accuracy = accuracy_score(y_train, s.run(classes, {input_X: X_train_flat}))  # this is slow and usually skipped\n",
    "    valid_accuracy = accuracy_score(y_val, s.run(classes, {input_X: X_val_flat}))  \n",
    "    simpleTrainingCurves.add(train_loss, val_loss, train_accuracy, valid_accuracy)"
   ]
  },
  {
   "cell_type": "markdown",
   "metadata": {},
   "source": [
    "# Submit the MLP with 2 hidden layers\n",
    "Run these cells after training the MLP with 2 hidden layers"
   ]
  },
  {
   "cell_type": "code",
   "execution_count": 18,
   "metadata": {},
   "outputs": [],
   "source": [
    "## GRADED PART, DO NOT CHANGE!\n",
    "# Validation loss for MLP\n",
    "grader.set_answer(\"i8bgs\", s.run(loss, {input_X: X_val_flat, input_y: y_val_oh}))\n",
    "# Validation accuracy for MLP\n",
    "grader.set_answer(\"rE763\", accuracy_score(y_val, s.run(classes, {input_X: X_val_flat})))"
   ]
  },
  {
   "cell_type": "code",
   "execution_count": 19,
   "metadata": {},
   "outputs": [
    {
     "name": "stdout",
     "output_type": "stream",
     "text": [
      "Submitted to Coursera platform. See results on assignment page!\n"
     ]
    }
   ],
   "source": [
    "# you can make submission with answers so far to check yourself at this stage\n",
    "grader.submit(COURSERA_EMAIL, COURSERA_TOKEN)"
   ]
  },
  {
   "cell_type": "code",
   "execution_count": null,
   "metadata": {},
   "outputs": [],
   "source": []
  }
 ],
 "metadata": {
  "kernelspec": {
   "display_name": "Python 3",
   "language": "python",
   "name": "python3"
  },
  "language_info": {
   "codemirror_mode": {
    "name": "ipython",
    "version": 3
   },
   "file_extension": ".py",
   "mimetype": "text/x-python",
   "name": "python",
   "nbconvert_exporter": "python",
   "pygments_lexer": "ipython3",
   "version": "3.7.2"
  }
 },
 "nbformat": 4,
 "nbformat_minor": 1
}
