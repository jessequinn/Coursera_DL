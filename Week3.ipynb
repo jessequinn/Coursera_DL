{
 "cells": [
  {
   "cell_type": "code",
   "execution_count": 1,
   "metadata": {},
   "outputs": [
    {
     "name": "stdout",
     "output_type": "stream",
     "text": [
      "[[4 6]\n",
      " [3 4]]\n",
      "7\n"
     ]
    }
   ],
   "source": [
    "import numpy as np\n",
    "\n",
    "patch = np.array([[1, 1], \n",
    "                  [0, 1]])\n",
    "\n",
    "kernel = np.array([[1, 2], \n",
    "                   [3, 4]])\n",
    "\n",
    "# this is wrong\n",
    "print(patch.dot(kernel))\n",
    "\n",
    "# this is how convolution really works\n",
    "print(patch.flatten().dot(kernel.flatten()))"
   ]
  },
  {
   "cell_type": "code",
   "execution_count": 6,
   "metadata": {},
   "outputs": [],
   "source": [
    "# convolutions kernels\n",
    "\n",
    "# edge detection\n",
    "\n",
    "edge_detection_kernel = np.array([\n",
    "    [-1,-1,-1],\n",
    "    [-1,8,-1],\n",
    "    [-1,-1,-1]\n",
    "])\n",
    "\n",
    "# sharpening\n",
    "\n",
    "sharpening_kernel = np.array([\n",
    "    [0,-1,0],\n",
    "    [-1,8,-1],\n",
    "    [0,-1,0]\n",
    "])\n",
    "\n",
    "# blurring\n",
    "\n",
    "blurring_kernel = np.array([\n",
    "    [1,1,1],\n",
    "    [1,1,1],\n",
    "    [1,1,1]\n",
    "])\n"
   ]
  },
  {
   "cell_type": "code",
   "execution_count": null,
   "metadata": {},
   "outputs": [],
   "source": []
  }
 ],
 "metadata": {
  "kernelspec": {
   "display_name": "Python 3",
   "language": "python",
   "name": "python3"
  },
  "language_info": {
   "codemirror_mode": {
    "name": "ipython",
    "version": 3
   },
   "file_extension": ".py",
   "mimetype": "text/x-python",
   "name": "python",
   "nbconvert_exporter": "python",
   "pygments_lexer": "ipython3",
   "version": "3.7.2"
  }
 },
 "nbformat": 4,
 "nbformat_minor": 2
}
